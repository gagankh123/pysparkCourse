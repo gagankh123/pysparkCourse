{
 "cells": [
  {
   "cell_type": "code",
   "execution_count": 2,
   "metadata": {},
   "outputs": [],
   "source": [
    "from pyspark.sql import SparkSession"
   ]
  },
  {
   "cell_type": "code",
   "execution_count": 3,
   "metadata": {},
   "outputs": [],
   "source": [
    "spark  = SparkSession.builder.appName('AdvancedSpark').getOrCreate()"
   ]
  },
  {
   "cell_type": "code",
   "execution_count": 4,
   "metadata": {},
   "outputs": [],
   "source": [
    "pyspark_df = spark.read.csv('test2.csv', header=True, inferSchema=True)"
   ]
  },
  {
   "cell_type": "code",
   "execution_count": 5,
   "metadata": {},
   "outputs": [
    {
     "name": "stdout",
     "output_type": "stream",
     "text": [
      "+-----+----------+----------------+------+\n",
      "| Name|Experience|          Course|Salary|\n",
      "+-----+----------+----------------+------+\n",
      "|Gagan|         6|    Data Science| 10000|\n",
      "|Radha|         6|             C++|  8000|\n",
      "|Radha|         4|    Data Science|  7000|\n",
      "| Ajay|         6|        Big Data|  9000|\n",
      "|Gagan|         5|Machine Learning| 12000|\n",
      "| Ajay|         4|          Python|  4000|\n",
      "|Gagan|         3|        Big Data|  7000|\n",
      "+-----+----------+----------------+------+\n",
      "\n"
     ]
    }
   ],
   "source": [
    "pyspark_df.show()"
   ]
  },
  {
   "cell_type": "code",
   "execution_count": 6,
   "metadata": {},
   "outputs": [
    {
     "name": "stdout",
     "output_type": "stream",
     "text": [
      "root\n",
      " |-- Name: string (nullable = true)\n",
      " |-- Experience: integer (nullable = true)\n",
      " |-- Course: string (nullable = true)\n",
      " |-- Salary: integer (nullable = true)\n",
      "\n"
     ]
    }
   ],
   "source": [
    "pyspark_df.printSchema()"
   ]
  },
  {
   "cell_type": "code",
   "execution_count": 7,
   "metadata": {},
   "outputs": [
    {
     "name": "stdout",
     "output_type": "stream",
     "text": [
      "+-----+---------------+-----------+\n",
      "| Name|sum(Experience)|sum(Salary)|\n",
      "+-----+---------------+-----------+\n",
      "|Gagan|             14|      29000|\n",
      "| Ajay|             10|      13000|\n",
      "|Radha|             10|      15000|\n",
      "+-----+---------------+-----------+\n",
      "\n"
     ]
    }
   ],
   "source": [
    "# groupby\n",
    "pyspark_df.groupBy('Name').sum().show()"
   ]
  },
  {
   "cell_type": "code",
   "execution_count": 8,
   "metadata": {},
   "outputs": [
    {
     "name": "stdout",
     "output_type": "stream",
     "text": [
      "+-----+-----------+\n",
      "| Name|sum(Salary)|\n",
      "+-----+-----------+\n",
      "|Gagan|      29000|\n",
      "| Ajay|      13000|\n",
      "|Radha|      15000|\n",
      "+-----+-----------+\n",
      "\n"
     ]
    }
   ],
   "source": [
    "pyspark_df.drop('Experience').groupBy('Name').sum().show()"
   ]
  },
  {
   "cell_type": "code",
   "execution_count": 9,
   "metadata": {},
   "outputs": [
    {
     "name": "stdout",
     "output_type": "stream",
     "text": [
      "+----------------+---------------+-----------+\n",
      "|          Course|sum(Experience)|sum(Salary)|\n",
      "+----------------+---------------+-----------+\n",
      "|Machine Learning|              5|      12000|\n",
      "|             C++|              6|       8000|\n",
      "|        Big Data|              9|      16000|\n",
      "|          Python|              4|       4000|\n",
      "|    Data Science|             10|      17000|\n",
      "+----------------+---------------+-----------+\n",
      "\n"
     ]
    }
   ],
   "source": [
    "# group by course\n",
    "pyspark_df.groupBy('Course').sum().show()"
   ]
  },
  {
   "cell_type": "code",
   "execution_count": 10,
   "metadata": {},
   "outputs": [
    {
     "name": "stdout",
     "output_type": "stream",
     "text": [
      "+----------------+---------------+-----------+\n",
      "|          Course|avg(Experience)|avg(Salary)|\n",
      "+----------------+---------------+-----------+\n",
      "|Machine Learning|            5.0|    12000.0|\n",
      "|             C++|            6.0|     8000.0|\n",
      "|        Big Data|            4.5|     8000.0|\n",
      "|          Python|            4.0|     4000.0|\n",
      "|    Data Science|            5.0|     8500.0|\n",
      "+----------------+---------------+-----------+\n",
      "\n"
     ]
    }
   ],
   "source": [
    "# group by course\n",
    "pyspark_df.groupBy('Course').mean().show()"
   ]
  },
  {
   "cell_type": "code",
   "execution_count": 11,
   "metadata": {},
   "outputs": [
    {
     "name": "stdout",
     "output_type": "stream",
     "text": [
      "+----------------+-----+\n",
      "|          Course|count|\n",
      "+----------------+-----+\n",
      "|Machine Learning|    1|\n",
      "|             C++|    1|\n",
      "|        Big Data|    2|\n",
      "|          Python|    1|\n",
      "|    Data Science|    2|\n",
      "+----------------+-----+\n",
      "\n"
     ]
    }
   ],
   "source": [
    "pyspark_df.groupBy('Course').count().show()"
   ]
  },
  {
   "cell_type": "code",
   "execution_count": 12,
   "metadata": {},
   "outputs": [
    {
     "name": "stdout",
     "output_type": "stream",
     "text": [
      "+-----------+\n",
      "|sum(Salary)|\n",
      "+-----------+\n",
      "|      57000|\n",
      "+-----------+\n",
      "\n"
     ]
    }
   ],
   "source": [
    "pyspark_df.agg({'Salary': 'sum'}).show()"
   ]
  },
  {
   "cell_type": "code",
   "execution_count": 13,
   "metadata": {},
   "outputs": [
    {
     "name": "stdout",
     "output_type": "stream",
     "text": [
      "+-----+---------------+-----------+\n",
      "| Name|max(Experience)|max(Salary)|\n",
      "+-----+---------------+-----------+\n",
      "|Gagan|              6|      12000|\n",
      "| Ajay|              6|       9000|\n",
      "|Radha|              6|       8000|\n",
      "+-----+---------------+-----------+\n",
      "\n"
     ]
    }
   ],
   "source": [
    "pyspark_df.groupBy('Name').max().show()"
   ]
  },
  {
   "cell_type": "code",
   "execution_count": 14,
   "metadata": {},
   "outputs": [
    {
     "name": "stdout",
     "output_type": "stream",
     "text": [
      "+-----+---------------+-----------+\n",
      "| Name|min(Experience)|min(Salary)|\n",
      "+-----+---------------+-----------+\n",
      "|Gagan|              3|       7000|\n",
      "| Ajay|              4|       4000|\n",
      "|Radha|              4|       7000|\n",
      "+-----+---------------+-----------+\n",
      "\n"
     ]
    }
   ],
   "source": [
    "pyspark_df.groupBy('Name').min().show()"
   ]
  },
  {
   "cell_type": "code",
   "execution_count": 15,
   "metadata": {},
   "outputs": [
    {
     "name": "stdout",
     "output_type": "stream",
     "text": [
      "+-----+-----------------+-----------------+\n",
      "| Name|  avg(Experience)|      avg(Salary)|\n",
      "+-----+-----------------+-----------------+\n",
      "|Gagan|4.666666666666667|9666.666666666666|\n",
      "| Ajay|              5.0|           6500.0|\n",
      "|Radha|              5.0|           7500.0|\n",
      "+-----+-----------------+-----------------+\n",
      "\n"
     ]
    }
   ],
   "source": [
    "pyspark_df.groupBy('Name').avg().show()"
   ]
  },
  {
   "cell_type": "code",
   "execution_count": null,
   "metadata": {},
   "outputs": [],
   "source": []
  },
  {
   "cell_type": "code",
   "execution_count": null,
   "metadata": {},
   "outputs": [],
   "source": []
  },
  {
   "cell_type": "code",
   "execution_count": null,
   "metadata": {},
   "outputs": [],
   "source": []
  },
  {
   "cell_type": "code",
   "execution_count": null,
   "metadata": {},
   "outputs": [],
   "source": []
  }
 ],
 "metadata": {
  "kernelspec": {
   "display_name": "py_37",
   "language": "python",
   "name": "python3"
  },
  "language_info": {
   "codemirror_mode": {
    "name": "ipython",
    "version": 3
   },
   "file_extension": ".py",
   "mimetype": "text/x-python",
   "name": "python",
   "nbconvert_exporter": "python",
   "pygments_lexer": "ipython3",
   "version": "3.7.10"
  }
 },
 "nbformat": 4,
 "nbformat_minor": 2
}
