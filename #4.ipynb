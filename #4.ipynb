{
 "cells": [
  {
   "cell_type": "code",
   "execution_count": 2,
   "metadata": {},
   "outputs": [],
   "source": [
    "from pyspark.sql import SparkSession\n",
    "spark = SparkSession.builder.appName('Tips').getOrCreate()"
   ]
  },
  {
   "cell_type": "code",
   "execution_count": 3,
   "metadata": {},
   "outputs": [],
   "source": [
    "tips_df = spark.read.csv('tips.csv', inferSchema=True, header=True)"
   ]
  },
  {
   "cell_type": "code",
   "execution_count": 4,
   "metadata": {},
   "outputs": [
    {
     "name": "stdout",
     "output_type": "stream",
     "text": [
      "+----------+----+------+------+---+------+----+\n",
      "|total_bill| tip|   sex|smoker|day|  time|size|\n",
      "+----------+----+------+------+---+------+----+\n",
      "|     16.99|1.01|Female|    No|Sun|Dinner|   2|\n",
      "|     10.34|1.66|  Male|    No|Sun|Dinner|   3|\n",
      "|     21.01| 3.5|  Male|    No|Sun|Dinner|   3|\n",
      "|     23.68|3.31|  Male|    No|Sun|Dinner|   2|\n",
      "|     24.59|3.61|Female|    No|Sun|Dinner|   4|\n",
      "|     25.29|4.71|  Male|    No|Sun|Dinner|   4|\n",
      "|      8.77| 2.0|  Male|    No|Sun|Dinner|   2|\n",
      "|     26.88|3.12|  Male|    No|Sun|Dinner|   4|\n",
      "|     15.04|1.96|  Male|    No|Sun|Dinner|   2|\n",
      "|     14.78|3.23|  Male|    No|Sun|Dinner|   2|\n",
      "|     10.27|1.71|  Male|    No|Sun|Dinner|   2|\n",
      "|     35.26| 5.0|Female|    No|Sun|Dinner|   4|\n",
      "|     15.42|1.57|  Male|    No|Sun|Dinner|   2|\n",
      "|     18.43| 3.0|  Male|    No|Sun|Dinner|   4|\n",
      "|     14.83|3.02|Female|    No|Sun|Dinner|   2|\n",
      "|     21.58|3.92|  Male|    No|Sun|Dinner|   2|\n",
      "|     10.33|1.67|Female|    No|Sun|Dinner|   3|\n",
      "|     16.29|3.71|  Male|    No|Sun|Dinner|   3|\n",
      "|     16.97| 3.5|Female|    No|Sun|Dinner|   3|\n",
      "|     20.65|3.35|  Male|    No|Sat|Dinner|   3|\n",
      "+----------+----+------+------+---+------+----+\n",
      "only showing top 20 rows\n",
      "\n"
     ]
    }
   ],
   "source": [
    "tips_df.show()"
   ]
  },
  {
   "cell_type": "code",
   "execution_count": 5,
   "metadata": {},
   "outputs": [
    {
     "name": "stdout",
     "output_type": "stream",
     "text": [
      "root\n",
      " |-- total_bill: double (nullable = true)\n",
      " |-- tip: double (nullable = true)\n",
      " |-- sex: string (nullable = true)\n",
      " |-- smoker: string (nullable = true)\n",
      " |-- day: string (nullable = true)\n",
      " |-- time: string (nullable = true)\n",
      " |-- size: integer (nullable = true)\n",
      "\n"
     ]
    }
   ],
   "source": [
    "tips_df.printSchema()"
   ]
  },
  {
   "cell_type": "code",
   "execution_count": 6,
   "metadata": {},
   "outputs": [
    {
     "data": {
      "text/plain": [
       "['total_bill', 'tip', 'sex', 'smoker', 'day', 'time', 'size']"
      ]
     },
     "execution_count": 6,
     "metadata": {},
     "output_type": "execute_result"
    }
   ],
   "source": [
    "tips_df.columns"
   ]
  },
  {
   "cell_type": "markdown",
   "metadata": {},
   "source": [
    "### categorical feature"
   ]
  },
  {
   "cell_type": "code",
   "execution_count": 8,
   "metadata": {},
   "outputs": [],
   "source": [
    "from pyspark.ml.feature import StringIndexer"
   ]
  },
  {
   "cell_type": "code",
   "execution_count": 9,
   "metadata": {},
   "outputs": [
    {
     "name": "stdout",
     "output_type": "stream",
     "text": [
      "+----------+----+------+------+---+------+----+---------+\n",
      "|total_bill| tip|   sex|smoker|day|  time|size|sex_index|\n",
      "+----------+----+------+------+---+------+----+---------+\n",
      "|     16.99|1.01|Female|    No|Sun|Dinner|   2|      1.0|\n",
      "|     10.34|1.66|  Male|    No|Sun|Dinner|   3|      0.0|\n",
      "|     21.01| 3.5|  Male|    No|Sun|Dinner|   3|      0.0|\n",
      "|     23.68|3.31|  Male|    No|Sun|Dinner|   2|      0.0|\n",
      "|     24.59|3.61|Female|    No|Sun|Dinner|   4|      1.0|\n",
      "|     25.29|4.71|  Male|    No|Sun|Dinner|   4|      0.0|\n",
      "|      8.77| 2.0|  Male|    No|Sun|Dinner|   2|      0.0|\n",
      "|     26.88|3.12|  Male|    No|Sun|Dinner|   4|      0.0|\n",
      "|     15.04|1.96|  Male|    No|Sun|Dinner|   2|      0.0|\n",
      "|     14.78|3.23|  Male|    No|Sun|Dinner|   2|      0.0|\n",
      "|     10.27|1.71|  Male|    No|Sun|Dinner|   2|      0.0|\n",
      "|     35.26| 5.0|Female|    No|Sun|Dinner|   4|      1.0|\n",
      "|     15.42|1.57|  Male|    No|Sun|Dinner|   2|      0.0|\n",
      "|     18.43| 3.0|  Male|    No|Sun|Dinner|   4|      0.0|\n",
      "|     14.83|3.02|Female|    No|Sun|Dinner|   2|      1.0|\n",
      "|     21.58|3.92|  Male|    No|Sun|Dinner|   2|      0.0|\n",
      "|     10.33|1.67|Female|    No|Sun|Dinner|   3|      1.0|\n",
      "|     16.29|3.71|  Male|    No|Sun|Dinner|   3|      0.0|\n",
      "|     16.97| 3.5|Female|    No|Sun|Dinner|   3|      1.0|\n",
      "|     20.65|3.35|  Male|    No|Sat|Dinner|   3|      0.0|\n",
      "+----------+----+------+------+---+------+----+---------+\n",
      "only showing top 20 rows\n",
      "\n"
     ]
    }
   ],
   "source": [
    "indexer = StringIndexer(inputCol='sex', outputCol='sex_index')\n",
    "tips_indexer = indexer.fit(tips_df).transform(tips_df)\n",
    "tips_indexer.show()"
   ]
  },
  {
   "cell_type": "code",
   "execution_count": 14,
   "metadata": {},
   "outputs": [],
   "source": [
    "# throwing error because of the old version of pyspark=2.3.2\n",
    "# whereas inputCols & outputCols are working on pyspark>3\n",
    "\n",
    "\n",
    "# indexer = StringIndexer(inputCols=['smoker', 'day', 'time'], outputCols=['smoker_index','day_index', 'time_index'])\n",
    "# tips_indexer = indexer.fit(tips_indexer).transform(tips_indexer)"
   ]
  },
  {
   "cell_type": "code",
   "execution_count": 15,
   "metadata": {},
   "outputs": [
    {
     "name": "stderr",
     "output_type": "stream",
     "text": [
      "Exception ignored in: <function JavaParams.__del__ at 0x7fe1b97a5830>\n",
      "Traceback (most recent call last):\n",
      "  File \"/home/gagan/anaconda3/envs/py_37/lib/python3.7/site-packages/pyspark/ml/wrapper.py\", line 105, in __del__\n",
      "    SparkContext._active_spark_context._gateway.detach(self._java_obj)\n",
      "AttributeError: 'StringIndexer' object has no attribute '_java_obj'\n",
      "Exception ignored in: <function JavaParams.__del__ at 0x7fe1b97a5830>\n",
      "Traceback (most recent call last):\n",
      "  File \"/home/gagan/anaconda3/envs/py_37/lib/python3.7/site-packages/pyspark/ml/wrapper.py\", line 105, in __del__\n",
      "    SparkContext._active_spark_context._gateway.detach(self._java_obj)\n",
      "AttributeError: 'StringIndexer' object has no attribute '_java_obj'\n",
      "Exception ignored in: <function JavaParams.__del__ at 0x7fe1b97a5830>\n",
      "Traceback (most recent call last):\n",
      "  File \"/home/gagan/anaconda3/envs/py_37/lib/python3.7/site-packages/pyspark/ml/wrapper.py\", line 105, in __del__\n",
      "    SparkContext._active_spark_context._gateway.detach(self._java_obj)\n",
      "AttributeError: 'StringIndexer' object has no attribute '_java_obj'\n"
     ]
    },
    {
     "name": "stdout",
     "output_type": "stream",
     "text": [
      "+----------+----+------+------+---+------+----+---------+------------+---------+----------+\n",
      "|total_bill| tip|   sex|smoker|day|  time|size|sex_index|smoker_index|day_index|time_index|\n",
      "+----------+----+------+------+---+------+----+---------+------------+---------+----------+\n",
      "|     16.99|1.01|Female|    No|Sun|Dinner|   2|      1.0|         0.0|      1.0|       0.0|\n",
      "|     10.34|1.66|  Male|    No|Sun|Dinner|   3|      0.0|         0.0|      1.0|       0.0|\n",
      "|     21.01| 3.5|  Male|    No|Sun|Dinner|   3|      0.0|         0.0|      1.0|       0.0|\n",
      "|     23.68|3.31|  Male|    No|Sun|Dinner|   2|      0.0|         0.0|      1.0|       0.0|\n",
      "|     24.59|3.61|Female|    No|Sun|Dinner|   4|      1.0|         0.0|      1.0|       0.0|\n",
      "|     25.29|4.71|  Male|    No|Sun|Dinner|   4|      0.0|         0.0|      1.0|       0.0|\n",
      "|      8.77| 2.0|  Male|    No|Sun|Dinner|   2|      0.0|         0.0|      1.0|       0.0|\n",
      "|     26.88|3.12|  Male|    No|Sun|Dinner|   4|      0.0|         0.0|      1.0|       0.0|\n",
      "|     15.04|1.96|  Male|    No|Sun|Dinner|   2|      0.0|         0.0|      1.0|       0.0|\n",
      "|     14.78|3.23|  Male|    No|Sun|Dinner|   2|      0.0|         0.0|      1.0|       0.0|\n",
      "|     10.27|1.71|  Male|    No|Sun|Dinner|   2|      0.0|         0.0|      1.0|       0.0|\n",
      "|     35.26| 5.0|Female|    No|Sun|Dinner|   4|      1.0|         0.0|      1.0|       0.0|\n",
      "|     15.42|1.57|  Male|    No|Sun|Dinner|   2|      0.0|         0.0|      1.0|       0.0|\n",
      "|     18.43| 3.0|  Male|    No|Sun|Dinner|   4|      0.0|         0.0|      1.0|       0.0|\n",
      "|     14.83|3.02|Female|    No|Sun|Dinner|   2|      1.0|         0.0|      1.0|       0.0|\n",
      "|     21.58|3.92|  Male|    No|Sun|Dinner|   2|      0.0|         0.0|      1.0|       0.0|\n",
      "|     10.33|1.67|Female|    No|Sun|Dinner|   3|      1.0|         0.0|      1.0|       0.0|\n",
      "|     16.29|3.71|  Male|    No|Sun|Dinner|   3|      0.0|         0.0|      1.0|       0.0|\n",
      "|     16.97| 3.5|Female|    No|Sun|Dinner|   3|      1.0|         0.0|      1.0|       0.0|\n",
      "|     20.65|3.35|  Male|    No|Sat|Dinner|   3|      0.0|         0.0|      0.0|       0.0|\n",
      "+----------+----+------+------+---+------+----+---------+------------+---------+----------+\n",
      "only showing top 20 rows\n",
      "\n"
     ]
    }
   ],
   "source": [
    "indexer = StringIndexer(inputCol='smoker', outputCol='smoker_index')\n",
    "tips_indexer = indexer.fit(tips_indexer).transform(tips_indexer)\n",
    "indexer = StringIndexer(inputCol='day', outputCol='day_index')\n",
    "tips_indexer = indexer.fit(tips_indexer).transform(tips_indexer)\n",
    "indexer = StringIndexer(inputCol='time', outputCol='time_index')\n",
    "tips_indexer = indexer.fit(tips_indexer).transform(tips_indexer)\n",
    "tips_indexer.show()"
   ]
  },
  {
   "cell_type": "code",
   "execution_count": 16,
   "metadata": {},
   "outputs": [
    {
     "name": "stdout",
     "output_type": "stream",
     "text": [
      "root\n",
      " |-- total_bill: double (nullable = true)\n",
      " |-- tip: double (nullable = true)\n",
      " |-- sex: string (nullable = true)\n",
      " |-- smoker: string (nullable = true)\n",
      " |-- day: string (nullable = true)\n",
      " |-- time: string (nullable = true)\n",
      " |-- size: integer (nullable = true)\n",
      " |-- sex_index: double (nullable = false)\n",
      " |-- smoker_index: double (nullable = false)\n",
      " |-- day_index: double (nullable = false)\n",
      " |-- time_index: double (nullable = false)\n",
      "\n"
     ]
    }
   ],
   "source": [
    "tips_indexer.printSchema()"
   ]
  },
  {
   "cell_type": "code",
   "execution_count": 20,
   "metadata": {},
   "outputs": [],
   "source": [
    "from pyspark.ml.feature import VectorAssembler\n",
    "feature_assembler = VectorAssembler(inputCols=['tip', 'size', 'sex_index', 'smoker_index', 'day_index', 'time_index'], outputCol='IndependentFeature')\n",
    "output = feature_assembler.transform(tips_indexer)\n"
   ]
  },
  {
   "cell_type": "code",
   "execution_count": 34,
   "metadata": {},
   "outputs": [
    {
     "name": "stdout",
     "output_type": "stream",
     "text": [
      "+----------+----+------+------+---+------+----+---------+------------+---------+----------+--------------------+\n",
      "|total_bill| tip|   sex|smoker|day|  time|size|sex_index|smoker_index|day_index|time_index|  IndependentFeature|\n",
      "+----------+----+------+------+---+------+----+---------+------------+---------+----------+--------------------+\n",
      "|     16.99|1.01|Female|    No|Sun|Dinner|   2|      1.0|         0.0|      1.0|       0.0|[1.01,2.0,1.0,0.0...|\n",
      "|     10.34|1.66|  Male|    No|Sun|Dinner|   3|      0.0|         0.0|      1.0|       0.0|[1.66,3.0,0.0,0.0...|\n",
      "|     21.01| 3.5|  Male|    No|Sun|Dinner|   3|      0.0|         0.0|      1.0|       0.0|[3.5,3.0,0.0,0.0,...|\n",
      "|     23.68|3.31|  Male|    No|Sun|Dinner|   2|      0.0|         0.0|      1.0|       0.0|[3.31,2.0,0.0,0.0...|\n",
      "|     24.59|3.61|Female|    No|Sun|Dinner|   4|      1.0|         0.0|      1.0|       0.0|[3.61,4.0,1.0,0.0...|\n",
      "|     25.29|4.71|  Male|    No|Sun|Dinner|   4|      0.0|         0.0|      1.0|       0.0|[4.71,4.0,0.0,0.0...|\n",
      "|      8.77| 2.0|  Male|    No|Sun|Dinner|   2|      0.0|         0.0|      1.0|       0.0|[2.0,2.0,0.0,0.0,...|\n",
      "|     26.88|3.12|  Male|    No|Sun|Dinner|   4|      0.0|         0.0|      1.0|       0.0|[3.12,4.0,0.0,0.0...|\n",
      "|     15.04|1.96|  Male|    No|Sun|Dinner|   2|      0.0|         0.0|      1.0|       0.0|[1.96,2.0,0.0,0.0...|\n",
      "|     14.78|3.23|  Male|    No|Sun|Dinner|   2|      0.0|         0.0|      1.0|       0.0|[3.23,2.0,0.0,0.0...|\n",
      "|     10.27|1.71|  Male|    No|Sun|Dinner|   2|      0.0|         0.0|      1.0|       0.0|[1.71,2.0,0.0,0.0...|\n",
      "|     35.26| 5.0|Female|    No|Sun|Dinner|   4|      1.0|         0.0|      1.0|       0.0|[5.0,4.0,1.0,0.0,...|\n",
      "|     15.42|1.57|  Male|    No|Sun|Dinner|   2|      0.0|         0.0|      1.0|       0.0|[1.57,2.0,0.0,0.0...|\n",
      "|     18.43| 3.0|  Male|    No|Sun|Dinner|   4|      0.0|         0.0|      1.0|       0.0|[3.0,4.0,0.0,0.0,...|\n",
      "|     14.83|3.02|Female|    No|Sun|Dinner|   2|      1.0|         0.0|      1.0|       0.0|[3.02,2.0,1.0,0.0...|\n",
      "|     21.58|3.92|  Male|    No|Sun|Dinner|   2|      0.0|         0.0|      1.0|       0.0|[3.92,2.0,0.0,0.0...|\n",
      "|     10.33|1.67|Female|    No|Sun|Dinner|   3|      1.0|         0.0|      1.0|       0.0|[1.67,3.0,1.0,0.0...|\n",
      "|     16.29|3.71|  Male|    No|Sun|Dinner|   3|      0.0|         0.0|      1.0|       0.0|[3.71,3.0,0.0,0.0...|\n",
      "|     16.97| 3.5|Female|    No|Sun|Dinner|   3|      1.0|         0.0|      1.0|       0.0|[3.5,3.0,1.0,0.0,...|\n",
      "|     20.65|3.35|  Male|    No|Sat|Dinner|   3|      0.0|         0.0|      0.0|       0.0|(6,[0,1],[3.35,3.0])|\n",
      "|     17.92|4.08|  Male|    No|Sat|Dinner|   2|      0.0|         0.0|      0.0|       0.0|(6,[0,1],[4.08,2.0])|\n",
      "|     20.29|2.75|Female|    No|Sat|Dinner|   2|      1.0|         0.0|      0.0|       0.0|[2.75,2.0,1.0,0.0...|\n",
      "|     15.77|2.23|Female|    No|Sat|Dinner|   2|      1.0|         0.0|      0.0|       0.0|[2.23,2.0,1.0,0.0...|\n",
      "|     39.42|7.58|  Male|    No|Sat|Dinner|   4|      0.0|         0.0|      0.0|       0.0|(6,[0,1],[7.58,4.0])|\n",
      "|     19.82|3.18|  Male|    No|Sat|Dinner|   2|      0.0|         0.0|      0.0|       0.0|(6,[0,1],[3.18,2.0])|\n",
      "+----------+----+------+------+---+------+----+---------+------------+---------+----------+--------------------+\n",
      "only showing top 25 rows\n",
      "\n"
     ]
    }
   ],
   "source": [
    "output.show(25)"
   ]
  },
  {
   "cell_type": "code",
   "execution_count": 35,
   "metadata": {},
   "outputs": [
    {
     "name": "stdout",
     "output_type": "stream",
     "text": [
      "+----------+----+------+------+---+------+----+---------+------------+---------+----------+\n",
      "|total_bill| tip|   sex|smoker|day|  time|size|sex_index|smoker_index|day_index|time_index|\n",
      "+----------+----+------+------+---+------+----+---------+------------+---------+----------+\n",
      "|     16.99|1.01|Female|    No|Sun|Dinner|   2|      1.0|         0.0|      1.0|       0.0|\n",
      "|     10.34|1.66|  Male|    No|Sun|Dinner|   3|      0.0|         0.0|      1.0|       0.0|\n",
      "|     21.01| 3.5|  Male|    No|Sun|Dinner|   3|      0.0|         0.0|      1.0|       0.0|\n",
      "|     23.68|3.31|  Male|    No|Sun|Dinner|   2|      0.0|         0.0|      1.0|       0.0|\n",
      "|     24.59|3.61|Female|    No|Sun|Dinner|   4|      1.0|         0.0|      1.0|       0.0|\n",
      "|     25.29|4.71|  Male|    No|Sun|Dinner|   4|      0.0|         0.0|      1.0|       0.0|\n",
      "|      8.77| 2.0|  Male|    No|Sun|Dinner|   2|      0.0|         0.0|      1.0|       0.0|\n",
      "|     26.88|3.12|  Male|    No|Sun|Dinner|   4|      0.0|         0.0|      1.0|       0.0|\n",
      "|     15.04|1.96|  Male|    No|Sun|Dinner|   2|      0.0|         0.0|      1.0|       0.0|\n",
      "|     14.78|3.23|  Male|    No|Sun|Dinner|   2|      0.0|         0.0|      1.0|       0.0|\n",
      "|     10.27|1.71|  Male|    No|Sun|Dinner|   2|      0.0|         0.0|      1.0|       0.0|\n",
      "|     35.26| 5.0|Female|    No|Sun|Dinner|   4|      1.0|         0.0|      1.0|       0.0|\n",
      "|     15.42|1.57|  Male|    No|Sun|Dinner|   2|      0.0|         0.0|      1.0|       0.0|\n",
      "|     18.43| 3.0|  Male|    No|Sun|Dinner|   4|      0.0|         0.0|      1.0|       0.0|\n",
      "|     14.83|3.02|Female|    No|Sun|Dinner|   2|      1.0|         0.0|      1.0|       0.0|\n",
      "|     21.58|3.92|  Male|    No|Sun|Dinner|   2|      0.0|         0.0|      1.0|       0.0|\n",
      "|     10.33|1.67|Female|    No|Sun|Dinner|   3|      1.0|         0.0|      1.0|       0.0|\n",
      "|     16.29|3.71|  Male|    No|Sun|Dinner|   3|      0.0|         0.0|      1.0|       0.0|\n",
      "|     16.97| 3.5|Female|    No|Sun|Dinner|   3|      1.0|         0.0|      1.0|       0.0|\n",
      "|     20.65|3.35|  Male|    No|Sat|Dinner|   3|      0.0|         0.0|      0.0|       0.0|\n",
      "+----------+----+------+------+---+------+----+---------+------------+---------+----------+\n",
      "only showing top 20 rows\n",
      "\n"
     ]
    }
   ],
   "source": [
    "tips_indexer.show()"
   ]
  },
  {
   "cell_type": "code",
   "execution_count": 24,
   "metadata": {},
   "outputs": [],
   "source": [
    "finalized_data = output.select('IndependentFeature', 'total_bill')"
   ]
  },
  {
   "cell_type": "code",
   "execution_count": 45,
   "metadata": {},
   "outputs": [],
   "source": [
    "from pyspark.ml.regression import LinearRegression"
   ]
  },
  {
   "cell_type": "code",
   "execution_count": 46,
   "metadata": {},
   "outputs": [],
   "source": [
    "train_data, test_data = finalized_data.randomSplit([0.75, 0.25])\n",
    "regressor = LinearRegression(featuresCol='IndependentFeature', labelCol='total_bill')\n",
    "regressor = regressor.fit(train_data)"
   ]
  },
  {
   "cell_type": "code",
   "execution_count": 27,
   "metadata": {},
   "outputs": [
    {
     "data": {
      "text/plain": [
       "DenseVector([2.9627, 3.6811, -1.0093, 2.7422, -0.4649, -0.9402])"
      ]
     },
     "execution_count": 27,
     "metadata": {},
     "output_type": "execute_result"
    }
   ],
   "source": [
    "regressor.coefficients"
   ]
  },
  {
   "cell_type": "code",
   "execution_count": 28,
   "metadata": {},
   "outputs": [
    {
     "data": {
      "text/plain": [
       "1.5036800323326491"
      ]
     },
     "execution_count": 28,
     "metadata": {},
     "output_type": "execute_result"
    }
   ],
   "source": [
    "regressor.intercept"
   ]
  },
  {
   "cell_type": "code",
   "execution_count": 29,
   "metadata": {},
   "outputs": [
    {
     "name": "stdout",
     "output_type": "stream",
     "text": [
      "+--------------------+----------+------------------+\n",
      "|  IndependentFeature|total_bill|        prediction|\n",
      "+--------------------+----------+------------------+\n",
      "|(6,[0,1],[1.25,2.0])|     10.51|12.569287452252372|\n",
      "|(6,[0,1],[1.45,2.0])|      9.55|13.161822894499087|\n",
      "|(6,[0,1],[1.47,2.0])|     10.77| 13.22107643872376|\n",
      "| (6,[0,1],[2.0,2.0])|     12.69|14.791295360677555|\n",
      "| (6,[0,1],[2.0,2.0])|     13.37|14.791295360677555|\n",
      "|(6,[0,1],[2.24,3.0])|     16.04|19.183468344312487|\n",
      "| (6,[0,1],[2.5,4.0])|     18.35|23.634894872172094|\n",
      "|(6,[0,1],[3.15,3.0])|     20.08| 21.87950460653504|\n",
      "|(6,[0,1],[3.39,2.0])|     11.61|18.909416684292225|\n",
      "|(6,[0,1],[5.92,3.0])|     29.03| 30.08612048165205|\n",
      "|(6,[0,1],[7.58,4.0])|     39.42| 38.68529510523866|\n",
      "|[1.0,2.0,1.0,1.0,...|      5.75| 12.16669977890326|\n",
      "|[1.25,2.0,1.0,0.0...|      8.51| 9.689908050871654|\n",
      "|[1.5,2.0,0.0,0.0,...|     12.46|11.915185812579674|\n",
      "|[1.5,2.0,1.0,0.0,...|     26.41|12.300639074723845|\n",
      "|[1.64,2.0,0.0,1.0...|     15.36|16.466901816910763|\n",
      "|[1.67,3.0,1.0,0.0...|     10.33|16.020501006078728|\n",
      "|[1.73,2.0,0.0,0.0...|      9.78|12.121310792600694|\n",
      "|[2.0,2.0,0.0,0.0,...|     13.81|14.326371713183857|\n",
      "|[2.0,2.0,1.0,0.0,...|     11.38|11.911915959296838|\n",
      "+--------------------+----------+------------------+\n",
      "only showing top 20 rows\n",
      "\n"
     ]
    }
   ],
   "source": [
    "pred = regressor.evaluate(test_data)\n",
    "pred.predictions.show()"
   ]
  },
  {
   "cell_type": "code",
   "execution_count": 33,
   "metadata": {},
   "outputs": [
    {
     "name": "stdout",
     "output_type": "stream",
     "text": [
      "+--------------------+----------+\n",
      "|  IndependentFeature|total_bill|\n",
      "+--------------------+----------+\n",
      "|[1.01,2.0,1.0,0.0...|     16.99|\n",
      "|[1.66,3.0,0.0,0.0...|     10.34|\n",
      "|[3.5,3.0,0.0,0.0,...|     21.01|\n",
      "|[3.31,2.0,0.0,0.0...|     23.68|\n",
      "|[3.61,4.0,1.0,0.0...|     24.59|\n",
      "|[4.71,4.0,0.0,0.0...|     25.29|\n",
      "|[2.0,2.0,0.0,0.0,...|      8.77|\n",
      "|[3.12,4.0,0.0,0.0...|     26.88|\n",
      "|[1.96,2.0,0.0,0.0...|     15.04|\n",
      "|[3.23,2.0,0.0,0.0...|     14.78|\n",
      "|[1.71,2.0,0.0,0.0...|     10.27|\n",
      "|[5.0,4.0,1.0,0.0,...|     35.26|\n",
      "|[1.57,2.0,0.0,0.0...|     15.42|\n",
      "|[3.0,4.0,0.0,0.0,...|     18.43|\n",
      "|[3.02,2.0,1.0,0.0...|     14.83|\n",
      "|[3.92,2.0,0.0,0.0...|     21.58|\n",
      "|[1.67,3.0,1.0,0.0...|     10.33|\n",
      "|[3.71,3.0,0.0,0.0...|     16.29|\n",
      "|[3.5,3.0,1.0,0.0,...|     16.97|\n",
      "|(6,[0,1],[3.35,3.0])|     20.65|\n",
      "+--------------------+----------+\n",
      "only showing top 20 rows\n",
      "\n"
     ]
    }
   ],
   "source": [
    "finalized_data.show()"
   ]
  },
  {
   "cell_type": "code",
   "execution_count": 37,
   "metadata": {},
   "outputs": [
    {
     "data": {
      "text/plain": [
       "3.929973981511036"
      ]
     },
     "execution_count": 37,
     "metadata": {},
     "output_type": "execute_result"
    }
   ],
   "source": [
    "pred.meanAbsoluteError"
   ]
  },
  {
   "cell_type": "code",
   "execution_count": 38,
   "metadata": {},
   "outputs": [
    {
     "data": {
      "text/plain": [
       "5.2403408635527295"
      ]
     },
     "execution_count": 38,
     "metadata": {},
     "output_type": "execute_result"
    }
   ],
   "source": [
    "pred.rootMeanSquaredError"
   ]
  },
  {
   "cell_type": "code",
   "execution_count": 39,
   "metadata": {},
   "outputs": [
    {
     "data": {
      "text/plain": [
       "0.5616403025553437"
      ]
     },
     "execution_count": 39,
     "metadata": {},
     "output_type": "execute_result"
    }
   ],
   "source": [
    "pred.r2"
   ]
  },
  {
   "cell_type": "code",
   "execution_count": null,
   "metadata": {},
   "outputs": [],
   "source": []
  },
  {
   "cell_type": "code",
   "execution_count": null,
   "metadata": {},
   "outputs": [],
   "source": []
  },
  {
   "cell_type": "code",
   "execution_count": null,
   "metadata": {},
   "outputs": [],
   "source": []
  },
  {
   "cell_type": "code",
   "execution_count": null,
   "metadata": {},
   "outputs": [],
   "source": []
  },
  {
   "cell_type": "code",
   "execution_count": null,
   "metadata": {},
   "outputs": [],
   "source": []
  },
  {
   "cell_type": "code",
   "execution_count": null,
   "metadata": {},
   "outputs": [],
   "source": []
  },
  {
   "cell_type": "code",
   "execution_count": null,
   "metadata": {},
   "outputs": [],
   "source": []
  },
  {
   "cell_type": "code",
   "execution_count": null,
   "metadata": {},
   "outputs": [],
   "source": []
  }
 ],
 "metadata": {
  "kernelspec": {
   "display_name": "py_37",
   "language": "python",
   "name": "python3"
  },
  "language_info": {
   "codemirror_mode": {
    "name": "ipython",
    "version": 3
   },
   "file_extension": ".py",
   "mimetype": "text/x-python",
   "name": "python",
   "nbconvert_exporter": "python",
   "pygments_lexer": "ipython3",
   "version": "3.7.10"
  }
 },
 "nbformat": 4,
 "nbformat_minor": 2
}
