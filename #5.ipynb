{
 "cells": [
  {
   "cell_type": "code",
   "execution_count": 1,
   "metadata": {},
   "outputs": [],
   "source": [
    "from pyspark.sql import SparkSession\n",
    "from pyspark.sql.types import *\n",
    "from pyspark.sql.functions import *\n",
    "spark = SparkSession.builder.appName('test').getOrCreate()"
   ]
  },
  {
   "cell_type": "code",
   "execution_count": 16,
   "metadata": {},
   "outputs": [],
   "source": [
    "df = spark.read.csv('test2.csv', inferSchema=True, header=True)"
   ]
  },
  {
   "cell_type": "code",
   "execution_count": 17,
   "metadata": {},
   "outputs": [
    {
     "name": "stdout",
     "output_type": "stream",
     "text": [
      "+-----+----------+----------------+------+\n",
      "| Name|Experience|          Course|Salary|\n",
      "+-----+----------+----------------+------+\n",
      "|Gagan|         6|    Data Science| 10000|\n",
      "|Radha|         6|             C++|  8000|\n",
      "|Radha|         4|    Data Science|  7000|\n",
      "| Ajay|         6|        Big Data|  9000|\n",
      "|Gagan|         5|Machine Learning| 12000|\n",
      "| Ajay|         4|          Python|  4000|\n",
      "|Gagan|         3|        Big Data|  7000|\n",
      "+-----+----------+----------------+------+\n",
      "\n"
     ]
    }
   ],
   "source": [
    "df.show()"
   ]
  },
  {
   "cell_type": "code",
   "execution_count": 18,
   "metadata": {},
   "outputs": [
    {
     "name": "stdout",
     "output_type": "stream",
     "text": [
      "root\n",
      " |-- Name: string (nullable = true)\n",
      " |-- Experience: integer (nullable = true)\n",
      " |-- Course: string (nullable = true)\n",
      " |-- Salary: integer (nullable = true)\n",
      "\n"
     ]
    }
   ],
   "source": [
    "df.printSchema()"
   ]
  },
  {
   "cell_type": "code",
   "execution_count": 19,
   "metadata": {},
   "outputs": [
    {
     "name": "stdout",
     "output_type": "stream",
     "text": [
      "+-----+----------+----------------+------+\n",
      "| Name|Experience|          Course|Salary|\n",
      "+-----+----------+----------------+------+\n",
      "|Gagan|         6|    Data Science|    16|\n",
      "|Radha|         6|             C++|    64|\n",
      "|Radha|         4|    Data Science|    88|\n",
      "| Ajay|         6|        Big Data|    40|\n",
      "|Gagan|         5|Machine Learning|   -32|\n",
      "| Ajay|         4|          Python|   -96|\n",
      "|Gagan|         3|        Big Data|    88|\n",
      "+-----+----------+----------------+------+\n",
      "\n"
     ]
    }
   ],
   "source": [
    "df.withColumn('Salary', col('Salary').cast(ByteType())).show()"
   ]
  },
  {
   "cell_type": "code",
   "execution_count": 20,
   "metadata": {},
   "outputs": [
    {
     "name": "stdout",
     "output_type": "stream",
     "text": [
      "+-----+----------+----------------+------+\n",
      "| Name|Experience|          Course|Salary|\n",
      "+-----+----------+----------------+------+\n",
      "|Gagan|         6|    Data Science| 10000|\n",
      "|Radha|         6|             C++|  8000|\n",
      "|Radha|         4|    Data Science|  7000|\n",
      "| Ajay|         6|        Big Data|  9000|\n",
      "|Gagan|         5|Machine Learning| 12000|\n",
      "| Ajay|         4|          Python|  4000|\n",
      "|Gagan|         3|        Big Data|  7000|\n",
      "+-----+----------+----------------+------+\n",
      "\n"
     ]
    }
   ],
   "source": [
    "df.withColumn('Salary', col('Salary').cast(ShortType())).show()"
   ]
  },
  {
   "cell_type": "code",
   "execution_count": 27,
   "metadata": {},
   "outputs": [
    {
     "data": {
      "text/plain": [
       "Column<b'Salary'>"
      ]
     },
     "execution_count": 27,
     "metadata": {},
     "output_type": "execute_result"
    }
   ],
   "source": [
    "col('Salary')"
   ]
  },
  {
   "cell_type": "code",
   "execution_count": 22,
   "metadata": {},
   "outputs": [
    {
     "data": {
      "text/plain": [
       "Column<b'Salary'>"
      ]
     },
     "execution_count": 22,
     "metadata": {},
     "output_type": "execute_result"
    }
   ],
   "source": [
    "column('Salary')"
   ]
  },
  {
   "cell_type": "code",
   "execution_count": 28,
   "metadata": {},
   "outputs": [
    {
     "data": {
      "text/plain": [
       "Column<b'((((same_col + 5) * 200) - 6) < other_col)'>"
      ]
     },
     "execution_count": 28,
     "metadata": {},
     "output_type": "execute_result"
    }
   ],
   "source": [
    "expr(\"(((same_col+5)*200)-6) < other_col\")"
   ]
  },
  {
   "cell_type": "code",
   "execution_count": 29,
   "metadata": {},
   "outputs": [
    {
     "data": {
      "text/plain": [
       "Row(Name='Gagan', Experience=6, Course='Data Science', Salary=10000)"
      ]
     },
     "execution_count": 29,
     "metadata": {},
     "output_type": "execute_result"
    }
   ],
   "source": [
    "df.first()"
   ]
  },
  {
   "cell_type": "code",
   "execution_count": 31,
   "metadata": {},
   "outputs": [
    {
     "name": "stdout",
     "output_type": "stream",
     "text": [
      "+------+\n",
      "|Salary|\n",
      "+------+\n",
      "| 10000|\n",
      "|  8000|\n",
      "+------+\n",
      "only showing top 2 rows\n",
      "\n"
     ]
    }
   ],
   "source": [
    "df.select('Salary').show(2)"
   ]
  },
  {
   "cell_type": "code",
   "execution_count": 32,
   "metadata": {},
   "outputs": [],
   "source": [
    "df.createOrReplaceTempView('employee')"
   ]
  },
  {
   "cell_type": "code",
   "execution_count": 33,
   "metadata": {},
   "outputs": [
    {
     "name": "stdout",
     "output_type": "stream",
     "text": [
      "+------+\n",
      "|Salary|\n",
      "+------+\n",
      "| 10000|\n",
      "|  8000|\n",
      "+------+\n",
      "only showing top 2 rows\n",
      "\n"
     ]
    }
   ],
   "source": [
    "spark.sql('select Salary from  employee').show(2)"
   ]
  },
  {
   "cell_type": "code",
   "execution_count": 40,
   "metadata": {},
   "outputs": [
    {
     "name": "stdout",
     "output_type": "stream",
     "text": [
      "+------+------------+\n",
      "|Salary|      Course|\n",
      "+------+------------+\n",
      "| 10000|Data Science|\n",
      "|  8000|         C++|\n",
      "+------+------------+\n",
      "only showing top 2 rows\n",
      "\n",
      "+------+------------+\n",
      "|Salary|      Course|\n",
      "+------+------------+\n",
      "| 10000|Data Science|\n",
      "|  8000|         C++|\n",
      "+------+------------+\n",
      "only showing top 2 rows\n",
      "\n"
     ]
    }
   ],
   "source": [
    "df.select('Salary', 'Course').show(2)\n",
    "spark.sql('select Salary, Course from employee').show(2)"
   ]
  },
  {
   "cell_type": "code",
   "execution_count": 41,
   "metadata": {},
   "outputs": [
    {
     "name": "stdout",
     "output_type": "stream",
     "text": [
      "+------+------------+-----+\n",
      "|Salary|      Course| Name|\n",
      "+------+------------+-----+\n",
      "| 10000|Data Science|Gagan|\n",
      "|  8000|         C++|Radha|\n",
      "+------+------------+-----+\n",
      "only showing top 2 rows\n",
      "\n"
     ]
    }
   ],
   "source": [
    "df.select(expr('Salary'), col('Course'), column('Name')).show(2)\n"
   ]
  },
  {
   "cell_type": "code",
   "execution_count": 42,
   "metadata": {},
   "outputs": [
    {
     "name": "stdout",
     "output_type": "stream",
     "text": [
      "+------+\n",
      "|amount|\n",
      "+------+\n",
      "| 10000|\n",
      "|  8000|\n",
      "+------+\n",
      "only showing top 2 rows\n",
      "\n"
     ]
    }
   ],
   "source": [
    "df.select(expr('Salary as amount')).show(2)"
   ]
  },
  {
   "cell_type": "code",
   "execution_count": 43,
   "metadata": {},
   "outputs": [
    {
     "name": "stdout",
     "output_type": "stream",
     "text": [
      "+------+\n",
      "|amount|\n",
      "+------+\n",
      "| 10000|\n",
      "|  8000|\n",
      "+------+\n",
      "only showing top 2 rows\n",
      "\n"
     ]
    }
   ],
   "source": [
    "df.selectExpr('Salary as amount').show(2)"
   ]
  },
  {
   "cell_type": "code",
   "execution_count": 44,
   "metadata": {},
   "outputs": [
    {
     "name": "stdout",
     "output_type": "stream",
     "text": [
      "root\n",
      " |-- Name: string (nullable = true)\n",
      " |-- Experience: integer (nullable = true)\n",
      " |-- Course: string (nullable = true)\n",
      " |-- Salary: integer (nullable = true)\n",
      "\n"
     ]
    }
   ],
   "source": [
    "df.printSchema()"
   ]
  },
  {
   "cell_type": "code",
   "execution_count": 45,
   "metadata": {},
   "outputs": [
    {
     "name": "stdout",
     "output_type": "stream",
     "text": [
      "+-----+----------+------------+------+-----+\n",
      "| Name|Experience|      Course|Salary| Test|\n",
      "+-----+----------+------------+------+-----+\n",
      "|Gagan|         6|Data Science| 10000|false|\n",
      "|Radha|         6|         C++|  8000|false|\n",
      "+-----+----------+------------+------+-----+\n",
      "only showing top 2 rows\n",
      "\n"
     ]
    }
   ],
   "source": [
    "df.selectExpr('*', '(Name == Course) as Test').show(2)"
   ]
  },
  {
   "cell_type": "code",
   "execution_count": 46,
   "metadata": {},
   "outputs": [
    {
     "name": "stdout",
     "output_type": "stream",
     "text": [
      "+-----------+--------------------+\n",
      "|sum(Salary)|count(DISTINCT Name)|\n",
      "+-----------+--------------------+\n",
      "|      57000|                   3|\n",
      "+-----------+--------------------+\n",
      "\n"
     ]
    }
   ],
   "source": [
    "df.selectExpr('sum(Salary)', 'count(distinct(Name))').show(2)"
   ]
  },
  {
   "cell_type": "code",
   "execution_count": 47,
   "metadata": {},
   "outputs": [
    {
     "name": "stdout",
     "output_type": "stream",
     "text": [
      "+-----+----------+------------+------+---+\n",
      "| Name|Experience|      Course|Salary|one|\n",
      "+-----+----------+------------+------+---+\n",
      "|Gagan|         6|Data Science| 10000|  1|\n",
      "|Radha|         6|         C++|  8000|  1|\n",
      "+-----+----------+------------+------+---+\n",
      "only showing top 2 rows\n",
      "\n"
     ]
    }
   ],
   "source": [
    "# literal are the constant values we need to add to the dataframe\n",
    "\n",
    "df.select(expr('*'), lit(1).alias('one')).show(2)"
   ]
  },
  {
   "cell_type": "code",
   "execution_count": 49,
   "metadata": {},
   "outputs": [
    {
     "name": "stdout",
     "output_type": "stream",
     "text": [
      "+-----+----------+------------+------+---+\n",
      "| Name|Experience|      Course|Salary|one|\n",
      "+-----+----------+------------+------+---+\n",
      "|Gagan|         6|Data Science| 10000|  1|\n",
      "|Radha|         6|         C++|  8000|  1|\n",
      "+-----+----------+------------+------+---+\n",
      "only showing top 2 rows\n",
      "\n"
     ]
    }
   ],
   "source": [
    "df.withColumn('one', lit(1)).show(2)"
   ]
  },
  {
   "cell_type": "code",
   "execution_count": 50,
   "metadata": {},
   "outputs": [
    {
     "name": "stdout",
     "output_type": "stream",
     "text": [
      "+-----+----------+------------+------+-----------+\n",
      "| Name|Experience|      Course|Salary|Name=Course|\n",
      "+-----+----------+------------+------+-----------+\n",
      "|Gagan|         6|Data Science| 10000|      false|\n",
      "|Radha|         6|         C++|  8000|      false|\n",
      "+-----+----------+------------+------+-----------+\n",
      "only showing top 2 rows\n",
      "\n"
     ]
    }
   ],
   "source": [
    "df.withColumn('Name=Course',expr('Name == Course')).show(2)"
   ]
  },
  {
   "cell_type": "code",
   "execution_count": 53,
   "metadata": {},
   "outputs": [
    {
     "name": "stdout",
     "output_type": "stream",
     "text": [
      "+-----+----------+------------+------+----------+\n",
      "| Name|Experience|      Course|Salary|First Name|\n",
      "+-----+----------+------------+------+----------+\n",
      "|Gagan|         6|Data Science| 10000|     Gagan|\n",
      "|Radha|         6|         C++|  8000|     Radha|\n",
      "+-----+----------+------------+------+----------+\n",
      "only showing top 2 rows\n",
      "\n"
     ]
    }
   ],
   "source": [
    "df.withColumn('First Name', expr('Name')).show(2)"
   ]
  },
  {
   "cell_type": "code",
   "execution_count": 54,
   "metadata": {},
   "outputs": [
    {
     "name": "stdout",
     "output_type": "stream",
     "text": [
      "+----------+----------+------------+------+\n",
      "|First Name|Experience|      Course|Salary|\n",
      "+----------+----------+------------+------+\n",
      "|     Gagan|         6|Data Science| 10000|\n",
      "|     Radha|         6|         C++|  8000|\n",
      "+----------+----------+------------+------+\n",
      "only showing top 2 rows\n",
      "\n"
     ]
    }
   ],
   "source": [
    "df.withColumnRenamed('Name', 'First Name').show(2)"
   ]
  },
  {
   "cell_type": "code",
   "execution_count": 55,
   "metadata": {},
   "outputs": [],
   "source": [
    "df2 = df.withColumn('First Name', expr('Name'))"
   ]
  },
  {
   "cell_type": "code",
   "execution_count": 63,
   "metadata": {},
   "outputs": [
    {
     "name": "stdout",
     "output_type": "stream",
     "text": [
      "+-------+\n",
      "|NewName|\n",
      "+-------+\n",
      "|  Gagan|\n",
      "|  Radha|\n",
      "+-------+\n",
      "only showing top 2 rows\n",
      "\n"
     ]
    }
   ],
   "source": [
    "df2.selectExpr('`First Name` as NewName').show(2)"
   ]
  },
  {
   "cell_type": "code",
   "execution_count": 64,
   "metadata": {},
   "outputs": [
    {
     "data": {
      "text/plain": [
       "['Experience', 'Course', 'Salary']"
      ]
     },
     "execution_count": 64,
     "metadata": {},
     "output_type": "execute_result"
    }
   ],
   "source": [
    "df.drop('Name').columns"
   ]
  },
  {
   "cell_type": "code",
   "execution_count": 65,
   "metadata": {},
   "outputs": [
    {
     "data": {
      "text/plain": [
       "['Experience', 'Salary']"
      ]
     },
     "execution_count": 65,
     "metadata": {},
     "output_type": "execute_result"
    }
   ],
   "source": [
    "df.drop('Name', 'Course').columns"
   ]
  },
  {
   "cell_type": "code",
   "execution_count": 66,
   "metadata": {},
   "outputs": [
    {
     "name": "stdout",
     "output_type": "stream",
     "text": [
      "+-----+----------+------------+------+----------+\n",
      "| Name|Experience|      Course|Salary|New Salary|\n",
      "+-----+----------+------------+------+----------+\n",
      "|Gagan|         6|Data Science| 10000|     10000|\n",
      "|Radha|         6|         C++|  8000|      8000|\n",
      "+-----+----------+------------+------+----------+\n",
      "only showing top 2 rows\n",
      "\n"
     ]
    }
   ],
   "source": [
    "df.withColumn('New Salary', col('Salary').cast('long')).show(2)"
   ]
  },
  {
   "cell_type": "code",
   "execution_count": 68,
   "metadata": {},
   "outputs": [
    {
     "name": "stdout",
     "output_type": "stream",
     "text": [
      "+-----+----------+----------------+------+\n",
      "| Name|Experience|          Course|Salary|\n",
      "+-----+----------+----------------+------+\n",
      "|Gagan|         6|    Data Science| 10000|\n",
      "| Ajay|         6|        Big Data|  9000|\n",
      "|Gagan|         5|Machine Learning| 12000|\n",
      "+-----+----------+----------------+------+\n",
      "\n"
     ]
    }
   ],
   "source": [
    "df.filter(col('Salary') > 8000).show()"
   ]
  },
  {
   "cell_type": "code",
   "execution_count": 69,
   "metadata": {},
   "outputs": [
    {
     "name": "stdout",
     "output_type": "stream",
     "text": [
      "+-----+----------+----------------+------+\n",
      "| Name|Experience|          Course|Salary|\n",
      "+-----+----------+----------------+------+\n",
      "|Gagan|         6|    Data Science| 10000|\n",
      "| Ajay|         6|        Big Data|  9000|\n",
      "|Gagan|         5|Machine Learning| 12000|\n",
      "+-----+----------+----------------+------+\n",
      "\n"
     ]
    }
   ],
   "source": [
    "df.where(col('Salary') > 8000).show()"
   ]
  },
  {
   "cell_type": "code",
   "execution_count": 72,
   "metadata": {},
   "outputs": [
    {
     "name": "stdout",
     "output_type": "stream",
     "text": [
      "+-----+----------+------------+------+\n",
      "| Name|Experience|      Course|Salary|\n",
      "+-----+----------+------------+------+\n",
      "|Radha|         6|         C++|  8000|\n",
      "|Radha|         4|Data Science|  7000|\n",
      "| Ajay|         4|      Python|  4000|\n",
      "|Gagan|         3|    Big Data|  7000|\n",
      "+-----+----------+------------+------+\n",
      "\n"
     ]
    }
   ],
   "source": [
    "df.filter(~ (col('Salary') > 8000)).show()"
   ]
  },
  {
   "cell_type": "code",
   "execution_count": 74,
   "metadata": {},
   "outputs": [
    {
     "name": "stdout",
     "output_type": "stream",
     "text": [
      "+-----+----------+------------+------+\n",
      "| Name|Experience|      Course|Salary|\n",
      "+-----+----------+------------+------+\n",
      "|Gagan|         6|Data Science| 10000|\n",
      "| Ajay|         6|    Big Data|  9000|\n",
      "+-----+----------+------------+------+\n",
      "\n"
     ]
    }
   ],
   "source": [
    "df.filter(col('Salary') > 8000).where(col('Experience') > 5).show()"
   ]
  },
  {
   "cell_type": "code",
   "execution_count": 78,
   "metadata": {},
   "outputs": [
    {
     "name": "stdout",
     "output_type": "stream",
     "text": [
      "+------+-----+\n",
      "|Salary| Name|\n",
      "+------+-----+\n",
      "|  9000| Ajay|\n",
      "|  7000|Gagan|\n",
      "|  8000|Radha|\n",
      "| 12000|Gagan|\n",
      "|  4000| Ajay|\n",
      "|  7000|Radha|\n",
      "| 10000|Gagan|\n",
      "+------+-----+\n",
      "\n"
     ]
    }
   ],
   "source": [
    "df.select('Salary', 'Name').distinct().show()"
   ]
  },
  {
   "cell_type": "code",
   "execution_count": 103,
   "metadata": {},
   "outputs": [
    {
     "name": "stdout",
     "output_type": "stream",
     "text": [
      "+-----+----------+----------------+------+\n",
      "| Name|Experience|          Course|Salary|\n",
      "+-----+----------+----------------+------+\n",
      "|Gagan|         6|    Data Science| 10000|\n",
      "| Ajay|         6|        Big Data|  9000|\n",
      "|Gagan|         5|Machine Learning| 12000|\n",
      "+-----+----------+----------------+------+\n",
      "\n"
     ]
    }
   ],
   "source": [
    "withReplacement = False\n",
    "fraction = 0.5\n",
    "seed = 5\n",
    "df.sample(withReplacement, fraction, seed).show()"
   ]
  },
  {
   "cell_type": "code",
   "execution_count": 110,
   "metadata": {},
   "outputs": [
    {
     "data": {
      "text/plain": [
       "1"
      ]
     },
     "execution_count": 110,
     "metadata": {},
     "output_type": "execute_result"
    }
   ],
   "source": [
    "df.randomSplit([0.75, 0.25], seed=9)[1].count()\n"
   ]
  },
  {
   "cell_type": "code",
   "execution_count": 111,
   "metadata": {},
   "outputs": [
    {
     "name": "stdout",
     "output_type": "stream",
     "text": [
      "+-----+----------+----------------+------+\n",
      "| Name|Experience|          Course|Salary|\n",
      "+-----+----------+----------------+------+\n",
      "| Ajay|         4|          Python|  4000|\n",
      "| Ajay|         6|        Big Data|  9000|\n",
      "|Gagan|         3|        Big Data|  7000|\n",
      "|Gagan|         5|Machine Learning| 12000|\n",
      "|Gagan|         6|    Data Science| 10000|\n",
      "|Radha|         4|    Data Science|  7000|\n",
      "+-----+----------+----------------+------+\n",
      "\n"
     ]
    }
   ],
   "source": [
    "df11, df12 = df.randomSplit([0.75, 0.25], seed=9)\n",
    "df11.show()"
   ]
  },
  {
   "cell_type": "code",
   "execution_count": 112,
   "metadata": {},
   "outputs": [
    {
     "name": "stdout",
     "output_type": "stream",
     "text": [
      "+-----+----------+------+------+\n",
      "| Name|Experience|Course|Salary|\n",
      "+-----+----------+------+------+\n",
      "|Radha|         6|   C++|  8000|\n",
      "+-----+----------+------+------+\n",
      "\n"
     ]
    }
   ],
   "source": [
    "df12.show()"
   ]
  },
  {
   "cell_type": "code",
   "execution_count": 115,
   "metadata": {},
   "outputs": [
    {
     "name": "stdout",
     "output_type": "stream",
     "text": [
      "+-----+----------+----------------+------+\n",
      "| Name|Experience|          Course|Salary|\n",
      "+-----+----------+----------------+------+\n",
      "| Ajay|         6|        Big Data|  9000|\n",
      "|Gagan|         5|Machine Learning| 12000|\n",
      "|Gagan|         6|    Data Science| 10000|\n",
      "|Radha|         6|             C++|  8000|\n",
      "+-----+----------+----------------+------+\n",
      "\n"
     ]
    }
   ],
   "source": [
    "df11.union(df12).where('Experience > 4').show()"
   ]
  },
  {
   "cell_type": "code",
   "execution_count": 117,
   "metadata": {},
   "outputs": [
    {
     "name": "stdout",
     "output_type": "stream",
     "text": [
      "+-----+----------+----------------+------+\n",
      "| Name|Experience|          Course|Salary|\n",
      "+-----+----------+----------------+------+\n",
      "| Ajay|         4|          Python|  4000|\n",
      "|Gagan|         3|        Big Data|  7000|\n",
      "|Radha|         4|    Data Science|  7000|\n",
      "|Radha|         6|             C++|  8000|\n",
      "| Ajay|         6|        Big Data|  9000|\n",
      "|Gagan|         6|    Data Science| 10000|\n",
      "|Gagan|         5|Machine Learning| 12000|\n",
      "+-----+----------+----------------+------+\n",
      "\n"
     ]
    }
   ],
   "source": [
    "df.orderBy('Salary', 'Course').show()"
   ]
  },
  {
   "cell_type": "code",
   "execution_count": 118,
   "metadata": {},
   "outputs": [
    {
     "name": "stdout",
     "output_type": "stream",
     "text": [
      "+-----+----------+----------------+------+\n",
      "| Name|Experience|          Course|Salary|\n",
      "+-----+----------+----------------+------+\n",
      "| Ajay|         4|          Python|  4000|\n",
      "|Gagan|         3|        Big Data|  7000|\n",
      "|Radha|         4|    Data Science|  7000|\n",
      "|Radha|         6|             C++|  8000|\n",
      "| Ajay|         6|        Big Data|  9000|\n",
      "|Gagan|         6|    Data Science| 10000|\n",
      "|Gagan|         5|Machine Learning| 12000|\n",
      "+-----+----------+----------------+------+\n",
      "\n"
     ]
    }
   ],
   "source": [
    "df.sort('Salary', 'Course').show()"
   ]
  },
  {
   "cell_type": "code",
   "execution_count": 119,
   "metadata": {},
   "outputs": [
    {
     "name": "stdout",
     "output_type": "stream",
     "text": [
      "+-----+----------+----------------+------+\n",
      "| Name|Experience|          Course|Salary|\n",
      "+-----+----------+----------------+------+\n",
      "| Ajay|         4|          Python|  4000|\n",
      "|Gagan|         3|        Big Data|  7000|\n",
      "|Radha|         4|    Data Science|  7000|\n",
      "|Radha|         6|             C++|  8000|\n",
      "| Ajay|         6|        Big Data|  9000|\n",
      "|Gagan|         6|    Data Science| 10000|\n",
      "|Gagan|         5|Machine Learning| 12000|\n",
      "+-----+----------+----------------+------+\n",
      "\n"
     ]
    }
   ],
   "source": [
    "df.orderBy(col('Salary'), col('Course')).show()"
   ]
  },
  {
   "cell_type": "code",
   "execution_count": 121,
   "metadata": {},
   "outputs": [
    {
     "name": "stdout",
     "output_type": "stream",
     "text": [
      "+-----+----------+----------------+------+\n",
      "| Name|Experience|          Course|Salary|\n",
      "+-----+----------+----------------+------+\n",
      "|Gagan|         5|Machine Learning| 12000|\n",
      "|Gagan|         6|    Data Science| 10000|\n",
      "| Ajay|         6|        Big Data|  9000|\n",
      "|Radha|         6|             C++|  8000|\n",
      "|Gagan|         3|        Big Data|  7000|\n",
      "|Radha|         4|    Data Science|  7000|\n",
      "| Ajay|         4|          Python|  4000|\n",
      "+-----+----------+----------------+------+\n",
      "\n"
     ]
    }
   ],
   "source": [
    "df.orderBy(col('Salary').desc(), col('Course').asc()).show()\n",
    "# asc_null_first, asc_null_last, desc_null_first, desc_null_last\n",
    "# sortWithinPartitions"
   ]
  },
  {
   "cell_type": "code",
   "execution_count": 123,
   "metadata": {},
   "outputs": [
    {
     "name": "stdout",
     "output_type": "stream",
     "text": [
      "+-----+----------+------------+------+\n",
      "| Name|Experience|      Course|Salary|\n",
      "+-----+----------+------------+------+\n",
      "|Gagan|         6|Data Science| 10000|\n",
      "|Radha|         6|         C++|  8000|\n",
      "|Radha|         4|Data Science|  7000|\n",
      "| Ajay|         6|    Big Data|  9000|\n",
      "+-----+----------+------------+------+\n",
      "\n"
     ]
    }
   ],
   "source": [
    "df.limit(4).show()"
   ]
  },
  {
   "cell_type": "code",
   "execution_count": 125,
   "metadata": {},
   "outputs": [
    {
     "name": "stdout",
     "output_type": "stream",
     "text": [
      "+-----+----------+----------------+------+\n",
      "| Name|Experience|          Course|Salary|\n",
      "+-----+----------+----------------+------+\n",
      "|Gagan|         3|        Big Data|  7000|\n",
      "| Ajay|         6|        Big Data|  9000|\n",
      "| Ajay|         4|          Python|  4000|\n",
      "|Gagan|         5|Machine Learning| 12000|\n",
      "|Radha|         6|             C++|  8000|\n",
      "|Gagan|         6|    Data Science| 10000|\n",
      "|Radha|         4|    Data Science|  7000|\n",
      "+-----+----------+----------------+------+\n",
      "\n"
     ]
    }
   ],
   "source": [
    "# repartitions - costlier operation as it shuffles the complete dataset\n",
    "df.repartition(5).show()"
   ]
  },
  {
   "cell_type": "code",
   "execution_count": 126,
   "metadata": {},
   "outputs": [
    {
     "data": {
      "text/plain": [
       "DataFrame[Name: string, Experience: int, Course: string, Salary: int]"
      ]
     },
     "execution_count": 126,
     "metadata": {},
     "output_type": "execute_result"
    }
   ],
   "source": [
    "# coalesce - Full shuffle and combine all partitions\n",
    "df.repartition(5, col('Salary')).coalesce(2)"
   ]
  },
  {
   "cell_type": "code",
   "execution_count": null,
   "metadata": {},
   "outputs": [],
   "source": [
    "# collecting data to the driver\n",
    "df.limit(2)\n",
    "df.first(2)\n",
    "df.show(2)\n",
    "df.take(3)\n",
    "\n",
    "# these 2 are costiler operations and it may crash the driver in case of big data\n",
    "df.collect(6)\n",
    "df.toLocalIterator()"
   ]
  },
  {
   "cell_type": "code",
   "execution_count": 127,
   "metadata": {},
   "outputs": [
    {
     "name": "stdout",
     "output_type": "stream",
     "text": [
      "+---+----+---+\n",
      "|  5|five|5.0|\n",
      "+---+----+---+\n",
      "|  5|five|5.0|\n",
      "|  5|five|5.0|\n",
      "|  5|five|5.0|\n",
      "|  5|five|5.0|\n",
      "|  5|five|5.0|\n",
      "|  5|five|5.0|\n",
      "|  5|five|5.0|\n",
      "+---+----+---+\n",
      "\n"
     ]
    }
   ],
   "source": [
    "df.select(lit(5), lit('five'), lit(5.0)).show()"
   ]
  },
  {
   "cell_type": "code",
   "execution_count": 128,
   "metadata": {},
   "outputs": [
    {
     "name": "stdout",
     "output_type": "stream",
     "text": [
      "+------+-----+\n",
      "|Salary| Name|\n",
      "+------+-----+\n",
      "| 10000|Gagan|\n",
      "|  8000|Radha|\n",
      "|  9000| Ajay|\n",
      "| 12000|Gagan|\n",
      "|  4000| Ajay|\n",
      "+------+-----+\n",
      "\n"
     ]
    }
   ],
   "source": [
    "df.where(col('Salary') != 7000).select('Salary', 'Name').show()"
   ]
  },
  {
   "cell_type": "code",
   "execution_count": 129,
   "metadata": {},
   "outputs": [
    {
     "name": "stdout",
     "output_type": "stream",
     "text": [
      "+-----+----------+------------+------+\n",
      "| Name|Experience|      Course|Salary|\n",
      "+-----+----------+------------+------+\n",
      "|Radha|         4|Data Science|  7000|\n",
      "|Gagan|         3|    Big Data|  7000|\n",
      "+-----+----------+------------+------+\n",
      "\n"
     ]
    }
   ],
   "source": [
    "df.where('Salary = 7000').show()"
   ]
  },
  {
   "cell_type": "code",
   "execution_count": 130,
   "metadata": {},
   "outputs": [
    {
     "name": "stdout",
     "output_type": "stream",
     "text": [
      "+-----+----------+----------------+------+\n",
      "| Name|Experience|          Course|Salary|\n",
      "+-----+----------+----------------+------+\n",
      "|Gagan|         6|    Data Science| 10000|\n",
      "|Radha|         6|             C++|  8000|\n",
      "| Ajay|         6|        Big Data|  9000|\n",
      "|Gagan|         5|Machine Learning| 12000|\n",
      "| Ajay|         4|          Python|  4000|\n",
      "+-----+----------+----------------+------+\n",
      "\n"
     ]
    }
   ],
   "source": [
    "df.where('Salary <> 7000').show()"
   ]
  },
  {
   "cell_type": "code",
   "execution_count": 132,
   "metadata": {},
   "outputs": [
    {
     "name": "stdout",
     "output_type": "stream",
     "text": [
      "+-----+----------+------------+------+\n",
      "| Name|Experience|      Course|Salary|\n",
      "+-----+----------+------------+------+\n",
      "|Gagan|         6|Data Science| 10000|\n",
      "+-----+----------+------------+------+\n",
      "\n"
     ]
    }
   ],
   "source": [
    "name_filter = col('Name') == 'Gagan'\n",
    "exp_filter = col('Experience') > 4\n",
    "df.where(df.Course.isin('Data Science')).where(name_filter | exp_filter).show()"
   ]
  },
  {
   "cell_type": "code",
   "execution_count": 135,
   "metadata": {},
   "outputs": [
    {
     "name": "stdout",
     "output_type": "stream",
     "text": [
      "+-----+----------+------------+------+------+\n",
      "| Name|Experience|      Course|Salary|isTrue|\n",
      "+-----+----------+------------+------+------+\n",
      "|Gagan|         6|Data Science| 10000|  true|\n",
      "+-----+----------+------------+------+------+\n",
      "\n"
     ]
    }
   ],
   "source": [
    "name_filter = col('Name') == 'Gagan'\n",
    "exp_filter = col('Experience') > 4\n",
    "course_filter = col('Course')=='Data Science'\n",
    "df.withColumn('isTrue', course_filter & (name_filter | exp_filter)).where('isTrue').show()"
   ]
  },
  {
   "cell_type": "code",
   "execution_count": 136,
   "metadata": {},
   "outputs": [
    {
     "name": "stdout",
     "output_type": "stream",
     "text": [
      "+----+----------+------+------+\n",
      "|Name|Experience|Course|Salary|\n",
      "+----+----------+------+------+\n",
      "+----+----------+------+------+\n",
      "\n"
     ]
    }
   ],
   "source": [
    "df.where(col('Course').eqNullSafe('No Course')).show()"
   ]
  },
  {
   "cell_type": "code",
   "execution_count": 137,
   "metadata": {},
   "outputs": [
    {
     "name": "stdout",
     "output_type": "stream",
     "text": [
      "+-----+-------------+\n",
      "| Name|Actual Salary|\n",
      "+-----+-------------+\n",
      "|Gagan|      10144.0|\n",
      "|Radha|       8144.0|\n",
      "|Radha|       7064.0|\n",
      "| Ajay|       9144.0|\n",
      "|Gagan|      12100.0|\n",
      "| Ajay|       4064.0|\n",
      "|Gagan|       7036.0|\n",
      "+-----+-------------+\n",
      "\n"
     ]
    }
   ],
   "source": [
    "new_salary = pow(col('Experience')*2, 2) + col('Salary')\n",
    "df.select('Name', new_salary.alias('Actual Salary')).show()"
   ]
  },
  {
   "cell_type": "code",
   "execution_count": 138,
   "metadata": {},
   "outputs": [
    {
     "name": "stdout",
     "output_type": "stream",
     "text": [
      "+-------------+--------------+\n",
      "|round(2.5, 0)|bround(2.5, 0)|\n",
      "+-------------+--------------+\n",
      "|          3.0|           2.0|\n",
      "|          3.0|           2.0|\n",
      "|          3.0|           2.0|\n",
      "|          3.0|           2.0|\n",
      "|          3.0|           2.0|\n",
      "|          3.0|           2.0|\n",
      "|          3.0|           2.0|\n",
      "+-------------+--------------+\n",
      "\n"
     ]
    }
   ],
   "source": [
    "df.select(round(lit('2.5')), bround(lit('2.5'))).show()"
   ]
  },
  {
   "cell_type": "code",
   "execution_count": 141,
   "metadata": {},
   "outputs": [
    {
     "ename": "AttributeError",
     "evalue": "'float' object has no attribute 'show'",
     "output_type": "error",
     "traceback": [
      "\u001b[0;31m---------------------------------------------------------------------------\u001b[0m",
      "\u001b[0;31mAttributeError\u001b[0m                            Traceback (most recent call last)",
      "\u001b[0;32m<ipython-input-141-56437e77060c>\u001b[0m in \u001b[0;36m<module>\u001b[0;34m\u001b[0m\n\u001b[0;32m----> 1\u001b[0;31m \u001b[0mdf\u001b[0m\u001b[0;34m.\u001b[0m\u001b[0mstat\u001b[0m\u001b[0;34m.\u001b[0m\u001b[0mcorr\u001b[0m\u001b[0;34m(\u001b[0m\u001b[0;34m'Salary'\u001b[0m\u001b[0;34m,\u001b[0m \u001b[0;34m'Experience'\u001b[0m\u001b[0;34m)\u001b[0m\u001b[0;34m.\u001b[0m\u001b[0mshow\u001b[0m\u001b[0;34m(\u001b[0m\u001b[0;34m)\u001b[0m\u001b[0;34m\u001b[0m\u001b[0;34m\u001b[0m\u001b[0m\n\u001b[0m",
      "\u001b[0;31mAttributeError\u001b[0m: 'float' object has no attribute 'show'"
     ]
    }
   ],
   "source": [
    "df.stat.corr('Salary', 'Experience')"
   ]
  },
  {
   "cell_type": "code",
   "execution_count": 140,
   "metadata": {},
   "outputs": [
    {
     "name": "stdout",
     "output_type": "stream",
     "text": [
      "+------------------------+\n",
      "|corr(Salary, Experience)|\n",
      "+------------------------+\n",
      "|      0.5467364794749064|\n",
      "+------------------------+\n",
      "\n"
     ]
    }
   ],
   "source": [
    "df.select(corr('Salary', 'Experience')).show()"
   ]
  },
  {
   "cell_type": "code",
   "execution_count": 142,
   "metadata": {},
   "outputs": [
    {
     "name": "stdout",
     "output_type": "stream",
     "text": [
      "+-------+-----+-----------------+--------+------------------+\n",
      "|summary| Name|       Experience|  Course|            Salary|\n",
      "+-------+-----+-----------------+--------+------------------+\n",
      "|  count|    7|                7|       7|                 7|\n",
      "|   mean| null|4.857142857142857|    null| 8142.857142857143|\n",
      "| stddev| null|1.214985792587912|    null|2544.8360411214067|\n",
      "|    min| Ajay|                3|Big Data|              4000|\n",
      "|    max|Radha|                6|  Python|             12000|\n",
      "+-------+-----+-----------------+--------+------------------+\n",
      "\n"
     ]
    }
   ],
   "source": [
    "df.describe().show()"
   ]
  },
  {
   "cell_type": "code",
   "execution_count": 143,
   "metadata": {},
   "outputs": [
    {
     "data": {
      "text/plain": [
       "[4000.0]"
      ]
     },
     "execution_count": 143,
     "metadata": {},
     "output_type": "execute_result"
    }
   ],
   "source": [
    "quantileProbs = [0.5]\n",
    "col_name = 'Salary'\n",
    "relErr = 0.5\n",
    "\n",
    "df.stat.approxQuantile('Salary', quantileProbs, relErr)"
   ]
  },
  {
   "cell_type": "code",
   "execution_count": 144,
   "metadata": {},
   "outputs": [
    {
     "name": "stdout",
     "output_type": "stream",
     "text": [
      "+-----------+-----+-----+----+----+----+----+\n",
      "|Name_Salary|10000|12000|4000|7000|8000|9000|\n",
      "+-----------+-----+-----+----+----+----+----+\n",
      "|       Ajay|    0|    0|   1|   0|   0|   1|\n",
      "|      Gagan|    1|    1|   0|   1|   0|   0|\n",
      "|      Radha|    0|    0|   0|   1|   1|   0|\n",
      "+-----------+-----+-----+----+----+----+----+\n",
      "\n"
     ]
    }
   ],
   "source": [
    "df.crosstab('Name','Salary').show()"
   ]
  },
  {
   "cell_type": "code",
   "execution_count": 145,
   "metadata": {},
   "outputs": [
    {
     "name": "stdout",
     "output_type": "stream",
     "text": [
      "+--------------------+--------------------+\n",
      "|      Name_freqItems|    Salary_freqItems|\n",
      "+--------------------+--------------------+\n",
      "|[Gagan, Ajay, Radha]|[10000, 7000, 120...|\n",
      "+--------------------+--------------------+\n",
      "\n"
     ]
    }
   ],
   "source": [
    "df.stat.freqItems(['Name','Salary']).show()"
   ]
  },
  {
   "cell_type": "code",
   "execution_count": 146,
   "metadata": {},
   "outputs": [
    {
     "name": "stdout",
     "output_type": "stream",
     "text": [
      "+-----------------------------+\n",
      "|monotonically_increasing_id()|\n",
      "+-----------------------------+\n",
      "|                            0|\n",
      "|                            1|\n",
      "|                            2|\n",
      "|                            3|\n",
      "|                            4|\n",
      "|                            5|\n",
      "|                            6|\n",
      "+-----------------------------+\n",
      "\n"
     ]
    }
   ],
   "source": [
    "df.select(monotonically_increasing_id()).show()"
   ]
  },
  {
   "cell_type": "code",
   "execution_count": 147,
   "metadata": {},
   "outputs": [
    {
     "name": "stdout",
     "output_type": "stream",
     "text": [
      "+----------------+\n",
      "| initcap(Course)|\n",
      "+----------------+\n",
      "|    Data Science|\n",
      "|             C++|\n",
      "|    Data Science|\n",
      "|        Big Data|\n",
      "|Machine Learning|\n",
      "|          Python|\n",
      "|        Big Data|\n",
      "+----------------+\n",
      "\n"
     ]
    }
   ],
   "source": [
    "df.select(initcap(col('Course'))).show()"
   ]
  },
  {
   "cell_type": "code",
   "execution_count": 148,
   "metadata": {},
   "outputs": [
    {
     "name": "stdout",
     "output_type": "stream",
     "text": [
      "+----------------+----------------+----------------+\n",
      "|          Course|   lower(Course)|   upper(Course)|\n",
      "+----------------+----------------+----------------+\n",
      "|    Data Science|    data science|    DATA SCIENCE|\n",
      "|             C++|             c++|             C++|\n",
      "|    Data Science|    data science|    DATA SCIENCE|\n",
      "|        Big Data|        big data|        BIG DATA|\n",
      "|Machine Learning|machine learning|MACHINE LEARNING|\n",
      "|          Python|          python|          PYTHON|\n",
      "|        Big Data|        big data|        BIG DATA|\n",
      "+----------------+----------------+----------------+\n",
      "\n"
     ]
    }
   ],
   "source": [
    "df.select(col('Course'), lower(col('Course')), upper(col('Course'))).show()"
   ]
  },
  {
   "cell_type": "code",
   "execution_count": 160,
   "metadata": {},
   "outputs": [
    {
     "name": "stdout",
     "output_type": "stream",
     "text": [
      "+--------+-------+-----+----------+--------+\n",
      "|   ltrim|   lpad| trim|      rpad|   rtrim|\n",
      "+--------+-------+-----+----------+--------+\n",
      "|Hello   |  Hello|Hello|Hello     |   Hello|\n",
      "|Hello   |  Hello|Hello|Hello     |   Hello|\n",
      "|Hello   |  Hello|Hello|Hello     |   Hello|\n",
      "|Hello   |  Hello|Hello|Hello     |   Hello|\n",
      "|Hello   |  Hello|Hello|Hello     |   Hello|\n",
      "|Hello   |  Hello|Hello|Hello     |   Hello|\n",
      "|Hello   |  Hello|Hello|Hello     |   Hello|\n",
      "+--------+-------+-----+----------+--------+\n",
      "\n"
     ]
    }
   ],
   "source": [
    "df.select(ltrim(lit('   Hello   ')).alias('ltrim'), lpad(lit('Hello'), 7, \" \").alias('lpad'), trim(lit('   Hello   ')).alias('trim'), rpad(lit('Hello'), 10, \" \").alias('rpad'), rtrim(lit('   Hello   ')).alias('rtrim')).show()"
   ]
  },
  {
   "cell_type": "code",
   "execution_count": 161,
   "metadata": {},
   "outputs": [
    {
     "name": "stdout",
     "output_type": "stream",
     "text": [
      "+------------------------------------------------+----------------+\n",
      "|regexp_replace(Course, Science|Learning, HAHAHA)|          Course|\n",
      "+------------------------------------------------+----------------+\n",
      "|                                     Data HAHAHA|    Data Science|\n",
      "|                                             C++|             C++|\n",
      "|                                     Data HAHAHA|    Data Science|\n",
      "|                                        Big Data|        Big Data|\n",
      "|                                  Machine HAHAHA|Machine Learning|\n",
      "|                                          Python|          Python|\n",
      "|                                        Big Data|        Big Data|\n",
      "+------------------------------------------------+----------------+\n",
      "\n"
     ]
    }
   ],
   "source": [
    "# regexp\n",
    "regex_string = 'Science|Learning'\n",
    "df.select(regexp_replace(col('Course'), regex_string, 'HAHAHA'), col('Course')).show()"
   ]
  },
  {
   "cell_type": "code",
   "execution_count": 164,
   "metadata": {},
   "outputs": [
    {
     "name": "stdout",
     "output_type": "stream",
     "text": [
      "+----------------------------------+----------------+\n",
      "|translate(upper(Course), CHE, 321)|          Course|\n",
      "+----------------------------------+----------------+\n",
      "|                      DATA S3I1N31|    Data Science|\n",
      "|                               3++|             C++|\n",
      "|                      DATA S3I1N31|    Data Science|\n",
      "|                          BIG DATA|        Big Data|\n",
      "|                  MA32IN1 L1ARNING|Machine Learning|\n",
      "|                            PYT2ON|          Python|\n",
      "|                          BIG DATA|        Big Data|\n",
      "+----------------------------------+----------------+\n",
      "\n"
     ]
    }
   ],
   "source": [
    "df.select(translate(upper(col('Course')),'CHE', '321'), col('Course')).show()"
   ]
  },
  {
   "cell_type": "code",
   "execution_count": 168,
   "metadata": {},
   "outputs": [
    {
     "name": "stdout",
     "output_type": "stream",
     "text": [
      "+-------+------------+\n",
      "|Extract|      Course|\n",
      "+-------+------------+\n",
      "|Science|Data Science|\n",
      "|       |         C++|\n",
      "+-------+------------+\n",
      "only showing top 2 rows\n",
      "\n"
     ]
    }
   ],
   "source": [
    "regex_string = '(Science|Learning)'\n",
    "df.select(regexp_extract(col('Course'), regex_string, 1).alias('Extract'), col('Course')).show(2)"
   ]
  },
  {
   "cell_type": "code",
   "execution_count": 172,
   "metadata": {},
   "outputs": [
    {
     "name": "stdout",
     "output_type": "stream",
     "text": [
      "+----------------+\n",
      "|Course          |\n",
      "+----------------+\n",
      "|Data Science    |\n",
      "|Data Science    |\n",
      "|Machine Learning|\n",
      "+----------------+\n",
      "\n"
     ]
    }
   ],
   "source": [
    "contain_science = instr(col('Course'), 'Science') >= 1\n",
    "contain_learning = instr(col('Course'), 'Learning') >= 1\n",
    "df.withColumn('hasDSML', contain_learning | contain_science).where('hasDSML').select('Course').show(3, False)"
   ]
  },
  {
   "cell_type": "code",
   "execution_count": 173,
   "metadata": {},
   "outputs": [
    {
     "name": "stdout",
     "output_type": "stream",
     "text": [
      "+----------------+\n",
      "|          Course|\n",
      "+----------------+\n",
      "|    Data Science|\n",
      "|    Data Science|\n",
      "|        Big Data|\n",
      "|Machine Learning|\n",
      "|        Big Data|\n",
      "+----------------+\n",
      "\n"
     ]
    }
   ],
   "source": [
    "DSML = ['Python','Science', 'Data', 'Learning', 'Machine']\n",
    "def course_locator(column, dsml_str):\n",
    "    return locate(dsml_str, column).cast('boolean').alias('is_'+dsml_str)\n",
    "\n",
    "selected_cols = [course_locator(df.Course, c) for c in DSML]\n",
    "selected_cols.append(expr(\"*\"))\n",
    "\n",
    "df.select(*selected_cols).where(expr('is_Learning OR is_Data')).select('Course').show()"
   ]
  },
  {
   "cell_type": "code",
   "execution_count": 174,
   "metadata": {},
   "outputs": [
    {
     "name": "stdout",
     "output_type": "stream",
     "text": [
      "+---+----------+--------------------+\n",
      "| id|     today|           timestamp|\n",
      "+---+----------+--------------------+\n",
      "|  0|2023-12-14|2023-12-14 21:29:...|\n",
      "|  1|2023-12-14|2023-12-14 21:29:...|\n",
      "|  2|2023-12-14|2023-12-14 21:29:...|\n",
      "|  3|2023-12-14|2023-12-14 21:29:...|\n",
      "|  4|2023-12-14|2023-12-14 21:29:...|\n",
      "|  5|2023-12-14|2023-12-14 21:29:...|\n",
      "|  6|2023-12-14|2023-12-14 21:29:...|\n",
      "|  7|2023-12-14|2023-12-14 21:29:...|\n",
      "|  8|2023-12-14|2023-12-14 21:29:...|\n",
      "|  9|2023-12-14|2023-12-14 21:29:...|\n",
      "+---+----------+--------------------+\n",
      "\n"
     ]
    }
   ],
   "source": [
    "df_time = spark.range(10).withColumn('today', current_date()).withColumn('timestamp', current_timestamp())\n",
    "df_time.show()"
   ]
  },
  {
   "cell_type": "code",
   "execution_count": 175,
   "metadata": {},
   "outputs": [],
   "source": [
    "df_time.createOrReplaceTempView('dateTable')"
   ]
  },
  {
   "cell_type": "code",
   "execution_count": 176,
   "metadata": {},
   "outputs": [
    {
     "name": "stdout",
     "output_type": "stream",
     "text": [
      "root\n",
      " |-- id: long (nullable = false)\n",
      " |-- today: date (nullable = false)\n",
      " |-- timestamp: timestamp (nullable = false)\n",
      "\n"
     ]
    }
   ],
   "source": [
    "df_time.printSchema()"
   ]
  },
  {
   "cell_type": "code",
   "execution_count": 177,
   "metadata": {},
   "outputs": [
    {
     "name": "stdout",
     "output_type": "stream",
     "text": [
      "+------------------+------------------+\n",
      "|date_sub(today, 5)|date_add(today, 5)|\n",
      "+------------------+------------------+\n",
      "|        2023-12-09|        2023-12-19|\n",
      "|        2023-12-09|        2023-12-19|\n",
      "|        2023-12-09|        2023-12-19|\n",
      "|        2023-12-09|        2023-12-19|\n",
      "|        2023-12-09|        2023-12-19|\n",
      "|        2023-12-09|        2023-12-19|\n",
      "|        2023-12-09|        2023-12-19|\n",
      "|        2023-12-09|        2023-12-19|\n",
      "|        2023-12-09|        2023-12-19|\n",
      "|        2023-12-09|        2023-12-19|\n",
      "+------------------+------------------+\n",
      "\n"
     ]
    }
   ],
   "source": [
    "df_time.select(date_sub(col('today'), 5), date_add(col('today'), 5)).show()"
   ]
  },
  {
   "cell_type": "code",
   "execution_count": 179,
   "metadata": {},
   "outputs": [
    {
     "name": "stdout",
     "output_type": "stream",
     "text": [
      "+-------------------------+\n",
      "|datediff(week_ago, today)|\n",
      "+-------------------------+\n",
      "|                       -7|\n",
      "|                       -7|\n",
      "|                       -7|\n",
      "|                       -7|\n",
      "|                       -7|\n",
      "|                       -7|\n",
      "|                       -7|\n",
      "|                       -7|\n",
      "|                       -7|\n",
      "|                       -7|\n",
      "+-------------------------+\n",
      "\n"
     ]
    }
   ],
   "source": [
    "df_time.withColumn('week_ago', date_sub(col('today'), 7)).select(datediff(col('week_ago'), col('today'))).show()"
   ]
  },
  {
   "cell_type": "code",
   "execution_count": 180,
   "metadata": {},
   "outputs": [
    {
     "name": "stdout",
     "output_type": "stream",
     "text": [
      "+------------------------------------+\n",
      "|months_between(start_date, end_date)|\n",
      "+------------------------------------+\n",
      "|                        -16.67741935|\n",
      "|                        -16.67741935|\n",
      "|                        -16.67741935|\n",
      "|                        -16.67741935|\n",
      "|                        -16.67741935|\n",
      "|                        -16.67741935|\n",
      "|                        -16.67741935|\n",
      "|                        -16.67741935|\n",
      "|                        -16.67741935|\n",
      "|                        -16.67741935|\n",
      "+------------------------------------+\n",
      "\n"
     ]
    }
   ],
   "source": [
    "df_time.select(to_date(lit('2016-01-01')).alias('start_date'), to_date(lit('2017-05-22')).alias('end_date')).select(months_between(col('start_date'), col('end_date'))).show()"
   ]
  },
  {
   "cell_type": "code",
   "execution_count": 183,
   "metadata": {},
   "outputs": [
    {
     "name": "stdout",
     "output_type": "stream",
     "text": [
      "+---------------------+---------------------+\n",
      "|to_date('2016-22-01')|to_date('2023-05-04')|\n",
      "+---------------------+---------------------+\n",
      "|                 null|           2023-05-04|\n",
      "|                 null|           2023-05-04|\n",
      "|                 null|           2023-05-04|\n",
      "|                 null|           2023-05-04|\n",
      "|                 null|           2023-05-04|\n",
      "|                 null|           2023-05-04|\n",
      "|                 null|           2023-05-04|\n",
      "|                 null|           2023-05-04|\n",
      "|                 null|           2023-05-04|\n",
      "|                 null|           2023-05-04|\n",
      "+---------------------+---------------------+\n",
      "\n"
     ]
    }
   ],
   "source": [
    "df_time.select(to_date(lit('2016-22-01')), to_date(lit('2023-05-04'))).show()"
   ]
  },
  {
   "cell_type": "code",
   "execution_count": 184,
   "metadata": {},
   "outputs": [
    {
     "name": "stdout",
     "output_type": "stream",
     "text": [
      "+-----------------------------------+-----------------------------------+\n",
      "|to_date('2016-22-01', 'yyyy-dd-MM')|to_date('2023-05-04', 'yyyy-dd-MM')|\n",
      "+-----------------------------------+-----------------------------------+\n",
      "|                         2016-01-22|                         2023-04-05|\n",
      "|                         2016-01-22|                         2023-04-05|\n",
      "|                         2016-01-22|                         2023-04-05|\n",
      "|                         2016-01-22|                         2023-04-05|\n",
      "|                         2016-01-22|                         2023-04-05|\n",
      "|                         2016-01-22|                         2023-04-05|\n",
      "|                         2016-01-22|                         2023-04-05|\n",
      "|                         2016-01-22|                         2023-04-05|\n",
      "|                         2016-01-22|                         2023-04-05|\n",
      "|                         2016-01-22|                         2023-04-05|\n",
      "+-----------------------------------+-----------------------------------+\n",
      "\n"
     ]
    }
   ],
   "source": [
    "date_format = 'yyyy-dd-MM'\n",
    "df_time.select(to_date(lit('2016-22-01'),date_format), to_date(lit('2023-05-04'),date_format)).show()"
   ]
  },
  {
   "cell_type": "code",
   "execution_count": 187,
   "metadata": {},
   "outputs": [
    {
     "name": "stdout",
     "output_type": "stream",
     "text": [
      "+-------------------+\n",
      "|               DATE|\n",
      "+-------------------+\n",
      "|2016-01-22 00:00:00|\n",
      "|2016-01-22 00:00:00|\n",
      "+-------------------+\n",
      "only showing top 2 rows\n",
      "\n"
     ]
    }
   ],
   "source": [
    "df_time.select(to_timestamp(lit('2016-22-01'), date_format).alias('DATE')).show(2)"
   ]
  },
  {
   "cell_type": "code",
   "execution_count": 188,
   "metadata": {},
   "outputs": [
    {
     "name": "stdout",
     "output_type": "stream",
     "text": [
      "+-------------------+\n",
      "|               DATE|\n",
      "+-------------------+\n",
      "|2016-01-22 00:00:00|\n",
      "|2016-01-22 00:00:00|\n",
      "+-------------------+\n",
      "only showing top 2 rows\n",
      "\n"
     ]
    }
   ],
   "source": [
    "df_time.select(to_timestamp(lit('2016-22-01'), date_format).alias('DATE')).filter(col('DATE') >= '2016-01-22').show(2)"
   ]
  },
  {
   "cell_type": "markdown",
   "metadata": {},
   "source": [
    "working with nulls"
   ]
  },
  {
   "cell_type": "code",
   "execution_count": 5,
   "metadata": {},
   "outputs": [],
   "source": [
    "df = spark.read.csv('test.csv', inferSchema=True, header=True)"
   ]
  },
  {
   "cell_type": "code",
   "execution_count": 6,
   "metadata": {},
   "outputs": [
    {
     "name": "stdout",
     "output_type": "stream",
     "text": [
      "+-----+----+----------+\n",
      "| Name| Age|Experience|\n",
      "+-----+----+----------+\n",
      "|Gagan|  25|         5|\n",
      "| Ajay|  28|         7|\n",
      "|Sunny|  30|        10|\n",
      "| null|  15|         1|\n",
      "|Radha|null|        10|\n",
      "|Rishi|null|      null|\n",
      "+-----+----+----------+\n",
      "\n"
     ]
    }
   ],
   "source": [
    "df.show()"
   ]
  },
  {
   "cell_type": "code",
   "execution_count": 8,
   "metadata": {},
   "outputs": [
    {
     "name": "stdout",
     "output_type": "stream",
     "text": [
      "+-------------------------------+\n",
      "|coalesce(Age, Experience, Name)|\n",
      "+-------------------------------+\n",
      "|                             25|\n",
      "|                             28|\n",
      "|                             30|\n",
      "|                             15|\n",
      "|                             10|\n",
      "|                          Rishi|\n",
      "+-------------------------------+\n",
      "\n"
     ]
    }
   ],
   "source": [
    "# getting the first non-null value from each record\n",
    "df.select(coalesce(col('Age'), col('Experience'), col('Name'))).show()"
   ]
  },
  {
   "cell_type": "code",
   "execution_count": 10,
   "metadata": {},
   "outputs": [
    {
     "name": "stdout",
     "output_type": "stream",
     "text": [
      "+-----+---+----------+\n",
      "| Name|Age|Experience|\n",
      "+-----+---+----------+\n",
      "|Gagan| 25|         5|\n",
      "| Ajay| 28|         7|\n",
      "|Sunny| 30|        10|\n",
      "+-----+---+----------+\n",
      "\n"
     ]
    }
   ],
   "source": [
    "df.na.drop().show()"
   ]
  },
  {
   "cell_type": "code",
   "execution_count": 11,
   "metadata": {},
   "outputs": [
    {
     "name": "stdout",
     "output_type": "stream",
     "text": [
      "+-----+---+----------+\n",
      "| Name|Age|Experience|\n",
      "+-----+---+----------+\n",
      "|Gagan| 25|         5|\n",
      "| Ajay| 28|         7|\n",
      "|Sunny| 30|        10|\n",
      "+-----+---+----------+\n",
      "\n"
     ]
    }
   ],
   "source": [
    "df.na.drop('any').show()"
   ]
  },
  {
   "cell_type": "code",
   "execution_count": 13,
   "metadata": {},
   "outputs": [
    {
     "name": "stdout",
     "output_type": "stream",
     "text": [
      "+-----+----+----------+\n",
      "| Name| Age|Experience|\n",
      "+-----+----+----------+\n",
      "|Gagan|  25|         5|\n",
      "| Ajay|  28|         7|\n",
      "|Sunny|  30|        10|\n",
      "| null|  15|         1|\n",
      "|Radha|null|        10|\n",
      "|Rishi|null|      null|\n",
      "+-----+----+----------+\n",
      "\n"
     ]
    }
   ],
   "source": [
    "df.na.drop('all').show()"
   ]
  },
  {
   "cell_type": "code",
   "execution_count": 14,
   "metadata": {},
   "outputs": [
    {
     "name": "stdout",
     "output_type": "stream",
     "text": [
      "+-----+----+----------+\n",
      "| Name| Age|Experience|\n",
      "+-----+----+----------+\n",
      "|Gagan|  25|         5|\n",
      "| Ajay|  28|         7|\n",
      "|Sunny|  30|        10|\n",
      "| null|  15|         1|\n",
      "|Radha|null|        10|\n",
      "+-----+----+----------+\n",
      "\n"
     ]
    }
   ],
   "source": [
    "df.na.drop('all', subset=['Age', 'Experience']).show()"
   ]
  },
  {
   "cell_type": "code",
   "execution_count": 15,
   "metadata": {},
   "outputs": [
    {
     "name": "stdout",
     "output_type": "stream",
     "text": [
      "+-----+---+----------+\n",
      "| Name|Age|Experience|\n",
      "+-----+---+----------+\n",
      "|Gagan| 25|         5|\n",
      "| Ajay| 28|         7|\n",
      "|Sunny| 30|        10|\n",
      "| null| 15|         1|\n",
      "+-----+---+----------+\n",
      "\n"
     ]
    }
   ],
   "source": [
    "df.na.drop('any', subset=['Age', 'Experience']).show()"
   ]
  },
  {
   "cell_type": "code",
   "execution_count": 16,
   "metadata": {},
   "outputs": [
    {
     "name": "stdout",
     "output_type": "stream",
     "text": [
      "+--------------------+----+----------+\n",
      "|                Name| Age|Experience|\n",
      "+--------------------+----+----------+\n",
      "|               Gagan|  25|         5|\n",
      "|                Ajay|  28|         7|\n",
      "|               Sunny|  30|        10|\n",
      "|These are Null Va...|  15|         1|\n",
      "|               Radha|null|        10|\n",
      "|               Rishi|null|      null|\n",
      "+--------------------+----+----------+\n",
      "\n"
     ]
    }
   ],
   "source": [
    "df.na.fill('These are Null Values').show()"
   ]
  },
  {
   "cell_type": "code",
   "execution_count": 17,
   "metadata": {},
   "outputs": [
    {
     "name": "stdout",
     "output_type": "stream",
     "text": [
      "+-----+---+----------+\n",
      "| Name|Age|Experience|\n",
      "+-----+---+----------+\n",
      "|Gagan| 25|         5|\n",
      "| Ajay| 28|         7|\n",
      "|Sunny| 30|        10|\n",
      "| null| 15|         1|\n",
      "|Radha|  0|        10|\n",
      "|Rishi|  0|         0|\n",
      "+-----+---+----------+\n",
      "\n"
     ]
    }
   ],
   "source": [
    "df.na.fill(0).show()"
   ]
  },
  {
   "cell_type": "code",
   "execution_count": 18,
   "metadata": {},
   "outputs": [
    {
     "name": "stdout",
     "output_type": "stream",
     "text": [
      "+-----+---+----------+\n",
      "| Name|Age|Experience|\n",
      "+-----+---+----------+\n",
      "|Gagan| 25|         5|\n",
      "| Ajay| 28|         7|\n",
      "|Sunny| 30|        10|\n",
      "|Gagan| 15|         1|\n",
      "|Radha| 25|        10|\n",
      "|Rishi| 25|         1|\n",
      "+-----+---+----------+\n",
      "\n"
     ]
    }
   ],
   "source": [
    "fill_values = {'Age':25, 'Experience':1, 'Name':'Gagan'}\n",
    "df.na.fill(fill_values).show()"
   ]
  },
  {
   "cell_type": "code",
   "execution_count": 24,
   "metadata": {},
   "outputs": [
    {
     "name": "stdout",
     "output_type": "stream",
     "text": [
      "+-----+----+----------+\n",
      "| Name| Age|Experience|\n",
      "+-----+----+----------+\n",
      "|Gagan|  25|         5|\n",
      "| Ajay|  28|         7|\n",
      "|Sunny|  30|        10|\n",
      "| null|  15|         1|\n",
      "|Radha|null|        10|\n",
      "|Rishi|null|      null|\n",
      "+-----+----+----------+\n",
      "\n"
     ]
    }
   ],
   "source": [
    "df.na.replace([''], ['UNKNOWN'], 'Name').show()"
   ]
  },
  {
   "cell_type": "markdown",
   "metadata": {},
   "source": [
    "complex datatype - Struct (complex_df is having only one column named complex. When we call all the columns inside the complex then it will give all other columns)"
   ]
  },
  {
   "cell_type": "code",
   "execution_count": 27,
   "metadata": {},
   "outputs": [],
   "source": [
    "complex_df = df.select(struct('Name', 'Age').alias('complex'))"
   ]
  },
  {
   "cell_type": "code",
   "execution_count": 33,
   "metadata": {},
   "outputs": [
    {
     "name": "stdout",
     "output_type": "stream",
     "text": [
      "+-----------+\n",
      "|    complex|\n",
      "+-----------+\n",
      "|[Gagan, 25]|\n",
      "| [Ajay, 28]|\n",
      "|[Sunny, 30]|\n",
      "|     [, 15]|\n",
      "|   [Radha,]|\n",
      "|   [Rishi,]|\n",
      "+-----------+\n",
      "\n"
     ]
    }
   ],
   "source": [
    "complex_df.show()"
   ]
  },
  {
   "cell_type": "code",
   "execution_count": 30,
   "metadata": {},
   "outputs": [
    {
     "name": "stdout",
     "output_type": "stream",
     "text": [
      "+-----+----+\n",
      "| Name| Age|\n",
      "+-----+----+\n",
      "|Gagan|  25|\n",
      "| Ajay|  28|\n",
      "|Sunny|  30|\n",
      "| null|  15|\n",
      "|Radha|null|\n",
      "|Rishi|null|\n",
      "+-----+----+\n",
      "\n"
     ]
    }
   ],
   "source": [
    "complex_df.select('complex.*').show()"
   ]
  },
  {
   "cell_type": "markdown",
   "metadata": {},
   "source": [
    "complex type array"
   ]
  },
  {
   "cell_type": "code",
   "execution_count": 35,
   "metadata": {},
   "outputs": [
    {
     "name": "stdout",
     "output_type": "stream",
     "text": [
      "+-----------------+\n",
      "|    split(Name, )|\n",
      "+-----------------+\n",
      "|[G, a, g, a, n, ]|\n",
      "|   [A, j, a, y, ]|\n",
      "|[S, u, n, n, y, ]|\n",
      "|             null|\n",
      "|[R, a, d, h, a, ]|\n",
      "|[R, i, s, h, i, ]|\n",
      "+-----------------+\n",
      "\n"
     ]
    }
   ],
   "source": [
    "df.select(split(col('Name'), '')).show()"
   ]
  },
  {
   "cell_type": "code",
   "execution_count": 37,
   "metadata": {},
   "outputs": [
    {
     "name": "stdout",
     "output_type": "stream",
     "text": [
      "+-----------+\n",
      "|arrayCol[0]|\n",
      "+-----------+\n",
      "|          G|\n",
      "|          A|\n",
      "|          S|\n",
      "|       null|\n",
      "|          R|\n",
      "|          R|\n",
      "+-----------+\n",
      "\n"
     ]
    }
   ],
   "source": [
    "df.select(split(col('Name'), '').alias('arrayCol')).selectExpr('arrayCol[0]').show()"
   ]
  },
  {
   "cell_type": "code",
   "execution_count": 38,
   "metadata": {},
   "outputs": [
    {
     "name": "stdout",
     "output_type": "stream",
     "text": [
      "+-------------------+\n",
      "|size(split(Name, ))|\n",
      "+-------------------+\n",
      "|                  6|\n",
      "|                  5|\n",
      "|                  6|\n",
      "|                 -1|\n",
      "|                  6|\n",
      "|                  6|\n",
      "+-------------------+\n",
      "\n"
     ]
    }
   ],
   "source": [
    "df.select(size(split(col('Name'), ''))).show()"
   ]
  },
  {
   "cell_type": "code",
   "execution_count": 39,
   "metadata": {},
   "outputs": [
    {
     "name": "stdout",
     "output_type": "stream",
     "text": [
      "+--------------------------------+\n",
      "|array_contains(split(Name, ), G)|\n",
      "+--------------------------------+\n",
      "|                            true|\n",
      "|                           false|\n",
      "|                           false|\n",
      "|                            null|\n",
      "|                           false|\n",
      "|                           false|\n",
      "+--------------------------------+\n",
      "\n"
     ]
    }
   ],
   "source": [
    "df.select(array_contains(split(col('Name'), ''), 'G')).show()"
   ]
  },
  {
   "cell_type": "code",
   "execution_count": 40,
   "metadata": {},
   "outputs": [
    {
     "name": "stdout",
     "output_type": "stream",
     "text": [
      "+--------------+----+-----+----------+\n",
      "|splitter_first| Age| Name|Experience|\n",
      "+--------------+----+-----+----------+\n",
      "|             G|  25|Gagan|         5|\n",
      "|             a|  25|Gagan|         5|\n",
      "|             g|  25|Gagan|         5|\n",
      "|             a|  25|Gagan|         5|\n",
      "|             n|  25|Gagan|         5|\n",
      "|              |  25|Gagan|         5|\n",
      "|             A|  28| Ajay|         7|\n",
      "|             j|  28| Ajay|         7|\n",
      "|             a|  28| Ajay|         7|\n",
      "|             y|  28| Ajay|         7|\n",
      "|              |  28| Ajay|         7|\n",
      "|             S|  30|Sunny|        10|\n",
      "|             u|  30|Sunny|        10|\n",
      "|             n|  30|Sunny|        10|\n",
      "|             n|  30|Sunny|        10|\n",
      "|             y|  30|Sunny|        10|\n",
      "|              |  30|Sunny|        10|\n",
      "|             R|null|Radha|        10|\n",
      "|             a|null|Radha|        10|\n",
      "|             d|null|Radha|        10|\n",
      "+--------------+----+-----+----------+\n",
      "only showing top 20 rows\n",
      "\n"
     ]
    }
   ],
   "source": [
    "df.withColumn('splitter', split(col('Name'), '')).withColumn('splitter_first', explode(col('splitter'))).select('splitter_first', 'Age', 'Name', 'Experience').show()"
   ]
  },
  {
   "cell_type": "code",
   "execution_count": 53,
   "metadata": {},
   "outputs": [
    {
     "name": "stdout",
     "output_type": "stream",
     "text": [
      "+----------------+\n",
      "|            Test|\n",
      "+----------------+\n",
      "|[Gagan -> Gagan]|\n",
      "|  [Ajay -> Ajay]|\n",
      "|[Sunny -> Sunny]|\n",
      "+----------------+\n",
      "\n"
     ]
    }
   ],
   "source": [
    "df.na.drop('any').withColumn('NewName', col('Name')).select(create_map(col('NewName'), col('Name')).alias('Test')).show()"
   ]
  },
  {
   "cell_type": "code",
   "execution_count": 54,
   "metadata": {},
   "outputs": [
    {
     "name": "stdout",
     "output_type": "stream",
     "text": [
      "+-------------+\n",
      "|         Test|\n",
      "+-------------+\n",
      "|[25 -> Gagan]|\n",
      "| [28 -> Ajay]|\n",
      "|[30 -> Sunny]|\n",
      "+-------------+\n",
      "\n"
     ]
    }
   ],
   "source": [
    "df.na.drop('any').select(create_map(col('Age'), col('Name')).alias('Test')).show()"
   ]
  },
  {
   "cell_type": "code",
   "execution_count": 56,
   "metadata": {},
   "outputs": [
    {
     "name": "stdout",
     "output_type": "stream",
     "text": [
      "+--------+\n",
      "|Test[25]|\n",
      "+--------+\n",
      "|   Gagan|\n",
      "|    null|\n",
      "|    null|\n",
      "+--------+\n",
      "\n"
     ]
    }
   ],
   "source": [
    "df.na.drop('any').select(create_map(col('Age'), col('Name')).alias('Test')).selectExpr('Test[25]').show()"
   ]
  },
  {
   "cell_type": "code",
   "execution_count": 63,
   "metadata": {},
   "outputs": [
    {
     "name": "stdout",
     "output_type": "stream",
     "text": [
      "+---+-----+\n",
      "|key|value|\n",
      "+---+-----+\n",
      "| 25|Gagan|\n",
      "| 28| Ajay|\n",
      "| 30|Sunny|\n",
      "+---+-----+\n",
      "\n"
     ]
    }
   ],
   "source": [
    "df.na.drop('any').select(create_map(col('Age'), col('Name')).alias('Test')).selectExpr('explode(Test)').show()"
   ]
  },
  {
   "cell_type": "markdown",
   "metadata": {},
   "source": [
    " need to look for why only map is not working where as create_map is working fine"
   ]
  },
  {
   "cell_type": "markdown",
   "metadata": {},
   "source": [
    "JSON DF"
   ]
  },
  {
   "cell_type": "code",
   "execution_count": 81,
   "metadata": {},
   "outputs": [],
   "source": [
    "json_df = spark.range(1).selectExpr(\"\"\"\n",
    "'{\"myJSONKey\":{\"myJSONValue\":[1,2,3]}}' as jsonString\"\"\")"
   ]
  },
  {
   "cell_type": "code",
   "execution_count": 82,
   "metadata": {},
   "outputs": [
    {
     "name": "stdout",
     "output_type": "stream",
     "text": [
      "+------+--------------------+\n",
      "|column|                  c0|\n",
      "+------+--------------------+\n",
      "|     2|{\"myJSONValue\":[1...|\n",
      "+------+--------------------+\n",
      "\n"
     ]
    }
   ],
   "source": [
    "json_df.select(get_json_object(col('jsonString'), '$.myJSONKey.myJSONValue[1]').alias('column'), json_tuple(col('jsonString'), 'myJSONKey')).show()"
   ]
  },
  {
   "cell_type": "code",
   "execution_count": 83,
   "metadata": {},
   "outputs": [
    {
     "name": "stdout",
     "output_type": "stream",
     "text": [
      "+-----------------------+\n",
      "|structstojson(myStruct)|\n",
      "+-----------------------+\n",
      "|   {\"Name\":\"Gagan\",\"...|\n",
      "|   {\"Name\":\"Ajay\",\"A...|\n",
      "|   {\"Name\":\"Sunny\",\"...|\n",
      "|             {\"Age\":15}|\n",
      "|       {\"Name\":\"Radha\"}|\n",
      "|       {\"Name\":\"Rishi\"}|\n",
      "+-----------------------+\n",
      "\n"
     ]
    }
   ],
   "source": [
    "df.selectExpr(\"(Name, Age) as myStruct\").select(to_json(col('myStruct'))).show()"
   ]
  },
  {
   "cell_type": "code",
   "execution_count": 85,
   "metadata": {},
   "outputs": [
    {
     "name": "stdout",
     "output_type": "stream",
     "text": [
      "+----------------------+--------------------+\n",
      "|jsontostructs(newJSON)|             newJSON|\n",
      "+----------------------+--------------------+\n",
      "|           [Gagan, 25]|{\"Name\":\"Gagan\",\"...|\n",
      "|            [Ajay, 28]|{\"Name\":\"Ajay\",\"A...|\n",
      "|           [Sunny, 30]|{\"Name\":\"Sunny\",\"...|\n",
      "|                [, 15]|          {\"Age\":15}|\n",
      "|              [Radha,]|    {\"Name\":\"Radha\"}|\n",
      "|              [Rishi,]|    {\"Name\":\"Rishi\"}|\n",
      "+----------------------+--------------------+\n",
      "\n"
     ]
    }
   ],
   "source": [
    "parseSchema = StructType((StructField('Name', StringType(), True), StructField('Age', IntegerType(), True)))\n",
    "df.selectExpr('(Name, Age) as myStruct').select(to_json(col('myStruct')).alias('newJSON')).select(from_json(col('newJSON'), parseSchema), col('newJSON')).show()"
   ]
  },
  {
   "cell_type": "markdown",
   "metadata": {},
   "source": [
    "### UDF (user defined function)"
   ]
  },
  {
   "cell_type": "code",
   "execution_count": 89,
   "metadata": {},
   "outputs": [
    {
     "data": {
      "text/plain": [
       "8"
      ]
     },
     "execution_count": 89,
     "metadata": {},
     "output_type": "execute_result"
    }
   ],
   "source": [
    "udfExampleDF = spark.range(5).toDF('num')\n",
    "def power3(num):\n",
    "    return num ** 3\n",
    "power3(2)"
   ]
  },
  {
   "cell_type": "code",
   "execution_count": 91,
   "metadata": {},
   "outputs": [],
   "source": [
    "power3udf= udf(power3)\n",
    "udfExampleDF.select(power3udf(col('num'))).show()"
   ]
  },
  {
   "cell_type": "code",
   "execution_count": null,
   "metadata": {},
   "outputs": [],
   "source": []
  },
  {
   "cell_type": "code",
   "execution_count": null,
   "metadata": {},
   "outputs": [],
   "source": []
  },
  {
   "cell_type": "code",
   "execution_count": null,
   "metadata": {},
   "outputs": [],
   "source": []
  },
  {
   "cell_type": "code",
   "execution_count": null,
   "metadata": {},
   "outputs": [],
   "source": []
  },
  {
   "cell_type": "code",
   "execution_count": null,
   "metadata": {},
   "outputs": [],
   "source": []
  },
  {
   "cell_type": "code",
   "execution_count": null,
   "metadata": {},
   "outputs": [],
   "source": []
  },
  {
   "cell_type": "code",
   "execution_count": null,
   "metadata": {},
   "outputs": [],
   "source": []
  },
  {
   "cell_type": "code",
   "execution_count": null,
   "metadata": {},
   "outputs": [],
   "source": []
  },
  {
   "cell_type": "code",
   "execution_count": null,
   "metadata": {},
   "outputs": [],
   "source": []
  },
  {
   "cell_type": "code",
   "execution_count": null,
   "metadata": {},
   "outputs": [],
   "source": []
  },
  {
   "cell_type": "code",
   "execution_count": null,
   "metadata": {},
   "outputs": [],
   "source": []
  },
  {
   "cell_type": "code",
   "execution_count": null,
   "metadata": {},
   "outputs": [],
   "source": []
  },
  {
   "cell_type": "code",
   "execution_count": null,
   "metadata": {},
   "outputs": [],
   "source": []
  },
  {
   "cell_type": "code",
   "execution_count": null,
   "metadata": {},
   "outputs": [],
   "source": []
  },
  {
   "cell_type": "code",
   "execution_count": null,
   "metadata": {},
   "outputs": [],
   "source": []
  },
  {
   "cell_type": "code",
   "execution_count": null,
   "metadata": {},
   "outputs": [],
   "source": []
  },
  {
   "cell_type": "code",
   "execution_count": null,
   "metadata": {},
   "outputs": [],
   "source": []
  },
  {
   "cell_type": "code",
   "execution_count": null,
   "metadata": {},
   "outputs": [],
   "source": []
  },
  {
   "cell_type": "code",
   "execution_count": null,
   "metadata": {},
   "outputs": [],
   "source": []
  },
  {
   "cell_type": "code",
   "execution_count": null,
   "metadata": {},
   "outputs": [],
   "source": []
  },
  {
   "cell_type": "code",
   "execution_count": null,
   "metadata": {},
   "outputs": [],
   "source": []
  },
  {
   "cell_type": "code",
   "execution_count": null,
   "metadata": {},
   "outputs": [],
   "source": []
  },
  {
   "cell_type": "code",
   "execution_count": null,
   "metadata": {},
   "outputs": [],
   "source": []
  },
  {
   "cell_type": "code",
   "execution_count": null,
   "metadata": {},
   "outputs": [],
   "source": []
  },
  {
   "cell_type": "code",
   "execution_count": null,
   "metadata": {},
   "outputs": [],
   "source": []
  },
  {
   "cell_type": "code",
   "execution_count": null,
   "metadata": {},
   "outputs": [],
   "source": []
  },
  {
   "cell_type": "code",
   "execution_count": null,
   "metadata": {},
   "outputs": [],
   "source": []
  },
  {
   "cell_type": "code",
   "execution_count": null,
   "metadata": {},
   "outputs": [],
   "source": []
  },
  {
   "cell_type": "code",
   "execution_count": null,
   "metadata": {},
   "outputs": [],
   "source": []
  },
  {
   "cell_type": "code",
   "execution_count": null,
   "metadata": {},
   "outputs": [],
   "source": []
  },
  {
   "cell_type": "code",
   "execution_count": null,
   "metadata": {},
   "outputs": [],
   "source": []
  },
  {
   "cell_type": "code",
   "execution_count": null,
   "metadata": {},
   "outputs": [],
   "source": []
  },
  {
   "cell_type": "code",
   "execution_count": null,
   "metadata": {},
   "outputs": [],
   "source": []
  },
  {
   "cell_type": "code",
   "execution_count": null,
   "metadata": {},
   "outputs": [],
   "source": []
  },
  {
   "cell_type": "code",
   "execution_count": null,
   "metadata": {},
   "outputs": [],
   "source": []
  },
  {
   "cell_type": "code",
   "execution_count": null,
   "metadata": {},
   "outputs": [],
   "source": []
  },
  {
   "cell_type": "code",
   "execution_count": null,
   "metadata": {},
   "outputs": [],
   "source": []
  },
  {
   "cell_type": "code",
   "execution_count": null,
   "metadata": {},
   "outputs": [],
   "source": []
  },
  {
   "cell_type": "code",
   "execution_count": null,
   "metadata": {},
   "outputs": [],
   "source": []
  },
  {
   "cell_type": "code",
   "execution_count": null,
   "metadata": {},
   "outputs": [],
   "source": []
  },
  {
   "cell_type": "code",
   "execution_count": null,
   "metadata": {},
   "outputs": [],
   "source": []
  },
  {
   "cell_type": "code",
   "execution_count": null,
   "metadata": {},
   "outputs": [],
   "source": []
  },
  {
   "cell_type": "code",
   "execution_count": null,
   "metadata": {},
   "outputs": [],
   "source": []
  },
  {
   "cell_type": "code",
   "execution_count": null,
   "metadata": {},
   "outputs": [],
   "source": []
  },
  {
   "cell_type": "code",
   "execution_count": null,
   "metadata": {},
   "outputs": [],
   "source": []
  },
  {
   "cell_type": "code",
   "execution_count": null,
   "metadata": {},
   "outputs": [],
   "source": []
  },
  {
   "cell_type": "code",
   "execution_count": null,
   "metadata": {},
   "outputs": [],
   "source": []
  },
  {
   "cell_type": "code",
   "execution_count": null,
   "metadata": {},
   "outputs": [],
   "source": []
  },
  {
   "cell_type": "code",
   "execution_count": null,
   "metadata": {},
   "outputs": [],
   "source": []
  },
  {
   "cell_type": "code",
   "execution_count": null,
   "metadata": {},
   "outputs": [],
   "source": []
  },
  {
   "cell_type": "code",
   "execution_count": null,
   "metadata": {},
   "outputs": [],
   "source": []
  },
  {
   "cell_type": "code",
   "execution_count": null,
   "metadata": {},
   "outputs": [],
   "source": []
  },
  {
   "cell_type": "code",
   "execution_count": null,
   "metadata": {},
   "outputs": [],
   "source": []
  },
  {
   "cell_type": "code",
   "execution_count": null,
   "metadata": {},
   "outputs": [],
   "source": []
  },
  {
   "cell_type": "code",
   "execution_count": null,
   "metadata": {},
   "outputs": [],
   "source": []
  },
  {
   "cell_type": "code",
   "execution_count": null,
   "metadata": {},
   "outputs": [],
   "source": []
  },
  {
   "cell_type": "code",
   "execution_count": null,
   "metadata": {},
   "outputs": [],
   "source": []
  },
  {
   "cell_type": "code",
   "execution_count": null,
   "metadata": {},
   "outputs": [],
   "source": []
  },
  {
   "cell_type": "code",
   "execution_count": null,
   "metadata": {},
   "outputs": [],
   "source": []
  },
  {
   "cell_type": "code",
   "execution_count": null,
   "metadata": {},
   "outputs": [],
   "source": []
  },
  {
   "cell_type": "code",
   "execution_count": null,
   "metadata": {},
   "outputs": [],
   "source": []
  },
  {
   "cell_type": "code",
   "execution_count": null,
   "metadata": {},
   "outputs": [],
   "source": []
  },
  {
   "cell_type": "code",
   "execution_count": null,
   "metadata": {},
   "outputs": [],
   "source": []
  },
  {
   "cell_type": "code",
   "execution_count": null,
   "metadata": {},
   "outputs": [],
   "source": []
  },
  {
   "cell_type": "code",
   "execution_count": null,
   "metadata": {},
   "outputs": [],
   "source": []
  },
  {
   "cell_type": "code",
   "execution_count": null,
   "metadata": {},
   "outputs": [],
   "source": []
  },
  {
   "cell_type": "code",
   "execution_count": null,
   "metadata": {},
   "outputs": [],
   "source": []
  },
  {
   "cell_type": "code",
   "execution_count": null,
   "metadata": {},
   "outputs": [],
   "source": []
  },
  {
   "cell_type": "code",
   "execution_count": null,
   "metadata": {},
   "outputs": [],
   "source": []
  },
  {
   "cell_type": "code",
   "execution_count": null,
   "metadata": {},
   "outputs": [],
   "source": []
  },
  {
   "cell_type": "code",
   "execution_count": null,
   "metadata": {},
   "outputs": [],
   "source": []
  },
  {
   "cell_type": "code",
   "execution_count": null,
   "metadata": {},
   "outputs": [],
   "source": []
  },
  {
   "cell_type": "code",
   "execution_count": null,
   "metadata": {},
   "outputs": [],
   "source": []
  },
  {
   "cell_type": "code",
   "execution_count": null,
   "metadata": {},
   "outputs": [],
   "source": []
  },
  {
   "cell_type": "code",
   "execution_count": null,
   "metadata": {},
   "outputs": [],
   "source": []
  },
  {
   "cell_type": "code",
   "execution_count": null,
   "metadata": {},
   "outputs": [],
   "source": []
  },
  {
   "cell_type": "code",
   "execution_count": null,
   "metadata": {},
   "outputs": [],
   "source": []
  },
  {
   "cell_type": "code",
   "execution_count": null,
   "metadata": {},
   "outputs": [],
   "source": []
  },
  {
   "cell_type": "code",
   "execution_count": null,
   "metadata": {},
   "outputs": [],
   "source": []
  }
 ],
 "metadata": {
  "kernelspec": {
   "display_name": "py_37",
   "language": "python",
   "name": "python3"
  },
  "language_info": {
   "codemirror_mode": {
    "name": "ipython",
    "version": 3
   },
   "file_extension": ".py",
   "mimetype": "text/x-python",
   "name": "python",
   "nbconvert_exporter": "python",
   "pygments_lexer": "ipython3",
   "version": "3.7.10"
  }
 },
 "nbformat": 4,
 "nbformat_minor": 2
}
