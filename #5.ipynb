{
 "cells": [
  {
   "cell_type": "code",
   "execution_count": 1,
   "metadata": {},
   "outputs": [],
   "source": [
    "from pyspark.sql import SparkSession\n",
    "from pyspark.sql.types import *\n",
    "from pyspark.sql.functions import *\n",
    "spark = SparkSession.builder.appName('test').getOrCreate()"
   ]
  },
  {
   "cell_type": "code",
   "execution_count": 16,
   "metadata": {},
   "outputs": [],
   "source": [
    "df = spark.read.csv('test2.csv', inferSchema=True, header=True)"
   ]
  },
  {
   "cell_type": "code",
   "execution_count": 17,
   "metadata": {},
   "outputs": [
    {
     "name": "stdout",
     "output_type": "stream",
     "text": [
      "+-----+----------+----------------+------+\n",
      "| Name|Experience|          Course|Salary|\n",
      "+-----+----------+----------------+------+\n",
      "|Gagan|         6|    Data Science| 10000|\n",
      "|Radha|         6|             C++|  8000|\n",
      "|Radha|         4|    Data Science|  7000|\n",
      "| Ajay|         6|        Big Data|  9000|\n",
      "|Gagan|         5|Machine Learning| 12000|\n",
      "| Ajay|         4|          Python|  4000|\n",
      "|Gagan|         3|        Big Data|  7000|\n",
      "+-----+----------+----------------+------+\n",
      "\n"
     ]
    }
   ],
   "source": [
    "df.show()"
   ]
  },
  {
   "cell_type": "code",
   "execution_count": 18,
   "metadata": {},
   "outputs": [
    {
     "name": "stdout",
     "output_type": "stream",
     "text": [
      "root\n",
      " |-- Name: string (nullable = true)\n",
      " |-- Experience: integer (nullable = true)\n",
      " |-- Course: string (nullable = true)\n",
      " |-- Salary: integer (nullable = true)\n",
      "\n"
     ]
    }
   ],
   "source": [
    "df.printSchema()"
   ]
  },
  {
   "cell_type": "code",
   "execution_count": 19,
   "metadata": {},
   "outputs": [
    {
     "name": "stdout",
     "output_type": "stream",
     "text": [
      "+-----+----------+----------------+------+\n",
      "| Name|Experience|          Course|Salary|\n",
      "+-----+----------+----------------+------+\n",
      "|Gagan|         6|    Data Science|    16|\n",
      "|Radha|         6|             C++|    64|\n",
      "|Radha|         4|    Data Science|    88|\n",
      "| Ajay|         6|        Big Data|    40|\n",
      "|Gagan|         5|Machine Learning|   -32|\n",
      "| Ajay|         4|          Python|   -96|\n",
      "|Gagan|         3|        Big Data|    88|\n",
      "+-----+----------+----------------+------+\n",
      "\n"
     ]
    }
   ],
   "source": [
    "df.withColumn('Salary', col('Salary').cast(ByteType())).show()"
   ]
  },
  {
   "cell_type": "code",
   "execution_count": 20,
   "metadata": {},
   "outputs": [
    {
     "name": "stdout",
     "output_type": "stream",
     "text": [
      "+-----+----------+----------------+------+\n",
      "| Name|Experience|          Course|Salary|\n",
      "+-----+----------+----------------+------+\n",
      "|Gagan|         6|    Data Science| 10000|\n",
      "|Radha|         6|             C++|  8000|\n",
      "|Radha|         4|    Data Science|  7000|\n",
      "| Ajay|         6|        Big Data|  9000|\n",
      "|Gagan|         5|Machine Learning| 12000|\n",
      "| Ajay|         4|          Python|  4000|\n",
      "|Gagan|         3|        Big Data|  7000|\n",
      "+-----+----------+----------------+------+\n",
      "\n"
     ]
    }
   ],
   "source": [
    "df.withColumn('Salary', col('Salary').cast(ShortType())).show()"
   ]
  },
  {
   "cell_type": "code",
   "execution_count": 27,
   "metadata": {},
   "outputs": [
    {
     "data": {
      "text/plain": [
       "Column<b'Salary'>"
      ]
     },
     "execution_count": 27,
     "metadata": {},
     "output_type": "execute_result"
    }
   ],
   "source": [
    "col('Salary')"
   ]
  },
  {
   "cell_type": "code",
   "execution_count": 22,
   "metadata": {},
   "outputs": [
    {
     "data": {
      "text/plain": [
       "Column<b'Salary'>"
      ]
     },
     "execution_count": 22,
     "metadata": {},
     "output_type": "execute_result"
    }
   ],
   "source": [
    "column('Salary')"
   ]
  },
  {
   "cell_type": "code",
   "execution_count": 28,
   "metadata": {},
   "outputs": [
    {
     "data": {
      "text/plain": [
       "Column<b'((((same_col + 5) * 200) - 6) < other_col)'>"
      ]
     },
     "execution_count": 28,
     "metadata": {},
     "output_type": "execute_result"
    }
   ],
   "source": [
    "expr(\"(((same_col+5)*200)-6) < other_col\")"
   ]
  },
  {
   "cell_type": "code",
   "execution_count": 29,
   "metadata": {},
   "outputs": [
    {
     "data": {
      "text/plain": [
       "Row(Name='Gagan', Experience=6, Course='Data Science', Salary=10000)"
      ]
     },
     "execution_count": 29,
     "metadata": {},
     "output_type": "execute_result"
    }
   ],
   "source": [
    "df.first()"
   ]
  },
  {
   "cell_type": "code",
   "execution_count": 31,
   "metadata": {},
   "outputs": [
    {
     "name": "stdout",
     "output_type": "stream",
     "text": [
      "+------+\n",
      "|Salary|\n",
      "+------+\n",
      "| 10000|\n",
      "|  8000|\n",
      "+------+\n",
      "only showing top 2 rows\n",
      "\n"
     ]
    }
   ],
   "source": [
    "df.select('Salary').show(2)"
   ]
  },
  {
   "cell_type": "code",
   "execution_count": 32,
   "metadata": {},
   "outputs": [],
   "source": [
    "df.createOrReplaceTempView('employee')"
   ]
  },
  {
   "cell_type": "code",
   "execution_count": 33,
   "metadata": {},
   "outputs": [
    {
     "name": "stdout",
     "output_type": "stream",
     "text": [
      "+------+\n",
      "|Salary|\n",
      "+------+\n",
      "| 10000|\n",
      "|  8000|\n",
      "+------+\n",
      "only showing top 2 rows\n",
      "\n"
     ]
    }
   ],
   "source": [
    "spark.sql('select Salary from  employee').show(2)"
   ]
  },
  {
   "cell_type": "code",
   "execution_count": 40,
   "metadata": {},
   "outputs": [
    {
     "name": "stdout",
     "output_type": "stream",
     "text": [
      "+------+------------+\n",
      "|Salary|      Course|\n",
      "+------+------------+\n",
      "| 10000|Data Science|\n",
      "|  8000|         C++|\n",
      "+------+------------+\n",
      "only showing top 2 rows\n",
      "\n",
      "+------+------------+\n",
      "|Salary|      Course|\n",
      "+------+------------+\n",
      "| 10000|Data Science|\n",
      "|  8000|         C++|\n",
      "+------+------------+\n",
      "only showing top 2 rows\n",
      "\n"
     ]
    }
   ],
   "source": [
    "df.select('Salary', 'Course').show(2)\n",
    "spark.sql('select Salary, Course from employee').show(2)"
   ]
  },
  {
   "cell_type": "code",
   "execution_count": 41,
   "metadata": {},
   "outputs": [
    {
     "name": "stdout",
     "output_type": "stream",
     "text": [
      "+------+------------+-----+\n",
      "|Salary|      Course| Name|\n",
      "+------+------------+-----+\n",
      "| 10000|Data Science|Gagan|\n",
      "|  8000|         C++|Radha|\n",
      "+------+------------+-----+\n",
      "only showing top 2 rows\n",
      "\n"
     ]
    }
   ],
   "source": [
    "df.select(expr('Salary'), col('Course'), column('Name')).show(2)\n"
   ]
  },
  {
   "cell_type": "code",
   "execution_count": 42,
   "metadata": {},
   "outputs": [
    {
     "name": "stdout",
     "output_type": "stream",
     "text": [
      "+------+\n",
      "|amount|\n",
      "+------+\n",
      "| 10000|\n",
      "|  8000|\n",
      "+------+\n",
      "only showing top 2 rows\n",
      "\n"
     ]
    }
   ],
   "source": [
    "df.select(expr('Salary as amount')).show(2)"
   ]
  },
  {
   "cell_type": "code",
   "execution_count": 43,
   "metadata": {},
   "outputs": [
    {
     "name": "stdout",
     "output_type": "stream",
     "text": [
      "+------+\n",
      "|amount|\n",
      "+------+\n",
      "| 10000|\n",
      "|  8000|\n",
      "+------+\n",
      "only showing top 2 rows\n",
      "\n"
     ]
    }
   ],
   "source": [
    "df.selectExpr('Salary as amount').show(2)"
   ]
  },
  {
   "cell_type": "code",
   "execution_count": 44,
   "metadata": {},
   "outputs": [
    {
     "name": "stdout",
     "output_type": "stream",
     "text": [
      "root\n",
      " |-- Name: string (nullable = true)\n",
      " |-- Experience: integer (nullable = true)\n",
      " |-- Course: string (nullable = true)\n",
      " |-- Salary: integer (nullable = true)\n",
      "\n"
     ]
    }
   ],
   "source": [
    "df.printSchema()"
   ]
  },
  {
   "cell_type": "code",
   "execution_count": 45,
   "metadata": {},
   "outputs": [
    {
     "name": "stdout",
     "output_type": "stream",
     "text": [
      "+-----+----------+------------+------+-----+\n",
      "| Name|Experience|      Course|Salary| Test|\n",
      "+-----+----------+------------+------+-----+\n",
      "|Gagan|         6|Data Science| 10000|false|\n",
      "|Radha|         6|         C++|  8000|false|\n",
      "+-----+----------+------------+------+-----+\n",
      "only showing top 2 rows\n",
      "\n"
     ]
    }
   ],
   "source": [
    "df.selectExpr('*', '(Name == Course) as Test').show(2)"
   ]
  },
  {
   "cell_type": "code",
   "execution_count": 46,
   "metadata": {},
   "outputs": [
    {
     "name": "stdout",
     "output_type": "stream",
     "text": [
      "+-----------+--------------------+\n",
      "|sum(Salary)|count(DISTINCT Name)|\n",
      "+-----------+--------------------+\n",
      "|      57000|                   3|\n",
      "+-----------+--------------------+\n",
      "\n"
     ]
    }
   ],
   "source": [
    "df.selectExpr('sum(Salary)', 'count(distinct(Name))').show(2)"
   ]
  },
  {
   "cell_type": "code",
   "execution_count": 47,
   "metadata": {},
   "outputs": [
    {
     "name": "stdout",
     "output_type": "stream",
     "text": [
      "+-----+----------+------------+------+---+\n",
      "| Name|Experience|      Course|Salary|one|\n",
      "+-----+----------+------------+------+---+\n",
      "|Gagan|         6|Data Science| 10000|  1|\n",
      "|Radha|         6|         C++|  8000|  1|\n",
      "+-----+----------+------------+------+---+\n",
      "only showing top 2 rows\n",
      "\n"
     ]
    }
   ],
   "source": [
    "# literal are the constant values we need to add to the dataframe\n",
    "\n",
    "df.select(expr('*'), lit(1).alias('one')).show(2)"
   ]
  },
  {
   "cell_type": "code",
   "execution_count": 49,
   "metadata": {},
   "outputs": [
    {
     "name": "stdout",
     "output_type": "stream",
     "text": [
      "+-----+----------+------------+------+---+\n",
      "| Name|Experience|      Course|Salary|one|\n",
      "+-----+----------+------------+------+---+\n",
      "|Gagan|         6|Data Science| 10000|  1|\n",
      "|Radha|         6|         C++|  8000|  1|\n",
      "+-----+----------+------------+------+---+\n",
      "only showing top 2 rows\n",
      "\n"
     ]
    }
   ],
   "source": [
    "df.withColumn('one', lit(1)).show(2)"
   ]
  },
  {
   "cell_type": "code",
   "execution_count": 50,
   "metadata": {},
   "outputs": [
    {
     "name": "stdout",
     "output_type": "stream",
     "text": [
      "+-----+----------+------------+------+-----------+\n",
      "| Name|Experience|      Course|Salary|Name=Course|\n",
      "+-----+----------+------------+------+-----------+\n",
      "|Gagan|         6|Data Science| 10000|      false|\n",
      "|Radha|         6|         C++|  8000|      false|\n",
      "+-----+----------+------------+------+-----------+\n",
      "only showing top 2 rows\n",
      "\n"
     ]
    }
   ],
   "source": [
    "df.withColumn('Name=Course',expr('Name == Course')).show(2)"
   ]
  },
  {
   "cell_type": "code",
   "execution_count": 53,
   "metadata": {},
   "outputs": [
    {
     "name": "stdout",
     "output_type": "stream",
     "text": [
      "+-----+----------+------------+------+----------+\n",
      "| Name|Experience|      Course|Salary|First Name|\n",
      "+-----+----------+------------+------+----------+\n",
      "|Gagan|         6|Data Science| 10000|     Gagan|\n",
      "|Radha|         6|         C++|  8000|     Radha|\n",
      "+-----+----------+------------+------+----------+\n",
      "only showing top 2 rows\n",
      "\n"
     ]
    }
   ],
   "source": [
    "df.withColumn('First Name', expr('Name')).show(2)"
   ]
  },
  {
   "cell_type": "code",
   "execution_count": 54,
   "metadata": {},
   "outputs": [
    {
     "name": "stdout",
     "output_type": "stream",
     "text": [
      "+----------+----------+------------+------+\n",
      "|First Name|Experience|      Course|Salary|\n",
      "+----------+----------+------------+------+\n",
      "|     Gagan|         6|Data Science| 10000|\n",
      "|     Radha|         6|         C++|  8000|\n",
      "+----------+----------+------------+------+\n",
      "only showing top 2 rows\n",
      "\n"
     ]
    }
   ],
   "source": [
    "df.withColumnRenamed('Name', 'First Name').show(2)"
   ]
  },
  {
   "cell_type": "code",
   "execution_count": 55,
   "metadata": {},
   "outputs": [],
   "source": [
    "df2 = df.withColumn('First Name', expr('Name'))"
   ]
  },
  {
   "cell_type": "code",
   "execution_count": 63,
   "metadata": {},
   "outputs": [
    {
     "name": "stdout",
     "output_type": "stream",
     "text": [
      "+-------+\n",
      "|NewName|\n",
      "+-------+\n",
      "|  Gagan|\n",
      "|  Radha|\n",
      "+-------+\n",
      "only showing top 2 rows\n",
      "\n"
     ]
    }
   ],
   "source": [
    "df2.selectExpr('`First Name` as NewName').show(2)"
   ]
  },
  {
   "cell_type": "code",
   "execution_count": 64,
   "metadata": {},
   "outputs": [
    {
     "data": {
      "text/plain": [
       "['Experience', 'Course', 'Salary']"
      ]
     },
     "execution_count": 64,
     "metadata": {},
     "output_type": "execute_result"
    }
   ],
   "source": [
    "df.drop('Name').columns"
   ]
  },
  {
   "cell_type": "code",
   "execution_count": 65,
   "metadata": {},
   "outputs": [
    {
     "data": {
      "text/plain": [
       "['Experience', 'Salary']"
      ]
     },
     "execution_count": 65,
     "metadata": {},
     "output_type": "execute_result"
    }
   ],
   "source": [
    "df.drop('Name', 'Course').columns"
   ]
  },
  {
   "cell_type": "code",
   "execution_count": 66,
   "metadata": {},
   "outputs": [
    {
     "name": "stdout",
     "output_type": "stream",
     "text": [
      "+-----+----------+------------+------+----------+\n",
      "| Name|Experience|      Course|Salary|New Salary|\n",
      "+-----+----------+------------+------+----------+\n",
      "|Gagan|         6|Data Science| 10000|     10000|\n",
      "|Radha|         6|         C++|  8000|      8000|\n",
      "+-----+----------+------------+------+----------+\n",
      "only showing top 2 rows\n",
      "\n"
     ]
    }
   ],
   "source": [
    "df.withColumn('New Salary', col('Salary').cast('long')).show(2)"
   ]
  },
  {
   "cell_type": "code",
   "execution_count": 68,
   "metadata": {},
   "outputs": [
    {
     "name": "stdout",
     "output_type": "stream",
     "text": [
      "+-----+----------+----------------+------+\n",
      "| Name|Experience|          Course|Salary|\n",
      "+-----+----------+----------------+------+\n",
      "|Gagan|         6|    Data Science| 10000|\n",
      "| Ajay|         6|        Big Data|  9000|\n",
      "|Gagan|         5|Machine Learning| 12000|\n",
      "+-----+----------+----------------+------+\n",
      "\n"
     ]
    }
   ],
   "source": [
    "df.filter(col('Salary') > 8000).show()"
   ]
  },
  {
   "cell_type": "code",
   "execution_count": 69,
   "metadata": {},
   "outputs": [
    {
     "name": "stdout",
     "output_type": "stream",
     "text": [
      "+-----+----------+----------------+------+\n",
      "| Name|Experience|          Course|Salary|\n",
      "+-----+----------+----------------+------+\n",
      "|Gagan|         6|    Data Science| 10000|\n",
      "| Ajay|         6|        Big Data|  9000|\n",
      "|Gagan|         5|Machine Learning| 12000|\n",
      "+-----+----------+----------------+------+\n",
      "\n"
     ]
    }
   ],
   "source": [
    "df.where(col('Salary') > 8000).show()"
   ]
  },
  {
   "cell_type": "code",
   "execution_count": 72,
   "metadata": {},
   "outputs": [
    {
     "name": "stdout",
     "output_type": "stream",
     "text": [
      "+-----+----------+------------+------+\n",
      "| Name|Experience|      Course|Salary|\n",
      "+-----+----------+------------+------+\n",
      "|Radha|         6|         C++|  8000|\n",
      "|Radha|         4|Data Science|  7000|\n",
      "| Ajay|         4|      Python|  4000|\n",
      "|Gagan|         3|    Big Data|  7000|\n",
      "+-----+----------+------------+------+\n",
      "\n"
     ]
    }
   ],
   "source": [
    "df.filter(~ (col('Salary') > 8000)).show()"
   ]
  },
  {
   "cell_type": "code",
   "execution_count": 74,
   "metadata": {},
   "outputs": [
    {
     "name": "stdout",
     "output_type": "stream",
     "text": [
      "+-----+----------+------------+------+\n",
      "| Name|Experience|      Course|Salary|\n",
      "+-----+----------+------------+------+\n",
      "|Gagan|         6|Data Science| 10000|\n",
      "| Ajay|         6|    Big Data|  9000|\n",
      "+-----+----------+------------+------+\n",
      "\n"
     ]
    }
   ],
   "source": [
    "df.filter(col('Salary') > 8000).where(col('Experience') > 5).show()"
   ]
  },
  {
   "cell_type": "code",
   "execution_count": 78,
   "metadata": {},
   "outputs": [
    {
     "name": "stdout",
     "output_type": "stream",
     "text": [
      "+------+-----+\n",
      "|Salary| Name|\n",
      "+------+-----+\n",
      "|  9000| Ajay|\n",
      "|  7000|Gagan|\n",
      "|  8000|Radha|\n",
      "| 12000|Gagan|\n",
      "|  4000| Ajay|\n",
      "|  7000|Radha|\n",
      "| 10000|Gagan|\n",
      "+------+-----+\n",
      "\n"
     ]
    }
   ],
   "source": [
    "df.select('Salary', 'Name').distinct().show()"
   ]
  },
  {
   "cell_type": "code",
   "execution_count": 103,
   "metadata": {},
   "outputs": [
    {
     "name": "stdout",
     "output_type": "stream",
     "text": [
      "+-----+----------+----------------+------+\n",
      "| Name|Experience|          Course|Salary|\n",
      "+-----+----------+----------------+------+\n",
      "|Gagan|         6|    Data Science| 10000|\n",
      "| Ajay|         6|        Big Data|  9000|\n",
      "|Gagan|         5|Machine Learning| 12000|\n",
      "+-----+----------+----------------+------+\n",
      "\n"
     ]
    }
   ],
   "source": [
    "withReplacement = False\n",
    "fraction = 0.5\n",
    "seed = 5\n",
    "df.sample(withReplacement, fraction, seed).show()"
   ]
  },
  {
   "cell_type": "code",
   "execution_count": 110,
   "metadata": {},
   "outputs": [
    {
     "data": {
      "text/plain": [
       "1"
      ]
     },
     "execution_count": 110,
     "metadata": {},
     "output_type": "execute_result"
    }
   ],
   "source": [
    "df.randomSplit([0.75, 0.25], seed=9)[1].count()\n"
   ]
  },
  {
   "cell_type": "code",
   "execution_count": 111,
   "metadata": {},
   "outputs": [
    {
     "name": "stdout",
     "output_type": "stream",
     "text": [
      "+-----+----------+----------------+------+\n",
      "| Name|Experience|          Course|Salary|\n",
      "+-----+----------+----------------+------+\n",
      "| Ajay|         4|          Python|  4000|\n",
      "| Ajay|         6|        Big Data|  9000|\n",
      "|Gagan|         3|        Big Data|  7000|\n",
      "|Gagan|         5|Machine Learning| 12000|\n",
      "|Gagan|         6|    Data Science| 10000|\n",
      "|Radha|         4|    Data Science|  7000|\n",
      "+-----+----------+----------------+------+\n",
      "\n"
     ]
    }
   ],
   "source": [
    "df11, df12 = df.randomSplit([0.75, 0.25], seed=9)\n",
    "df11.show()"
   ]
  },
  {
   "cell_type": "code",
   "execution_count": 112,
   "metadata": {},
   "outputs": [
    {
     "name": "stdout",
     "output_type": "stream",
     "text": [
      "+-----+----------+------+------+\n",
      "| Name|Experience|Course|Salary|\n",
      "+-----+----------+------+------+\n",
      "|Radha|         6|   C++|  8000|\n",
      "+-----+----------+------+------+\n",
      "\n"
     ]
    }
   ],
   "source": [
    "df12.show()"
   ]
  },
  {
   "cell_type": "code",
   "execution_count": 115,
   "metadata": {},
   "outputs": [
    {
     "name": "stdout",
     "output_type": "stream",
     "text": [
      "+-----+----------+----------------+------+\n",
      "| Name|Experience|          Course|Salary|\n",
      "+-----+----------+----------------+------+\n",
      "| Ajay|         6|        Big Data|  9000|\n",
      "|Gagan|         5|Machine Learning| 12000|\n",
      "|Gagan|         6|    Data Science| 10000|\n",
      "|Radha|         6|             C++|  8000|\n",
      "+-----+----------+----------------+------+\n",
      "\n"
     ]
    }
   ],
   "source": [
    "df11.union(df12).where('Experience > 4').show()"
   ]
  },
  {
   "cell_type": "code",
   "execution_count": 117,
   "metadata": {},
   "outputs": [
    {
     "name": "stdout",
     "output_type": "stream",
     "text": [
      "+-----+----------+----------------+------+\n",
      "| Name|Experience|          Course|Salary|\n",
      "+-----+----------+----------------+------+\n",
      "| Ajay|         4|          Python|  4000|\n",
      "|Gagan|         3|        Big Data|  7000|\n",
      "|Radha|         4|    Data Science|  7000|\n",
      "|Radha|         6|             C++|  8000|\n",
      "| Ajay|         6|        Big Data|  9000|\n",
      "|Gagan|         6|    Data Science| 10000|\n",
      "|Gagan|         5|Machine Learning| 12000|\n",
      "+-----+----------+----------------+------+\n",
      "\n"
     ]
    }
   ],
   "source": [
    "df.orderBy('Salary', 'Course').show()"
   ]
  },
  {
   "cell_type": "code",
   "execution_count": 118,
   "metadata": {},
   "outputs": [
    {
     "name": "stdout",
     "output_type": "stream",
     "text": [
      "+-----+----------+----------------+------+\n",
      "| Name|Experience|          Course|Salary|\n",
      "+-----+----------+----------------+------+\n",
      "| Ajay|         4|          Python|  4000|\n",
      "|Gagan|         3|        Big Data|  7000|\n",
      "|Radha|         4|    Data Science|  7000|\n",
      "|Radha|         6|             C++|  8000|\n",
      "| Ajay|         6|        Big Data|  9000|\n",
      "|Gagan|         6|    Data Science| 10000|\n",
      "|Gagan|         5|Machine Learning| 12000|\n",
      "+-----+----------+----------------+------+\n",
      "\n"
     ]
    }
   ],
   "source": [
    "df.sort('Salary', 'Course').show()"
   ]
  },
  {
   "cell_type": "code",
   "execution_count": 119,
   "metadata": {},
   "outputs": [
    {
     "name": "stdout",
     "output_type": "stream",
     "text": [
      "+-----+----------+----------------+------+\n",
      "| Name|Experience|          Course|Salary|\n",
      "+-----+----------+----------------+------+\n",
      "| Ajay|         4|          Python|  4000|\n",
      "|Gagan|         3|        Big Data|  7000|\n",
      "|Radha|         4|    Data Science|  7000|\n",
      "|Radha|         6|             C++|  8000|\n",
      "| Ajay|         6|        Big Data|  9000|\n",
      "|Gagan|         6|    Data Science| 10000|\n",
      "|Gagan|         5|Machine Learning| 12000|\n",
      "+-----+----------+----------------+------+\n",
      "\n"
     ]
    }
   ],
   "source": [
    "df.orderBy(col('Salary'), col('Course')).show()"
   ]
  },
  {
   "cell_type": "code",
   "execution_count": 121,
   "metadata": {},
   "outputs": [
    {
     "name": "stdout",
     "output_type": "stream",
     "text": [
      "+-----+----------+----------------+------+\n",
      "| Name|Experience|          Course|Salary|\n",
      "+-----+----------+----------------+------+\n",
      "|Gagan|         5|Machine Learning| 12000|\n",
      "|Gagan|         6|    Data Science| 10000|\n",
      "| Ajay|         6|        Big Data|  9000|\n",
      "|Radha|         6|             C++|  8000|\n",
      "|Gagan|         3|        Big Data|  7000|\n",
      "|Radha|         4|    Data Science|  7000|\n",
      "| Ajay|         4|          Python|  4000|\n",
      "+-----+----------+----------------+------+\n",
      "\n"
     ]
    }
   ],
   "source": [
    "df.orderBy(col('Salary').desc(), col('Course').asc()).show()\n",
    "# asc_null_first, asc_null_last, desc_null_first, desc_null_last\n",
    "# sortWithinPartitions"
   ]
  },
  {
   "cell_type": "code",
   "execution_count": 123,
   "metadata": {},
   "outputs": [
    {
     "name": "stdout",
     "output_type": "stream",
     "text": [
      "+-----+----------+------------+------+\n",
      "| Name|Experience|      Course|Salary|\n",
      "+-----+----------+------------+------+\n",
      "|Gagan|         6|Data Science| 10000|\n",
      "|Radha|         6|         C++|  8000|\n",
      "|Radha|         4|Data Science|  7000|\n",
      "| Ajay|         6|    Big Data|  9000|\n",
      "+-----+----------+------------+------+\n",
      "\n"
     ]
    }
   ],
   "source": [
    "df.limit(4).show()"
   ]
  },
  {
   "cell_type": "code",
   "execution_count": 125,
   "metadata": {},
   "outputs": [
    {
     "name": "stdout",
     "output_type": "stream",
     "text": [
      "+-----+----------+----------------+------+\n",
      "| Name|Experience|          Course|Salary|\n",
      "+-----+----------+----------------+------+\n",
      "|Gagan|         3|        Big Data|  7000|\n",
      "| Ajay|         6|        Big Data|  9000|\n",
      "| Ajay|         4|          Python|  4000|\n",
      "|Gagan|         5|Machine Learning| 12000|\n",
      "|Radha|         6|             C++|  8000|\n",
      "|Gagan|         6|    Data Science| 10000|\n",
      "|Radha|         4|    Data Science|  7000|\n",
      "+-----+----------+----------------+------+\n",
      "\n"
     ]
    }
   ],
   "source": [
    "# repartitions - costlier operation as it shuffles the complete dataset\n",
    "df.repartition(5).show()"
   ]
  },
  {
   "cell_type": "code",
   "execution_count": 126,
   "metadata": {},
   "outputs": [
    {
     "data": {
      "text/plain": [
       "DataFrame[Name: string, Experience: int, Course: string, Salary: int]"
      ]
     },
     "execution_count": 126,
     "metadata": {},
     "output_type": "execute_result"
    }
   ],
   "source": [
    "# coalesce - Full shuffle and combine all partitions\n",
    "df.repartition(5, col('Salary')).coalesce(2)"
   ]
  },
  {
   "cell_type": "code",
   "execution_count": null,
   "metadata": {},
   "outputs": [],
   "source": [
    "# collecting data to the driver\n",
    "df.limit(2)\n",
    "df.first(2)\n",
    "df.show(2)\n",
    "df.take(3)\n",
    "\n",
    "# these 2 are costiler operations and it may crash the driver in case of big data\n",
    "df.collect(6)\n",
    "df.toLocalIterator()"
   ]
  },
  {
   "cell_type": "code",
   "execution_count": 127,
   "metadata": {},
   "outputs": [
    {
     "name": "stdout",
     "output_type": "stream",
     "text": [
      "+---+----+---+\n",
      "|  5|five|5.0|\n",
      "+---+----+---+\n",
      "|  5|five|5.0|\n",
      "|  5|five|5.0|\n",
      "|  5|five|5.0|\n",
      "|  5|five|5.0|\n",
      "|  5|five|5.0|\n",
      "|  5|five|5.0|\n",
      "|  5|five|5.0|\n",
      "+---+----+---+\n",
      "\n"
     ]
    }
   ],
   "source": [
    "df.select(lit(5), lit('five'), lit(5.0)).show()"
   ]
  },
  {
   "cell_type": "code",
   "execution_count": 128,
   "metadata": {},
   "outputs": [
    {
     "name": "stdout",
     "output_type": "stream",
     "text": [
      "+------+-----+\n",
      "|Salary| Name|\n",
      "+------+-----+\n",
      "| 10000|Gagan|\n",
      "|  8000|Radha|\n",
      "|  9000| Ajay|\n",
      "| 12000|Gagan|\n",
      "|  4000| Ajay|\n",
      "+------+-----+\n",
      "\n"
     ]
    }
   ],
   "source": [
    "df.where(col('Salary') != 7000).select('Salary', 'Name').show()"
   ]
  },
  {
   "cell_type": "code",
   "execution_count": 129,
   "metadata": {},
   "outputs": [
    {
     "name": "stdout",
     "output_type": "stream",
     "text": [
      "+-----+----------+------------+------+\n",
      "| Name|Experience|      Course|Salary|\n",
      "+-----+----------+------------+------+\n",
      "|Radha|         4|Data Science|  7000|\n",
      "|Gagan|         3|    Big Data|  7000|\n",
      "+-----+----------+------------+------+\n",
      "\n"
     ]
    }
   ],
   "source": [
    "df.where('Salary = 7000').show()"
   ]
  },
  {
   "cell_type": "code",
   "execution_count": 130,
   "metadata": {},
   "outputs": [
    {
     "name": "stdout",
     "output_type": "stream",
     "text": [
      "+-----+----------+----------------+------+\n",
      "| Name|Experience|          Course|Salary|\n",
      "+-----+----------+----------------+------+\n",
      "|Gagan|         6|    Data Science| 10000|\n",
      "|Radha|         6|             C++|  8000|\n",
      "| Ajay|         6|        Big Data|  9000|\n",
      "|Gagan|         5|Machine Learning| 12000|\n",
      "| Ajay|         4|          Python|  4000|\n",
      "+-----+----------+----------------+------+\n",
      "\n"
     ]
    }
   ],
   "source": [
    "df.where('Salary <> 7000').show()"
   ]
  },
  {
   "cell_type": "code",
   "execution_count": 132,
   "metadata": {},
   "outputs": [
    {
     "name": "stdout",
     "output_type": "stream",
     "text": [
      "+-----+----------+------------+------+\n",
      "| Name|Experience|      Course|Salary|\n",
      "+-----+----------+------------+------+\n",
      "|Gagan|         6|Data Science| 10000|\n",
      "+-----+----------+------------+------+\n",
      "\n"
     ]
    }
   ],
   "source": [
    "name_filter = col('Name') == 'Gagan'\n",
    "exp_filter = col('Experience') > 4\n",
    "df.where(df.Course.isin('Data Science')).where(name_filter | exp_filter).show()"
   ]
  },
  {
   "cell_type": "code",
   "execution_count": 135,
   "metadata": {},
   "outputs": [
    {
     "name": "stdout",
     "output_type": "stream",
     "text": [
      "+-----+----------+------------+------+------+\n",
      "| Name|Experience|      Course|Salary|isTrue|\n",
      "+-----+----------+------------+------+------+\n",
      "|Gagan|         6|Data Science| 10000|  true|\n",
      "+-----+----------+------------+------+------+\n",
      "\n"
     ]
    }
   ],
   "source": [
    "name_filter = col('Name') == 'Gagan'\n",
    "exp_filter = col('Experience') > 4\n",
    "course_filter = col('Course')=='Data Science'\n",
    "df.withColumn('isTrue', course_filter & (name_filter | exp_filter)).where('isTrue').show()"
   ]
  },
  {
   "cell_type": "code",
   "execution_count": 136,
   "metadata": {},
   "outputs": [
    {
     "name": "stdout",
     "output_type": "stream",
     "text": [
      "+----+----------+------+------+\n",
      "|Name|Experience|Course|Salary|\n",
      "+----+----------+------+------+\n",
      "+----+----------+------+------+\n",
      "\n"
     ]
    }
   ],
   "source": [
    "df.where(col('Course').eqNullSafe('No Course')).show()"
   ]
  },
  {
   "cell_type": "code",
   "execution_count": 137,
   "metadata": {},
   "outputs": [
    {
     "name": "stdout",
     "output_type": "stream",
     "text": [
      "+-----+-------------+\n",
      "| Name|Actual Salary|\n",
      "+-----+-------------+\n",
      "|Gagan|      10144.0|\n",
      "|Radha|       8144.0|\n",
      "|Radha|       7064.0|\n",
      "| Ajay|       9144.0|\n",
      "|Gagan|      12100.0|\n",
      "| Ajay|       4064.0|\n",
      "|Gagan|       7036.0|\n",
      "+-----+-------------+\n",
      "\n"
     ]
    }
   ],
   "source": [
    "new_salary = pow(col('Experience')*2, 2) + col('Salary')\n",
    "df.select('Name', new_salary.alias('Actual Salary')).show()"
   ]
  },
  {
   "cell_type": "code",
   "execution_count": 138,
   "metadata": {},
   "outputs": [
    {
     "name": "stdout",
     "output_type": "stream",
     "text": [
      "+-------------+--------------+\n",
      "|round(2.5, 0)|bround(2.5, 0)|\n",
      "+-------------+--------------+\n",
      "|          3.0|           2.0|\n",
      "|          3.0|           2.0|\n",
      "|          3.0|           2.0|\n",
      "|          3.0|           2.0|\n",
      "|          3.0|           2.0|\n",
      "|          3.0|           2.0|\n",
      "|          3.0|           2.0|\n",
      "+-------------+--------------+\n",
      "\n"
     ]
    }
   ],
   "source": [
    "df.select(round(lit('2.5')), bround(lit('2.5'))).show()"
   ]
  },
  {
   "cell_type": "code",
   "execution_count": 141,
   "metadata": {},
   "outputs": [
    {
     "ename": "AttributeError",
     "evalue": "'float' object has no attribute 'show'",
     "output_type": "error",
     "traceback": [
      "\u001b[0;31m---------------------------------------------------------------------------\u001b[0m",
      "\u001b[0;31mAttributeError\u001b[0m                            Traceback (most recent call last)",
      "\u001b[0;32m<ipython-input-141-56437e77060c>\u001b[0m in \u001b[0;36m<module>\u001b[0;34m\u001b[0m\n\u001b[0;32m----> 1\u001b[0;31m \u001b[0mdf\u001b[0m\u001b[0;34m.\u001b[0m\u001b[0mstat\u001b[0m\u001b[0;34m.\u001b[0m\u001b[0mcorr\u001b[0m\u001b[0;34m(\u001b[0m\u001b[0;34m'Salary'\u001b[0m\u001b[0;34m,\u001b[0m \u001b[0;34m'Experience'\u001b[0m\u001b[0;34m)\u001b[0m\u001b[0;34m.\u001b[0m\u001b[0mshow\u001b[0m\u001b[0;34m(\u001b[0m\u001b[0;34m)\u001b[0m\u001b[0;34m\u001b[0m\u001b[0;34m\u001b[0m\u001b[0m\n\u001b[0m",
      "\u001b[0;31mAttributeError\u001b[0m: 'float' object has no attribute 'show'"
     ]
    }
   ],
   "source": [
    "df.stat.corr('Salary', 'Experience')"
   ]
  },
  {
   "cell_type": "code",
   "execution_count": 140,
   "metadata": {},
   "outputs": [
    {
     "name": "stdout",
     "output_type": "stream",
     "text": [
      "+------------------------+\n",
      "|corr(Salary, Experience)|\n",
      "+------------------------+\n",
      "|      0.5467364794749064|\n",
      "+------------------------+\n",
      "\n"
     ]
    }
   ],
   "source": [
    "df.select(corr('Salary', 'Experience')).show()"
   ]
  },
  {
   "cell_type": "code",
   "execution_count": 142,
   "metadata": {},
   "outputs": [
    {
     "name": "stdout",
     "output_type": "stream",
     "text": [
      "+-------+-----+-----------------+--------+------------------+\n",
      "|summary| Name|       Experience|  Course|            Salary|\n",
      "+-------+-----+-----------------+--------+------------------+\n",
      "|  count|    7|                7|       7|                 7|\n",
      "|   mean| null|4.857142857142857|    null| 8142.857142857143|\n",
      "| stddev| null|1.214985792587912|    null|2544.8360411214067|\n",
      "|    min| Ajay|                3|Big Data|              4000|\n",
      "|    max|Radha|                6|  Python|             12000|\n",
      "+-------+-----+-----------------+--------+------------------+\n",
      "\n"
     ]
    }
   ],
   "source": [
    "df.describe().show()"
   ]
  },
  {
   "cell_type": "code",
   "execution_count": 143,
   "metadata": {},
   "outputs": [
    {
     "data": {
      "text/plain": [
       "[4000.0]"
      ]
     },
     "execution_count": 143,
     "metadata": {},
     "output_type": "execute_result"
    }
   ],
   "source": [
    "quantileProbs = [0.5]\n",
    "col_name = 'Salary'\n",
    "relErr = 0.5\n",
    "\n",
    "df.stat.approxQuantile('Salary', quantileProbs, relErr)"
   ]
  },
  {
   "cell_type": "code",
   "execution_count": 144,
   "metadata": {},
   "outputs": [
    {
     "name": "stdout",
     "output_type": "stream",
     "text": [
      "+-----------+-----+-----+----+----+----+----+\n",
      "|Name_Salary|10000|12000|4000|7000|8000|9000|\n",
      "+-----------+-----+-----+----+----+----+----+\n",
      "|       Ajay|    0|    0|   1|   0|   0|   1|\n",
      "|      Gagan|    1|    1|   0|   1|   0|   0|\n",
      "|      Radha|    0|    0|   0|   1|   1|   0|\n",
      "+-----------+-----+-----+----+----+----+----+\n",
      "\n"
     ]
    }
   ],
   "source": [
    "df.crosstab('Name','Salary').show()"
   ]
  },
  {
   "cell_type": "code",
   "execution_count": 145,
   "metadata": {},
   "outputs": [
    {
     "name": "stdout",
     "output_type": "stream",
     "text": [
      "+--------------------+--------------------+\n",
      "|      Name_freqItems|    Salary_freqItems|\n",
      "+--------------------+--------------------+\n",
      "|[Gagan, Ajay, Radha]|[10000, 7000, 120...|\n",
      "+--------------------+--------------------+\n",
      "\n"
     ]
    }
   ],
   "source": [
    "df.stat.freqItems(['Name','Salary']).show()"
   ]
  },
  {
   "cell_type": "code",
   "execution_count": 146,
   "metadata": {},
   "outputs": [
    {
     "name": "stdout",
     "output_type": "stream",
     "text": [
      "+-----------------------------+\n",
      "|monotonically_increasing_id()|\n",
      "+-----------------------------+\n",
      "|                            0|\n",
      "|                            1|\n",
      "|                            2|\n",
      "|                            3|\n",
      "|                            4|\n",
      "|                            5|\n",
      "|                            6|\n",
      "+-----------------------------+\n",
      "\n"
     ]
    }
   ],
   "source": [
    "df.select(monotonically_increasing_id()).show()"
   ]
  },
  {
   "cell_type": "code",
   "execution_count": 147,
   "metadata": {},
   "outputs": [
    {
     "name": "stdout",
     "output_type": "stream",
     "text": [
      "+----------------+\n",
      "| initcap(Course)|\n",
      "+----------------+\n",
      "|    Data Science|\n",
      "|             C++|\n",
      "|    Data Science|\n",
      "|        Big Data|\n",
      "|Machine Learning|\n",
      "|          Python|\n",
      "|        Big Data|\n",
      "+----------------+\n",
      "\n"
     ]
    }
   ],
   "source": [
    "df.select(initcap(col('Course'))).show()"
   ]
  },
  {
   "cell_type": "code",
   "execution_count": 148,
   "metadata": {},
   "outputs": [
    {
     "name": "stdout",
     "output_type": "stream",
     "text": [
      "+----------------+----------------+----------------+\n",
      "|          Course|   lower(Course)|   upper(Course)|\n",
      "+----------------+----------------+----------------+\n",
      "|    Data Science|    data science|    DATA SCIENCE|\n",
      "|             C++|             c++|             C++|\n",
      "|    Data Science|    data science|    DATA SCIENCE|\n",
      "|        Big Data|        big data|        BIG DATA|\n",
      "|Machine Learning|machine learning|MACHINE LEARNING|\n",
      "|          Python|          python|          PYTHON|\n",
      "|        Big Data|        big data|        BIG DATA|\n",
      "+----------------+----------------+----------------+\n",
      "\n"
     ]
    }
   ],
   "source": [
    "df.select(col('Course'), lower(col('Course')), upper(col('Course'))).show()"
   ]
  },
  {
   "cell_type": "code",
   "execution_count": 160,
   "metadata": {},
   "outputs": [
    {
     "name": "stdout",
     "output_type": "stream",
     "text": [
      "+--------+-------+-----+----------+--------+\n",
      "|   ltrim|   lpad| trim|      rpad|   rtrim|\n",
      "+--------+-------+-----+----------+--------+\n",
      "|Hello   |  Hello|Hello|Hello     |   Hello|\n",
      "|Hello   |  Hello|Hello|Hello     |   Hello|\n",
      "|Hello   |  Hello|Hello|Hello     |   Hello|\n",
      "|Hello   |  Hello|Hello|Hello     |   Hello|\n",
      "|Hello   |  Hello|Hello|Hello     |   Hello|\n",
      "|Hello   |  Hello|Hello|Hello     |   Hello|\n",
      "|Hello   |  Hello|Hello|Hello     |   Hello|\n",
      "+--------+-------+-----+----------+--------+\n",
      "\n"
     ]
    }
   ],
   "source": [
    "df.select(ltrim(lit('   Hello   ')).alias('ltrim'), lpad(lit('Hello'), 7, \" \").alias('lpad'), trim(lit('   Hello   ')).alias('trim'), rpad(lit('Hello'), 10, \" \").alias('rpad'), rtrim(lit('   Hello   ')).alias('rtrim')).show()"
   ]
  },
  {
   "cell_type": "code",
   "execution_count": 161,
   "metadata": {},
   "outputs": [
    {
     "name": "stdout",
     "output_type": "stream",
     "text": [
      "+------------------------------------------------+----------------+\n",
      "|regexp_replace(Course, Science|Learning, HAHAHA)|          Course|\n",
      "+------------------------------------------------+----------------+\n",
      "|                                     Data HAHAHA|    Data Science|\n",
      "|                                             C++|             C++|\n",
      "|                                     Data HAHAHA|    Data Science|\n",
      "|                                        Big Data|        Big Data|\n",
      "|                                  Machine HAHAHA|Machine Learning|\n",
      "|                                          Python|          Python|\n",
      "|                                        Big Data|        Big Data|\n",
      "+------------------------------------------------+----------------+\n",
      "\n"
     ]
    }
   ],
   "source": [
    "# regexp\n",
    "regex_string = 'Science|Learning'\n",
    "df.select(regexp_replace(col('Course'), regex_string, 'HAHAHA'), col('Course')).show()"
   ]
  },
  {
   "cell_type": "code",
   "execution_count": 164,
   "metadata": {},
   "outputs": [
    {
     "name": "stdout",
     "output_type": "stream",
     "text": [
      "+----------------------------------+----------------+\n",
      "|translate(upper(Course), CHE, 321)|          Course|\n",
      "+----------------------------------+----------------+\n",
      "|                      DATA S3I1N31|    Data Science|\n",
      "|                               3++|             C++|\n",
      "|                      DATA S3I1N31|    Data Science|\n",
      "|                          BIG DATA|        Big Data|\n",
      "|                  MA32IN1 L1ARNING|Machine Learning|\n",
      "|                            PYT2ON|          Python|\n",
      "|                          BIG DATA|        Big Data|\n",
      "+----------------------------------+----------------+\n",
      "\n"
     ]
    }
   ],
   "source": [
    "df.select(translate(upper(col('Course')),'CHE', '321'), col('Course')).show()"
   ]
  },
  {
   "cell_type": "code",
   "execution_count": 168,
   "metadata": {},
   "outputs": [
    {
     "name": "stdout",
     "output_type": "stream",
     "text": [
      "+-------+------------+\n",
      "|Extract|      Course|\n",
      "+-------+------------+\n",
      "|Science|Data Science|\n",
      "|       |         C++|\n",
      "+-------+------------+\n",
      "only showing top 2 rows\n",
      "\n"
     ]
    }
   ],
   "source": [
    "regex_string = '(Science|Learning)'\n",
    "df.select(regexp_extract(col('Course'), regex_string, 1).alias('Extract'), col('Course')).show(2)"
   ]
  },
  {
   "cell_type": "code",
   "execution_count": 172,
   "metadata": {},
   "outputs": [
    {
     "name": "stdout",
     "output_type": "stream",
     "text": [
      "+----------------+\n",
      "|Course          |\n",
      "+----------------+\n",
      "|Data Science    |\n",
      "|Data Science    |\n",
      "|Machine Learning|\n",
      "+----------------+\n",
      "\n"
     ]
    }
   ],
   "source": [
    "contain_science = instr(col('Course'), 'Science') >= 1\n",
    "contain_learning = instr(col('Course'), 'Learning') >= 1\n",
    "df.withColumn('hasDSML', contain_learning | contain_science).where('hasDSML').select('Course').show(3, False)"
   ]
  },
  {
   "cell_type": "code",
   "execution_count": 173,
   "metadata": {},
   "outputs": [
    {
     "name": "stdout",
     "output_type": "stream",
     "text": [
      "+----------------+\n",
      "|          Course|\n",
      "+----------------+\n",
      "|    Data Science|\n",
      "|    Data Science|\n",
      "|        Big Data|\n",
      "|Machine Learning|\n",
      "|        Big Data|\n",
      "+----------------+\n",
      "\n"
     ]
    }
   ],
   "source": [
    "DSML = ['Python','Science', 'Data', 'Learning', 'Machine']\n",
    "def course_locator(column, dsml_str):\n",
    "    return locate(dsml_str, column).cast('boolean').alias('is_'+dsml_str)\n",
    "\n",
    "selected_cols = [course_locator(df.Course, c) for c in DSML]\n",
    "selected_cols.append(expr(\"*\"))\n",
    "\n",
    "df.select(*selected_cols).where(expr('is_Learning OR is_Data')).select('Course').show()"
   ]
  },
  {
   "cell_type": "code",
   "execution_count": 174,
   "metadata": {},
   "outputs": [
    {
     "name": "stdout",
     "output_type": "stream",
     "text": [
      "+---+----------+--------------------+\n",
      "| id|     today|           timestamp|\n",
      "+---+----------+--------------------+\n",
      "|  0|2023-12-14|2023-12-14 21:29:...|\n",
      "|  1|2023-12-14|2023-12-14 21:29:...|\n",
      "|  2|2023-12-14|2023-12-14 21:29:...|\n",
      "|  3|2023-12-14|2023-12-14 21:29:...|\n",
      "|  4|2023-12-14|2023-12-14 21:29:...|\n",
      "|  5|2023-12-14|2023-12-14 21:29:...|\n",
      "|  6|2023-12-14|2023-12-14 21:29:...|\n",
      "|  7|2023-12-14|2023-12-14 21:29:...|\n",
      "|  8|2023-12-14|2023-12-14 21:29:...|\n",
      "|  9|2023-12-14|2023-12-14 21:29:...|\n",
      "+---+----------+--------------------+\n",
      "\n"
     ]
    }
   ],
   "source": [
    "df_time = spark.range(10).withColumn('today', current_date()).withColumn('timestamp', current_timestamp())\n",
    "df_time.show()"
   ]
  },
  {
   "cell_type": "code",
   "execution_count": 175,
   "metadata": {},
   "outputs": [],
   "source": [
    "df_time.createOrReplaceTempView('dateTable')"
   ]
  },
  {
   "cell_type": "code",
   "execution_count": 176,
   "metadata": {},
   "outputs": [
    {
     "name": "stdout",
     "output_type": "stream",
     "text": [
      "root\n",
      " |-- id: long (nullable = false)\n",
      " |-- today: date (nullable = false)\n",
      " |-- timestamp: timestamp (nullable = false)\n",
      "\n"
     ]
    }
   ],
   "source": [
    "df_time.printSchema()"
   ]
  },
  {
   "cell_type": "code",
   "execution_count": 177,
   "metadata": {},
   "outputs": [
    {
     "name": "stdout",
     "output_type": "stream",
     "text": [
      "+------------------+------------------+\n",
      "|date_sub(today, 5)|date_add(today, 5)|\n",
      "+------------------+------------------+\n",
      "|        2023-12-09|        2023-12-19|\n",
      "|        2023-12-09|        2023-12-19|\n",
      "|        2023-12-09|        2023-12-19|\n",
      "|        2023-12-09|        2023-12-19|\n",
      "|        2023-12-09|        2023-12-19|\n",
      "|        2023-12-09|        2023-12-19|\n",
      "|        2023-12-09|        2023-12-19|\n",
      "|        2023-12-09|        2023-12-19|\n",
      "|        2023-12-09|        2023-12-19|\n",
      "|        2023-12-09|        2023-12-19|\n",
      "+------------------+------------------+\n",
      "\n"
     ]
    }
   ],
   "source": [
    "df_time.select(date_sub(col('today'), 5), date_add(col('today'), 5)).show()"
   ]
  },
  {
   "cell_type": "code",
   "execution_count": 179,
   "metadata": {},
   "outputs": [
    {
     "name": "stdout",
     "output_type": "stream",
     "text": [
      "+-------------------------+\n",
      "|datediff(week_ago, today)|\n",
      "+-------------------------+\n",
      "|                       -7|\n",
      "|                       -7|\n",
      "|                       -7|\n",
      "|                       -7|\n",
      "|                       -7|\n",
      "|                       -7|\n",
      "|                       -7|\n",
      "|                       -7|\n",
      "|                       -7|\n",
      "|                       -7|\n",
      "+-------------------------+\n",
      "\n"
     ]
    }
   ],
   "source": [
    "df_time.withColumn('week_ago', date_sub(col('today'), 7)).select(datediff(col('week_ago'), col('today'))).show()"
   ]
  },
  {
   "cell_type": "code",
   "execution_count": 180,
   "metadata": {},
   "outputs": [
    {
     "name": "stdout",
     "output_type": "stream",
     "text": [
      "+------------------------------------+\n",
      "|months_between(start_date, end_date)|\n",
      "+------------------------------------+\n",
      "|                        -16.67741935|\n",
      "|                        -16.67741935|\n",
      "|                        -16.67741935|\n",
      "|                        -16.67741935|\n",
      "|                        -16.67741935|\n",
      "|                        -16.67741935|\n",
      "|                        -16.67741935|\n",
      "|                        -16.67741935|\n",
      "|                        -16.67741935|\n",
      "|                        -16.67741935|\n",
      "+------------------------------------+\n",
      "\n"
     ]
    }
   ],
   "source": [
    "df_time.select(to_date(lit('2016-01-01')).alias('start_date'), to_date(lit('2017-05-22')).alias('end_date')).select(months_between(col('start_date'), col('end_date'))).show()"
   ]
  },
  {
   "cell_type": "code",
   "execution_count": 183,
   "metadata": {},
   "outputs": [
    {
     "name": "stdout",
     "output_type": "stream",
     "text": [
      "+---------------------+---------------------+\n",
      "|to_date('2016-22-01')|to_date('2023-05-04')|\n",
      "+---------------------+---------------------+\n",
      "|                 null|           2023-05-04|\n",
      "|                 null|           2023-05-04|\n",
      "|                 null|           2023-05-04|\n",
      "|                 null|           2023-05-04|\n",
      "|                 null|           2023-05-04|\n",
      "|                 null|           2023-05-04|\n",
      "|                 null|           2023-05-04|\n",
      "|                 null|           2023-05-04|\n",
      "|                 null|           2023-05-04|\n",
      "|                 null|           2023-05-04|\n",
      "+---------------------+---------------------+\n",
      "\n"
     ]
    }
   ],
   "source": [
    "df_time.select(to_date(lit('2016-22-01')), to_date(lit('2023-05-04'))).show()"
   ]
  },
  {
   "cell_type": "code",
   "execution_count": 184,
   "metadata": {},
   "outputs": [
    {
     "name": "stdout",
     "output_type": "stream",
     "text": [
      "+-----------------------------------+-----------------------------------+\n",
      "|to_date('2016-22-01', 'yyyy-dd-MM')|to_date('2023-05-04', 'yyyy-dd-MM')|\n",
      "+-----------------------------------+-----------------------------------+\n",
      "|                         2016-01-22|                         2023-04-05|\n",
      "|                         2016-01-22|                         2023-04-05|\n",
      "|                         2016-01-22|                         2023-04-05|\n",
      "|                         2016-01-22|                         2023-04-05|\n",
      "|                         2016-01-22|                         2023-04-05|\n",
      "|                         2016-01-22|                         2023-04-05|\n",
      "|                         2016-01-22|                         2023-04-05|\n",
      "|                         2016-01-22|                         2023-04-05|\n",
      "|                         2016-01-22|                         2023-04-05|\n",
      "|                         2016-01-22|                         2023-04-05|\n",
      "+-----------------------------------+-----------------------------------+\n",
      "\n"
     ]
    }
   ],
   "source": [
    "date_format = 'yyyy-dd-MM'\n",
    "df_time.select(to_date(lit('2016-22-01'),date_format), to_date(lit('2023-05-04'),date_format)).show()"
   ]
  },
  {
   "cell_type": "code",
   "execution_count": 187,
   "metadata": {},
   "outputs": [
    {
     "name": "stdout",
     "output_type": "stream",
     "text": [
      "+-------------------+\n",
      "|               DATE|\n",
      "+-------------------+\n",
      "|2016-01-22 00:00:00|\n",
      "|2016-01-22 00:00:00|\n",
      "+-------------------+\n",
      "only showing top 2 rows\n",
      "\n"
     ]
    }
   ],
   "source": [
    "df_time.select(to_timestamp(lit('2016-22-01'), date_format).alias('DATE')).show(2)"
   ]
  },
  {
   "cell_type": "code",
   "execution_count": 188,
   "metadata": {},
   "outputs": [
    {
     "name": "stdout",
     "output_type": "stream",
     "text": [
      "+-------------------+\n",
      "|               DATE|\n",
      "+-------------------+\n",
      "|2016-01-22 00:00:00|\n",
      "|2016-01-22 00:00:00|\n",
      "+-------------------+\n",
      "only showing top 2 rows\n",
      "\n"
     ]
    }
   ],
   "source": [
    "df_time.select(to_timestamp(lit('2016-22-01'), date_format).alias('DATE')).filter(col('DATE') >= '2016-01-22').show(2)"
   ]
  },
  {
   "cell_type": "markdown",
   "metadata": {},
   "source": [
    "working with nulls"
   ]
  },
  {
   "cell_type": "code",
   "execution_count": 5,
   "metadata": {},
   "outputs": [],
   "source": [
    "df = spark.read.csv('test.csv', inferSchema=True, header=True)"
   ]
  },
  {
   "cell_type": "code",
   "execution_count": 6,
   "metadata": {},
   "outputs": [
    {
     "name": "stdout",
     "output_type": "stream",
     "text": [
      "+-----+----+----------+\n",
      "| Name| Age|Experience|\n",
      "+-----+----+----------+\n",
      "|Gagan|  25|         5|\n",
      "| Ajay|  28|         7|\n",
      "|Sunny|  30|        10|\n",
      "| null|  15|         1|\n",
      "|Radha|null|        10|\n",
      "|Rishi|null|      null|\n",
      "+-----+----+----------+\n",
      "\n"
     ]
    }
   ],
   "source": [
    "df.show()"
   ]
  },
  {
   "cell_type": "code",
   "execution_count": 8,
   "metadata": {},
   "outputs": [
    {
     "name": "stdout",
     "output_type": "stream",
     "text": [
      "+-------------------------------+\n",
      "|coalesce(Age, Experience, Name)|\n",
      "+-------------------------------+\n",
      "|                             25|\n",
      "|                             28|\n",
      "|                             30|\n",
      "|                             15|\n",
      "|                             10|\n",
      "|                          Rishi|\n",
      "+-------------------------------+\n",
      "\n"
     ]
    }
   ],
   "source": [
    "# getting the first non-null value from each record\n",
    "df.select(coalesce(col('Age'), col('Experience'), col('Name'))).show()"
   ]
  },
  {
   "cell_type": "code",
   "execution_count": 10,
   "metadata": {},
   "outputs": [
    {
     "name": "stdout",
     "output_type": "stream",
     "text": [
      "+-----+---+----------+\n",
      "| Name|Age|Experience|\n",
      "+-----+---+----------+\n",
      "|Gagan| 25|         5|\n",
      "| Ajay| 28|         7|\n",
      "|Sunny| 30|        10|\n",
      "+-----+---+----------+\n",
      "\n"
     ]
    }
   ],
   "source": [
    "df.na.drop().show()"
   ]
  },
  {
   "cell_type": "code",
   "execution_count": 11,
   "metadata": {},
   "outputs": [
    {
     "name": "stdout",
     "output_type": "stream",
     "text": [
      "+-----+---+----------+\n",
      "| Name|Age|Experience|\n",
      "+-----+---+----------+\n",
      "|Gagan| 25|         5|\n",
      "| Ajay| 28|         7|\n",
      "|Sunny| 30|        10|\n",
      "+-----+---+----------+\n",
      "\n"
     ]
    }
   ],
   "source": [
    "df.na.drop('any').show()"
   ]
  },
  {
   "cell_type": "code",
   "execution_count": 13,
   "metadata": {},
   "outputs": [
    {
     "name": "stdout",
     "output_type": "stream",
     "text": [
      "+-----+----+----------+\n",
      "| Name| Age|Experience|\n",
      "+-----+----+----------+\n",
      "|Gagan|  25|         5|\n",
      "| Ajay|  28|         7|\n",
      "|Sunny|  30|        10|\n",
      "| null|  15|         1|\n",
      "|Radha|null|        10|\n",
      "|Rishi|null|      null|\n",
      "+-----+----+----------+\n",
      "\n"
     ]
    }
   ],
   "source": [
    "df.na.drop('all').show()"
   ]
  },
  {
   "cell_type": "code",
   "execution_count": 14,
   "metadata": {},
   "outputs": [
    {
     "name": "stdout",
     "output_type": "stream",
     "text": [
      "+-----+----+----------+\n",
      "| Name| Age|Experience|\n",
      "+-----+----+----------+\n",
      "|Gagan|  25|         5|\n",
      "| Ajay|  28|         7|\n",
      "|Sunny|  30|        10|\n",
      "| null|  15|         1|\n",
      "|Radha|null|        10|\n",
      "+-----+----+----------+\n",
      "\n"
     ]
    }
   ],
   "source": [
    "df.na.drop('all', subset=['Age', 'Experience']).show()"
   ]
  },
  {
   "cell_type": "code",
   "execution_count": 15,
   "metadata": {},
   "outputs": [
    {
     "name": "stdout",
     "output_type": "stream",
     "text": [
      "+-----+---+----------+\n",
      "| Name|Age|Experience|\n",
      "+-----+---+----------+\n",
      "|Gagan| 25|         5|\n",
      "| Ajay| 28|         7|\n",
      "|Sunny| 30|        10|\n",
      "| null| 15|         1|\n",
      "+-----+---+----------+\n",
      "\n"
     ]
    }
   ],
   "source": [
    "df.na.drop('any', subset=['Age', 'Experience']).show()"
   ]
  },
  {
   "cell_type": "code",
   "execution_count": 16,
   "metadata": {},
   "outputs": [
    {
     "name": "stdout",
     "output_type": "stream",
     "text": [
      "+--------------------+----+----------+\n",
      "|                Name| Age|Experience|\n",
      "+--------------------+----+----------+\n",
      "|               Gagan|  25|         5|\n",
      "|                Ajay|  28|         7|\n",
      "|               Sunny|  30|        10|\n",
      "|These are Null Va...|  15|         1|\n",
      "|               Radha|null|        10|\n",
      "|               Rishi|null|      null|\n",
      "+--------------------+----+----------+\n",
      "\n"
     ]
    }
   ],
   "source": [
    "df.na.fill('These are Null Values').show()"
   ]
  },
  {
   "cell_type": "code",
   "execution_count": 17,
   "metadata": {},
   "outputs": [
    {
     "name": "stdout",
     "output_type": "stream",
     "text": [
      "+-----+---+----------+\n",
      "| Name|Age|Experience|\n",
      "+-----+---+----------+\n",
      "|Gagan| 25|         5|\n",
      "| Ajay| 28|         7|\n",
      "|Sunny| 30|        10|\n",
      "| null| 15|         1|\n",
      "|Radha|  0|        10|\n",
      "|Rishi|  0|         0|\n",
      "+-----+---+----------+\n",
      "\n"
     ]
    }
   ],
   "source": [
    "df.na.fill(0).show()"
   ]
  },
  {
   "cell_type": "code",
   "execution_count": 18,
   "metadata": {},
   "outputs": [
    {
     "name": "stdout",
     "output_type": "stream",
     "text": [
      "+-----+---+----------+\n",
      "| Name|Age|Experience|\n",
      "+-----+---+----------+\n",
      "|Gagan| 25|         5|\n",
      "| Ajay| 28|         7|\n",
      "|Sunny| 30|        10|\n",
      "|Gagan| 15|         1|\n",
      "|Radha| 25|        10|\n",
      "|Rishi| 25|         1|\n",
      "+-----+---+----------+\n",
      "\n"
     ]
    }
   ],
   "source": [
    "fill_values = {'Age':25, 'Experience':1, 'Name':'Gagan'}\n",
    "df.na.fill(fill_values).show()"
   ]
  },
  {
   "cell_type": "code",
   "execution_count": 24,
   "metadata": {},
   "outputs": [
    {
     "name": "stdout",
     "output_type": "stream",
     "text": [
      "+-----+----+----------+\n",
      "| Name| Age|Experience|\n",
      "+-----+----+----------+\n",
      "|Gagan|  25|         5|\n",
      "| Ajay|  28|         7|\n",
      "|Sunny|  30|        10|\n",
      "| null|  15|         1|\n",
      "|Radha|null|        10|\n",
      "|Rishi|null|      null|\n",
      "+-----+----+----------+\n",
      "\n"
     ]
    }
   ],
   "source": [
    "df.na.replace([''], ['UNKNOWN'], 'Name').show()"
   ]
  },
  {
   "cell_type": "markdown",
   "metadata": {},
   "source": [
    "complex datatype - Struct (complex_df is having only one column named complex. When we call all the columns inside the complex then it will give all other columns)"
   ]
  },
  {
   "cell_type": "code",
   "execution_count": 27,
   "metadata": {},
   "outputs": [],
   "source": [
    "complex_df = df.select(struct('Name', 'Age').alias('complex'))"
   ]
  },
  {
   "cell_type": "code",
   "execution_count": 33,
   "metadata": {},
   "outputs": [
    {
     "name": "stdout",
     "output_type": "stream",
     "text": [
      "+-----------+\n",
      "|    complex|\n",
      "+-----------+\n",
      "|[Gagan, 25]|\n",
      "| [Ajay, 28]|\n",
      "|[Sunny, 30]|\n",
      "|     [, 15]|\n",
      "|   [Radha,]|\n",
      "|   [Rishi,]|\n",
      "+-----------+\n",
      "\n"
     ]
    }
   ],
   "source": [
    "complex_df.show()"
   ]
  },
  {
   "cell_type": "code",
   "execution_count": 30,
   "metadata": {},
   "outputs": [
    {
     "name": "stdout",
     "output_type": "stream",
     "text": [
      "+-----+----+\n",
      "| Name| Age|\n",
      "+-----+----+\n",
      "|Gagan|  25|\n",
      "| Ajay|  28|\n",
      "|Sunny|  30|\n",
      "| null|  15|\n",
      "|Radha|null|\n",
      "|Rishi|null|\n",
      "+-----+----+\n",
      "\n"
     ]
    }
   ],
   "source": [
    "complex_df.select('complex.*').show()"
   ]
  },
  {
   "cell_type": "markdown",
   "metadata": {},
   "source": [
    "complex type array"
   ]
  },
  {
   "cell_type": "code",
   "execution_count": 35,
   "metadata": {},
   "outputs": [
    {
     "name": "stdout",
     "output_type": "stream",
     "text": [
      "+-----------------+\n",
      "|    split(Name, )|\n",
      "+-----------------+\n",
      "|[G, a, g, a, n, ]|\n",
      "|   [A, j, a, y, ]|\n",
      "|[S, u, n, n, y, ]|\n",
      "|             null|\n",
      "|[R, a, d, h, a, ]|\n",
      "|[R, i, s, h, i, ]|\n",
      "+-----------------+\n",
      "\n"
     ]
    }
   ],
   "source": [
    "df.select(split(col('Name'), '')).show()"
   ]
  },
  {
   "cell_type": "code",
   "execution_count": 37,
   "metadata": {},
   "outputs": [
    {
     "name": "stdout",
     "output_type": "stream",
     "text": [
      "+-----------+\n",
      "|arrayCol[0]|\n",
      "+-----------+\n",
      "|          G|\n",
      "|          A|\n",
      "|          S|\n",
      "|       null|\n",
      "|          R|\n",
      "|          R|\n",
      "+-----------+\n",
      "\n"
     ]
    }
   ],
   "source": [
    "df.select(split(col('Name'), '').alias('arrayCol')).selectExpr('arrayCol[0]').show()"
   ]
  },
  {
   "cell_type": "code",
   "execution_count": 38,
   "metadata": {},
   "outputs": [
    {
     "name": "stdout",
     "output_type": "stream",
     "text": [
      "+-------------------+\n",
      "|size(split(Name, ))|\n",
      "+-------------------+\n",
      "|                  6|\n",
      "|                  5|\n",
      "|                  6|\n",
      "|                 -1|\n",
      "|                  6|\n",
      "|                  6|\n",
      "+-------------------+\n",
      "\n"
     ]
    }
   ],
   "source": [
    "df.select(size(split(col('Name'), ''))).show()"
   ]
  },
  {
   "cell_type": "code",
   "execution_count": 39,
   "metadata": {},
   "outputs": [
    {
     "name": "stdout",
     "output_type": "stream",
     "text": [
      "+--------------------------------+\n",
      "|array_contains(split(Name, ), G)|\n",
      "+--------------------------------+\n",
      "|                            true|\n",
      "|                           false|\n",
      "|                           false|\n",
      "|                            null|\n",
      "|                           false|\n",
      "|                           false|\n",
      "+--------------------------------+\n",
      "\n"
     ]
    }
   ],
   "source": [
    "df.select(array_contains(split(col('Name'), ''), 'G')).show()"
   ]
  },
  {
   "cell_type": "code",
   "execution_count": 40,
   "metadata": {},
   "outputs": [
    {
     "name": "stdout",
     "output_type": "stream",
     "text": [
      "+--------------+----+-----+----------+\n",
      "|splitter_first| Age| Name|Experience|\n",
      "+--------------+----+-----+----------+\n",
      "|             G|  25|Gagan|         5|\n",
      "|             a|  25|Gagan|         5|\n",
      "|             g|  25|Gagan|         5|\n",
      "|             a|  25|Gagan|         5|\n",
      "|             n|  25|Gagan|         5|\n",
      "|              |  25|Gagan|         5|\n",
      "|             A|  28| Ajay|         7|\n",
      "|             j|  28| Ajay|         7|\n",
      "|             a|  28| Ajay|         7|\n",
      "|             y|  28| Ajay|         7|\n",
      "|              |  28| Ajay|         7|\n",
      "|             S|  30|Sunny|        10|\n",
      "|             u|  30|Sunny|        10|\n",
      "|             n|  30|Sunny|        10|\n",
      "|             n|  30|Sunny|        10|\n",
      "|             y|  30|Sunny|        10|\n",
      "|              |  30|Sunny|        10|\n",
      "|             R|null|Radha|        10|\n",
      "|             a|null|Radha|        10|\n",
      "|             d|null|Radha|        10|\n",
      "+--------------+----+-----+----------+\n",
      "only showing top 20 rows\n",
      "\n"
     ]
    }
   ],
   "source": [
    "df.withColumn('splitter', split(col('Name'), '')).withColumn('splitter_first', explode(col('splitter'))).select('splitter_first', 'Age', 'Name', 'Experience').show()"
   ]
  },
  {
   "cell_type": "code",
   "execution_count": 53,
   "metadata": {},
   "outputs": [
    {
     "name": "stdout",
     "output_type": "stream",
     "text": [
      "+----------------+\n",
      "|            Test|\n",
      "+----------------+\n",
      "|[Gagan -> Gagan]|\n",
      "|  [Ajay -> Ajay]|\n",
      "|[Sunny -> Sunny]|\n",
      "+----------------+\n",
      "\n"
     ]
    }
   ],
   "source": [
    "df.na.drop('any').withColumn('NewName', col('Name')).select(create_map(col('NewName'), col('Name')).alias('Test')).show()"
   ]
  },
  {
   "cell_type": "code",
   "execution_count": 54,
   "metadata": {},
   "outputs": [
    {
     "name": "stdout",
     "output_type": "stream",
     "text": [
      "+-------------+\n",
      "|         Test|\n",
      "+-------------+\n",
      "|[25 -> Gagan]|\n",
      "| [28 -> Ajay]|\n",
      "|[30 -> Sunny]|\n",
      "+-------------+\n",
      "\n"
     ]
    }
   ],
   "source": [
    "df.na.drop('any').select(create_map(col('Age'), col('Name')).alias('Test')).show()"
   ]
  },
  {
   "cell_type": "code",
   "execution_count": 56,
   "metadata": {},
   "outputs": [
    {
     "name": "stdout",
     "output_type": "stream",
     "text": [
      "+--------+\n",
      "|Test[25]|\n",
      "+--------+\n",
      "|   Gagan|\n",
      "|    null|\n",
      "|    null|\n",
      "+--------+\n",
      "\n"
     ]
    }
   ],
   "source": [
    "df.na.drop('any').select(create_map(col('Age'), col('Name')).alias('Test')).selectExpr('Test[25]').show()"
   ]
  },
  {
   "cell_type": "code",
   "execution_count": 63,
   "metadata": {},
   "outputs": [
    {
     "name": "stdout",
     "output_type": "stream",
     "text": [
      "+---+-----+\n",
      "|key|value|\n",
      "+---+-----+\n",
      "| 25|Gagan|\n",
      "| 28| Ajay|\n",
      "| 30|Sunny|\n",
      "+---+-----+\n",
      "\n"
     ]
    }
   ],
   "source": [
    "df.na.drop('any').select(create_map(col('Age'), col('Name')).alias('Test')).selectExpr('explode(Test)').show()"
   ]
  },
  {
   "cell_type": "markdown",
   "metadata": {},
   "source": [
    " need to look for why only map is not working where as create_map is working fine"
   ]
  },
  {
   "cell_type": "markdown",
   "metadata": {},
   "source": [
    "JSON DF"
   ]
  },
  {
   "cell_type": "code",
   "execution_count": 81,
   "metadata": {},
   "outputs": [],
   "source": [
    "json_df = spark.range(1).selectExpr(\"\"\"\n",
    "'{\"myJSONKey\":{\"myJSONValue\":[1,2,3]}}' as jsonString\"\"\")"
   ]
  },
  {
   "cell_type": "code",
   "execution_count": 82,
   "metadata": {},
   "outputs": [
    {
     "name": "stdout",
     "output_type": "stream",
     "text": [
      "+------+--------------------+\n",
      "|column|                  c0|\n",
      "+------+--------------------+\n",
      "|     2|{\"myJSONValue\":[1...|\n",
      "+------+--------------------+\n",
      "\n"
     ]
    }
   ],
   "source": [
    "json_df.select(get_json_object(col('jsonString'), '$.myJSONKey.myJSONValue[1]').alias('column'), json_tuple(col('jsonString'), 'myJSONKey')).show()"
   ]
  },
  {
   "cell_type": "code",
   "execution_count": 83,
   "metadata": {},
   "outputs": [
    {
     "name": "stdout",
     "output_type": "stream",
     "text": [
      "+-----------------------+\n",
      "|structstojson(myStruct)|\n",
      "+-----------------------+\n",
      "|   {\"Name\":\"Gagan\",\"...|\n",
      "|   {\"Name\":\"Ajay\",\"A...|\n",
      "|   {\"Name\":\"Sunny\",\"...|\n",
      "|             {\"Age\":15}|\n",
      "|       {\"Name\":\"Radha\"}|\n",
      "|       {\"Name\":\"Rishi\"}|\n",
      "+-----------------------+\n",
      "\n"
     ]
    }
   ],
   "source": [
    "df.selectExpr(\"(Name, Age) as myStruct\").select(to_json(col('myStruct'))).show()"
   ]
  },
  {
   "cell_type": "code",
   "execution_count": 85,
   "metadata": {},
   "outputs": [
    {
     "name": "stdout",
     "output_type": "stream",
     "text": [
      "+----------------------+--------------------+\n",
      "|jsontostructs(newJSON)|             newJSON|\n",
      "+----------------------+--------------------+\n",
      "|           [Gagan, 25]|{\"Name\":\"Gagan\",\"...|\n",
      "|            [Ajay, 28]|{\"Name\":\"Ajay\",\"A...|\n",
      "|           [Sunny, 30]|{\"Name\":\"Sunny\",\"...|\n",
      "|                [, 15]|          {\"Age\":15}|\n",
      "|              [Radha,]|    {\"Name\":\"Radha\"}|\n",
      "|              [Rishi,]|    {\"Name\":\"Rishi\"}|\n",
      "+----------------------+--------------------+\n",
      "\n"
     ]
    }
   ],
   "source": [
    "parseSchema = StructType((StructField('Name', StringType(), True), StructField('Age', IntegerType(), True)))\n",
    "df.selectExpr('(Name, Age) as myStruct').select(to_json(col('myStruct')).alias('newJSON')).select(from_json(col('newJSON'), parseSchema), col('newJSON')).show()"
   ]
  },
  {
   "cell_type": "markdown",
   "metadata": {},
   "source": [
    "### UDF (user defined function)"
   ]
  },
  {
   "cell_type": "code",
   "execution_count": 89,
   "metadata": {},
   "outputs": [
    {
     "data": {
      "text/plain": [
       "8"
      ]
     },
     "execution_count": 89,
     "metadata": {},
     "output_type": "execute_result"
    }
   ],
   "source": [
    "udfExampleDF = spark.range(5).toDF('num')\n",
    "def power3(num):\n",
    "    return num ** 3\n",
    "power3(2)"
   ]
  },
  {
   "cell_type": "code",
   "execution_count": 91,
   "metadata": {},
   "outputs": [],
   "source": [
    "power3udf= udf(power3)\n",
    "udfExampleDF.select(power3udf(col('num'))).show()"
   ]
  },
  {
   "cell_type": "markdown",
   "metadata": {},
   "source": [
    "Aggregation"
   ]
  },
  {
   "cell_type": "code",
   "execution_count": 93,
   "metadata": {},
   "outputs": [],
   "source": [
    "df = spark.read.format('csv').option('header', 'true').option('inferschema', 'true').load('./book_data/retail-data/all/*.csv').coalesce(5)"
   ]
  },
  {
   "cell_type": "code",
   "execution_count": 94,
   "metadata": {},
   "outputs": [
    {
     "data": {
      "text/plain": [
       "DataFrame[InvoiceNo: string, StockCode: string, Description: string, Quantity: int, InvoiceDate: string, UnitPrice: double, CustomerID: int, Country: string]"
      ]
     },
     "execution_count": 94,
     "metadata": {},
     "output_type": "execute_result"
    }
   ],
   "source": [
    "df.cache()"
   ]
  },
  {
   "cell_type": "code",
   "execution_count": 95,
   "metadata": {},
   "outputs": [],
   "source": [
    "df.createOrReplaceGlobalTempView('dfTable')"
   ]
  },
  {
   "cell_type": "code",
   "execution_count": 96,
   "metadata": {},
   "outputs": [
    {
     "name": "stdout",
     "output_type": "stream",
     "text": [
      "+----------------+\n",
      "|count(StockCode)|\n",
      "+----------------+\n",
      "|          541909|\n",
      "+----------------+\n",
      "\n"
     ]
    }
   ],
   "source": [
    "df.select(count('StockCode')).show()"
   ]
  },
  {
   "cell_type": "code",
   "execution_count": 97,
   "metadata": {},
   "outputs": [
    {
     "name": "stdout",
     "output_type": "stream",
     "text": [
      "+--------+\n",
      "|count(1)|\n",
      "+--------+\n",
      "|  541909|\n",
      "+--------+\n",
      "\n"
     ]
    }
   ],
   "source": [
    "df.select(count('*')).show()"
   ]
  },
  {
   "cell_type": "code",
   "execution_count": 99,
   "metadata": {},
   "outputs": [
    {
     "name": "stdout",
     "output_type": "stream",
     "text": [
      "+-------------------------+\n",
      "|count(DISTINCT StockCode)|\n",
      "+-------------------------+\n",
      "|                     4070|\n",
      "+-------------------------+\n",
      "\n"
     ]
    }
   ],
   "source": [
    "df.select(countDistinct('StockCode')).show()"
   ]
  },
  {
   "cell_type": "code",
   "execution_count": 104,
   "metadata": {},
   "outputs": [
    {
     "name": "stdout",
     "output_type": "stream",
     "text": [
      "+--------------------------------+\n",
      "|approx_count_distinct(StockCode)|\n",
      "+--------------------------------+\n",
      "|                            2448|\n",
      "+--------------------------------+\n",
      "\n"
     ]
    }
   ],
   "source": [
    "df.select(approx_count_distinct('StockCode', 0.3)).show()"
   ]
  },
  {
   "cell_type": "code",
   "execution_count": 105,
   "metadata": {},
   "outputs": [
    {
     "name": "stdout",
     "output_type": "stream",
     "text": [
      "+-----------------------+----------------------+\n",
      "|first(StockCode, false)|last(StockCode, false)|\n",
      "+-----------------------+----------------------+\n",
      "|                 85123A|                 22138|\n",
      "+-----------------------+----------------------+\n",
      "\n"
     ]
    }
   ],
   "source": [
    "df.select(first('StockCode'), last('StockCode')).show()"
   ]
  },
  {
   "cell_type": "code",
   "execution_count": 107,
   "metadata": {},
   "outputs": [
    {
     "name": "stdout",
     "output_type": "stream",
     "text": [
      "+-------------+-------------+\n",
      "|min(Quantity)|max(Quantity)|\n",
      "+-------------+-------------+\n",
      "|       -80995|        80995|\n",
      "+-------------+-------------+\n",
      "\n"
     ]
    }
   ],
   "source": [
    "df.select(min('Quantity'), max('Quantity')).show()"
   ]
  },
  {
   "cell_type": "code",
   "execution_count": 108,
   "metadata": {},
   "outputs": [
    {
     "name": "stdout",
     "output_type": "stream",
     "text": [
      "+-------------+\n",
      "|sum(Quantity)|\n",
      "+-------------+\n",
      "|      5176450|\n",
      "+-------------+\n",
      "\n"
     ]
    }
   ],
   "source": [
    "df.select(sum('Quantity')).show()"
   ]
  },
  {
   "cell_type": "code",
   "execution_count": 109,
   "metadata": {},
   "outputs": [
    {
     "name": "stdout",
     "output_type": "stream",
     "text": [
      "+----------------------+\n",
      "|sum(DISTINCT Quantity)|\n",
      "+----------------------+\n",
      "|                 29310|\n",
      "+----------------------+\n",
      "\n"
     ]
    }
   ],
   "source": [
    "df.select(sumDistinct('Quantity')).show()"
   ]
  },
  {
   "cell_type": "code",
   "execution_count": 110,
   "metadata": {},
   "outputs": [
    {
     "name": "stdout",
     "output_type": "stream",
     "text": [
      "+----------------+\n",
      "|   avg(Quantity)|\n",
      "+----------------+\n",
      "|9.55224954743324|\n",
      "+----------------+\n",
      "\n"
     ]
    }
   ],
   "source": [
    "df.select(avg('Quantity')).show()"
   ]
  },
  {
   "cell_type": "code",
   "execution_count": 111,
   "metadata": {},
   "outputs": [
    {
     "name": "stdout",
     "output_type": "stream",
     "text": [
      "+----------------+\n",
      "|   avg(Quantity)|\n",
      "+----------------+\n",
      "|9.55224954743324|\n",
      "+----------------+\n",
      "\n"
     ]
    }
   ],
   "source": [
    "df.select(mean('Quantity')).show()"
   ]
  },
  {
   "cell_type": "code",
   "execution_count": 112,
   "metadata": {},
   "outputs": [
    {
     "name": "stdout",
     "output_type": "stream",
     "text": [
      "+-------------------------------------+----------------+----------------+\n",
      "|(total_purchase / total_transactions)|    avg_purchase|   mean_purchase|\n",
      "+-------------------------------------+----------------+----------------+\n",
      "|                     9.55224954743324|9.55224954743324|9.55224954743324|\n",
      "+-------------------------------------+----------------+----------------+\n",
      "\n"
     ]
    }
   ],
   "source": [
    "df.select(count('Quantity').alias('total_transactions'),\n",
    "          sum('Quantity').alias('total_purchase'),\n",
    "          avg('Quantity').alias('avg_purchase'),\n",
    "          expr('mean(Quantity)').alias('mean_purchase')).selectExpr(\n",
    "              'total_purchase/total_transactions',\n",
    "              'avg_purchase',\n",
    "              'mean_purchase'\n",
    "          ).show()"
   ]
  },
  {
   "cell_type": "code",
   "execution_count": 113,
   "metadata": {},
   "outputs": [
    {
     "name": "stdout",
     "output_type": "stream",
     "text": [
      "+-----------------+------------------+--------------------+---------------------+\n",
      "|var_pop(Quantity)|var_samp(Quantity)|stddev_pop(Quantity)|stddev_samp(Quantity)|\n",
      "+-----------------+------------------+--------------------+---------------------+\n",
      "|47559.30364660917| 47559.39140929886|   218.0809566344782|   218.08115785023443|\n",
      "+-----------------+------------------+--------------------+---------------------+\n",
      "\n"
     ]
    }
   ],
   "source": [
    "df.select(var_pop('Quantity'), var_samp('Quantity'), stddev_pop('Quantity'), stddev_samp('Quantity')).show()"
   ]
  },
  {
   "cell_type": "code",
   "execution_count": 114,
   "metadata": {},
   "outputs": [
    {
     "name": "stdout",
     "output_type": "stream",
     "text": [
      "+--------------------+------------------+\n",
      "|  skewness(Quantity)|kurtosis(Quantity)|\n",
      "+--------------------+------------------+\n",
      "|-0.26407557610528065|119768.05495536947|\n",
      "+--------------------+------------------+\n",
      "\n"
     ]
    }
   ],
   "source": [
    "df.select(skewness('Quantity'), kurtosis('Quantity')).show()"
   ]
  },
  {
   "cell_type": "code",
   "execution_count": 115,
   "metadata": {},
   "outputs": [
    {
     "name": "stdout",
     "output_type": "stream",
     "text": [
      "+-------------------------+-------------------------------+------------------------------+\n",
      "|corr(InvoiceNo, Quantity)|covar_samp(InvoiceNo, Quantity)|covar_pop(InvoiceNo, Quantity)|\n",
      "+-------------------------+-------------------------------+------------------------------+\n",
      "|     4.912186085637207E-4|              1052.728054390769|            1052.7260778746647|\n",
      "+-------------------------+-------------------------------+------------------------------+\n",
      "\n"
     ]
    }
   ],
   "source": [
    "df.select(corr('InvoiceNo', 'Quantity'), covar_samp('InvoiceNo', 'Quantity'), covar_pop('InvoiceNo', 'Quantity')).show()"
   ]
  },
  {
   "cell_type": "code",
   "execution_count": 116,
   "metadata": {},
   "outputs": [
    {
     "name": "stdout",
     "output_type": "stream",
     "text": [
      "+--------------------+---------------------+\n",
      "|collect_set(Country)|collect_list(Country)|\n",
      "+--------------------+---------------------+\n",
      "|[Portugal, Italy,...| [United Kingdom, ...|\n",
      "+--------------------+---------------------+\n",
      "\n"
     ]
    }
   ],
   "source": [
    "df.agg(collect_set('Country'), collect_list('Country')).show()"
   ]
  },
  {
   "cell_type": "code",
   "execution_count": 118,
   "metadata": {},
   "outputs": [
    {
     "name": "stdout",
     "output_type": "stream",
     "text": [
      "+---------+----------+-----+\n",
      "|InvoiceNo|CustomerId|count|\n",
      "+---------+----------+-----+\n",
      "|   536846|     14573|   76|\n",
      "|   537026|     12395|   12|\n",
      "|   537883|     14437|    5|\n",
      "|   538068|     17978|   12|\n",
      "|   538279|     14952|    7|\n",
      "|   538800|     16458|   10|\n",
      "|   538942|     17346|   12|\n",
      "|  C539947|     13854|    1|\n",
      "|   540096|     13253|   16|\n",
      "|   540530|     14755|   27|\n",
      "|   541225|     14099|   19|\n",
      "|   541978|     13551|    4|\n",
      "|   542093|     17677|   16|\n",
      "|   536596|      null|    6|\n",
      "|   537252|      null|    1|\n",
      "|   538041|      null|    1|\n",
      "|   543188|     12567|   63|\n",
      "|   543590|     17377|   19|\n",
      "|  C543757|     13115|    1|\n",
      "|  C544318|     12989|    1|\n",
      "+---------+----------+-----+\n",
      "only showing top 20 rows\n",
      "\n"
     ]
    }
   ],
   "source": [
    "df.groupBy('InvoiceNo', 'CustomerId').count().show()"
   ]
  },
  {
   "cell_type": "code",
   "execution_count": 119,
   "metadata": {},
   "outputs": [
    {
     "name": "stdout",
     "output_type": "stream",
     "text": [
      "+---------+-----+---------------+\n",
      "|InvoiceNo|quant|count(Quantity)|\n",
      "+---------+-----+---------------+\n",
      "|   536596|    6|              6|\n",
      "|   536938|   14|             14|\n",
      "|   537252|    1|              1|\n",
      "|   537691|   20|             20|\n",
      "|   538041|    1|              1|\n",
      "|   538184|   26|             26|\n",
      "|   538517|   53|             53|\n",
      "|   538879|   19|             19|\n",
      "|   539275|    6|              6|\n",
      "|   539630|   12|             12|\n",
      "|   540499|   24|             24|\n",
      "|   540540|   22|             22|\n",
      "|  C540850|    1|              1|\n",
      "|   540976|   48|             48|\n",
      "|   541432|    4|              4|\n",
      "|   541518|  101|            101|\n",
      "|   541783|   35|             35|\n",
      "|   542026|    9|              9|\n",
      "|   542375|    6|              6|\n",
      "|  C542604|    8|              8|\n",
      "+---------+-----+---------------+\n",
      "only showing top 20 rows\n",
      "\n"
     ]
    }
   ],
   "source": [
    "df.groupBy('InvoiceNo').agg(count('Quantity').alias('quant'), expr('count(Quantity)')).show()"
   ]
  },
  {
   "cell_type": "code",
   "execution_count": 120,
   "metadata": {},
   "outputs": [
    {
     "name": "stdout",
     "output_type": "stream",
     "text": [
      "+---------+------------------+--------------------+\n",
      "|InvoiceNo|     avg(Quantity)|stddev_pop(Quantity)|\n",
      "+---------+------------------+--------------------+\n",
      "|   536596|               1.5|  1.1180339887498947|\n",
      "|   536938|33.142857142857146|  20.698023172885524|\n",
      "|   537252|              31.0|                 0.0|\n",
      "|   537691|              8.15|   5.597097462078001|\n",
      "|   538041|              30.0|                 0.0|\n",
      "|   538184|12.076923076923077|   8.142590198943392|\n",
      "|   538517|3.0377358490566038|  2.3946659604837897|\n",
      "|   538879|21.157894736842106|  11.811070444356483|\n",
      "|   539275|              26.0|  12.806248474865697|\n",
      "|   539630|20.333333333333332|  10.225241100118645|\n",
      "|   540499|              3.75|  2.6653642652865788|\n",
      "|   540540|2.1363636363636362|  1.0572457590557278|\n",
      "|  C540850|              -1.0|                 0.0|\n",
      "|   540976|10.520833333333334|   6.496760677872902|\n",
      "|   541432|             12.25|  10.825317547305483|\n",
      "|   541518| 23.10891089108911|  20.550782784878713|\n",
      "|   541783|11.314285714285715|   8.467657556242811|\n",
      "|   542026| 7.666666666666667|   4.853406592853679|\n",
      "|   542375|               8.0|  3.4641016151377544|\n",
      "|  C542604|              -8.0|  15.173990905493518|\n",
      "+---------+------------------+--------------------+\n",
      "only showing top 20 rows\n",
      "\n"
     ]
    }
   ],
   "source": [
    "df.groupBy('InvoiceNo').agg(expr('avg(Quantity)'), expr('stddev_pop(Quantity)')).show()"
   ]
  },
  {
   "cell_type": "code",
   "execution_count": 121,
   "metadata": {},
   "outputs": [],
   "source": [
    "dfWithDate = df.withColumn('date', to_date(col('InvoiceDate'), 'MM/dd/yyyy H:mm'))\n",
    "dfWithDate.createOrReplaceTempView('dfWithDate')"
   ]
  },
  {
   "cell_type": "code",
   "execution_count": 125,
   "metadata": {},
   "outputs": [],
   "source": [
    "from pyspark.sql.window import Window\n",
    "windowSpec = Window.partitionBy('CustomerId', 'date').orderBy(desc('Quantity')).rowsBetween(Window.unboundedPreceding, Window.currentRow)"
   ]
  },
  {
   "cell_type": "code",
   "execution_count": 127,
   "metadata": {},
   "outputs": [],
   "source": [
    "maxPurchaseQuantity = max(col('Quantity')).over(windowSpec)"
   ]
  },
  {
   "cell_type": "code",
   "execution_count": 128,
   "metadata": {},
   "outputs": [
    {
     "data": {
      "text/plain": [
       "Column<b'max(Quantity) OVER (PARTITION BY CustomerId, date ORDER BY Quantity DESC NULLS LAST ROWS BETWEEN UNBOUNDED PRECEDING AND CURRENT ROW)'>"
      ]
     },
     "execution_count": 128,
     "metadata": {},
     "output_type": "execute_result"
    }
   ],
   "source": [
    "maxPurchaseQuantity"
   ]
  },
  {
   "cell_type": "code",
   "execution_count": 129,
   "metadata": {},
   "outputs": [],
   "source": [
    "purchaseRank = rank().over(windowSpec)\n",
    "purchaseDenseRank = dense_rank().over(windowSpec)"
   ]
  },
  {
   "cell_type": "code",
   "execution_count": 137,
   "metadata": {},
   "outputs": [
    {
     "name": "stdout",
     "output_type": "stream",
     "text": [
      "+----------+----------+--------+------------+-----------------+-------------------+\n",
      "|CustomerId|      date|Quantity|PurchaseRank|PurchaseDenseRank|MaxPurchaseQuantity|\n",
      "+----------+----------+--------+------------+-----------------+-------------------+\n",
      "|     12346|2011-01-18|   74215|           1|                1|              74215|\n",
      "|     12346|2011-01-18|  -74215|           2|                2|              74215|\n",
      "|     12347|2010-12-07|      36|           1|                1|                 36|\n",
      "|     12347|2010-12-07|      30|           2|                2|                 36|\n",
      "|     12347|2010-12-07|      24|           3|                3|                 36|\n",
      "|     12347|2010-12-07|      12|           4|                4|                 36|\n",
      "|     12347|2010-12-07|      12|           4|                4|                 36|\n",
      "|     12347|2010-12-07|      12|           4|                4|                 36|\n",
      "|     12347|2010-12-07|      12|           4|                4|                 36|\n",
      "|     12347|2010-12-07|      12|           4|                4|                 36|\n",
      "|     12347|2010-12-07|      12|           4|                4|                 36|\n",
      "|     12347|2010-12-07|      12|           4|                4|                 36|\n",
      "|     12347|2010-12-07|      12|           4|                4|                 36|\n",
      "|     12347|2010-12-07|      12|           4|                4|                 36|\n",
      "|     12347|2010-12-07|      12|           4|                4|                 36|\n",
      "|     12347|2010-12-07|      12|           4|                4|                 36|\n",
      "|     12347|2010-12-07|      12|           4|                4|                 36|\n",
      "|     12347|2010-12-07|      12|           4|                4|                 36|\n",
      "|     12347|2010-12-07|       6|          17|                5|                 36|\n",
      "|     12347|2010-12-07|       6|          17|                5|                 36|\n",
      "+----------+----------+--------+------------+-----------------+-------------------+\n",
      "only showing top 20 rows\n",
      "\n"
     ]
    }
   ],
   "source": [
    "dfWithDate.where('CustomerId IS NOT NULL').orderBy('CustomerId').select(col('CustomerId'), col('date'), col('Quantity'), purchaseRank.alias('PurchaseRank'), purchaseDenseRank.alias('PurchaseDenseRank'), maxPurchaseQuantity.alias('MaxPurchaseQuantity')).show()"
   ]
  },
  {
   "cell_type": "code",
   "execution_count": 138,
   "metadata": {},
   "outputs": [
    {
     "name": "stdout",
     "output_type": "stream",
     "text": [
      "+---------+---------+--------------------+--------+--------------+---------+----------+--------------+----------+\n",
      "|InvoiceNo|StockCode|         Description|Quantity|   InvoiceDate|UnitPrice|CustomerID|       Country|      date|\n",
      "+---------+---------+--------------------+--------+--------------+---------+----------+--------------+----------+\n",
      "|   536365|   85123A|WHITE HANGING HEA...|       6|12/1/2010 8:26|     2.55|     17850|United Kingdom|2010-12-01|\n",
      "|   536365|    71053| WHITE METAL LANTERN|       6|12/1/2010 8:26|     3.39|     17850|United Kingdom|2010-12-01|\n",
      "|   536365|   84406B|CREAM CUPID HEART...|       8|12/1/2010 8:26|     2.75|     17850|United Kingdom|2010-12-01|\n",
      "|   536365|   84029G|KNITTED UNION FLA...|       6|12/1/2010 8:26|     3.39|     17850|United Kingdom|2010-12-01|\n",
      "|   536365|   84029E|RED WOOLLY HOTTIE...|       6|12/1/2010 8:26|     3.39|     17850|United Kingdom|2010-12-01|\n",
      "|   536365|    22752|SET 7 BABUSHKA NE...|       2|12/1/2010 8:26|     7.65|     17850|United Kingdom|2010-12-01|\n",
      "|   536365|    21730|GLASS STAR FROSTE...|       6|12/1/2010 8:26|     4.25|     17850|United Kingdom|2010-12-01|\n",
      "|   536366|    22633|HAND WARMER UNION...|       6|12/1/2010 8:28|     1.85|     17850|United Kingdom|2010-12-01|\n",
      "|   536366|    22632|HAND WARMER RED P...|       6|12/1/2010 8:28|     1.85|     17850|United Kingdom|2010-12-01|\n",
      "|   536367|    84879|ASSORTED COLOUR B...|      32|12/1/2010 8:34|     1.69|     13047|United Kingdom|2010-12-01|\n",
      "|   536367|    22745|POPPY'S PLAYHOUSE...|       6|12/1/2010 8:34|      2.1|     13047|United Kingdom|2010-12-01|\n",
      "|   536367|    22748|POPPY'S PLAYHOUSE...|       6|12/1/2010 8:34|      2.1|     13047|United Kingdom|2010-12-01|\n",
      "|   536367|    22749|FELTCRAFT PRINCES...|       8|12/1/2010 8:34|     3.75|     13047|United Kingdom|2010-12-01|\n",
      "|   536367|    22310|IVORY KNITTED MUG...|       6|12/1/2010 8:34|     1.65|     13047|United Kingdom|2010-12-01|\n",
      "|   536367|    84969|BOX OF 6 ASSORTED...|       6|12/1/2010 8:34|     4.25|     13047|United Kingdom|2010-12-01|\n",
      "|   536367|    22623|BOX OF VINTAGE JI...|       3|12/1/2010 8:34|     4.95|     13047|United Kingdom|2010-12-01|\n",
      "|   536367|    22622|BOX OF VINTAGE AL...|       2|12/1/2010 8:34|     9.95|     13047|United Kingdom|2010-12-01|\n",
      "|   536367|    21754|HOME BUILDING BLO...|       3|12/1/2010 8:34|     5.95|     13047|United Kingdom|2010-12-01|\n",
      "|   536367|    21755|LOVE BUILDING BLO...|       3|12/1/2010 8:34|     5.95|     13047|United Kingdom|2010-12-01|\n",
      "|   536367|    21777|RECIPE BOX WITH M...|       4|12/1/2010 8:34|     7.95|     13047|United Kingdom|2010-12-01|\n",
      "+---------+---------+--------------------+--------+--------------+---------+----------+--------------+----------+\n",
      "only showing top 20 rows\n",
      "\n"
     ]
    }
   ],
   "source": [
    "dfNoNull = dfWithDate.drop()\n",
    "dfNoNull.show()"
   ]
  },
  {
   "cell_type": "code",
   "execution_count": 140,
   "metadata": {},
   "outputs": [
    {
     "name": "stdout",
     "output_type": "stream",
     "text": [
      "+----------+--------------+--------------+\n",
      "|      Date|       Country|total_quantity|\n",
      "+----------+--------------+--------------+\n",
      "|      null|          null|       5176450|\n",
      "|2010-12-01|United Kingdom|         23949|\n",
      "|2010-12-01|        Norway|          1852|\n",
      "|2010-12-01|          null|         26814|\n",
      "|2010-12-01|       Germany|           117|\n",
      "|2010-12-01|     Australia|           107|\n",
      "|2010-12-01|   Netherlands|            97|\n",
      "|2010-12-01|        France|           449|\n",
      "|2010-12-01|          EIRE|           243|\n",
      "|2010-12-02|       Germany|           146|\n",
      "|2010-12-02|          null|         21023|\n",
      "|2010-12-02|          EIRE|             4|\n",
      "|2010-12-02|United Kingdom|         20873|\n",
      "|2010-12-03|         Italy|           164|\n",
      "|2010-12-03|       Belgium|           528|\n",
      "|2010-12-03|       Germany|           170|\n",
      "|2010-12-03|         Spain|           400|\n",
      "|2010-12-03|   Switzerland|           110|\n",
      "|2010-12-03|        France|           239|\n",
      "|2010-12-03|      Portugal|            65|\n",
      "+----------+--------------+--------------+\n",
      "only showing top 20 rows\n",
      "\n"
     ]
    }
   ],
   "source": [
    "rolledUpDF = dfNoNull.rollup('Date', 'Country').agg(sum('Quantity')).selectExpr('Date', 'Country', '`sum(Quantity)` as total_quantity').orderBy('Date')\n",
    "rolledUpDF.show()"
   ]
  },
  {
   "cell_type": "code",
   "execution_count": 141,
   "metadata": {},
   "outputs": [
    {
     "name": "stdout",
     "output_type": "stream",
     "text": [
      "+----+--------------------+-------------+\n",
      "|Date|             Country|sum(Quantity)|\n",
      "+----+--------------------+-------------+\n",
      "|null|               Japan|        25218|\n",
      "|null|            Portugal|        16180|\n",
      "|null|                null|      5176450|\n",
      "|null|              Cyprus|         6317|\n",
      "|null|           Australia|        83653|\n",
      "|null|             Finland|        10666|\n",
      "|null|                 RSA|          352|\n",
      "|null|United Arab Emirates|          982|\n",
      "|null|             Lebanon|          386|\n",
      "|null|             Germany|       117448|\n",
      "|null|             Denmark|         8188|\n",
      "|null|              Norway|        19247|\n",
      "|null|           Singapore|         5234|\n",
      "|null|         Unspecified|         3300|\n",
      "|null|           Hong Kong|         4769|\n",
      "|null|  European Community|          497|\n",
      "|null|     Channel Islands|         9479|\n",
      "|null|               Spain|        26824|\n",
      "|null|                 USA|         1034|\n",
      "|null|      Czech Republic|          592|\n",
      "+----+--------------------+-------------+\n",
      "only showing top 20 rows\n",
      "\n"
     ]
    }
   ],
   "source": [
    "dfNoNull.cube('Date', 'Country').agg(sum(col('Quantity'))).select('Date', 'Country', 'sum(Quantity)').orderBy('Date').show()"
   ]
  },
  {
   "cell_type": "code",
   "execution_count": 142,
   "metadata": {},
   "outputs": [],
   "source": [
    "pivoted = dfWithDate.groupBy('date').pivot('Country').sum()"
   ]
  },
  {
   "cell_type": "code",
   "execution_count": 144,
   "metadata": {},
   "outputs": [
    {
     "name": "stdout",
     "output_type": "stream",
     "text": [
      "+----------+---------------------------------------+------------------------+-----------------------------------------+-------------------------------------+----------------------+---------------------------------------+-------------------------------------+----------------------+---------------------------------------+-------------------------------------+----------------------+---------------------------------------+------------------------------------+---------------------+--------------------------------------+------------------------------------+---------------------+--------------------------------------+---------------------------------------------+------------------------------+-----------------------------------------------+------------------------------------+---------------------+--------------------------------------+--------------------------------------------+-----------------------------+----------------------------------------------+-------------------------------------+----------------------+---------------------------------------+----------------------------------+-------------------+------------------------------------+------------------------------------------------+---------------------------------+--------------------------------------------------+-------------------------------------+----------------------+---------------------------------------+------------------------------------+---------------------+--------------------------------------+-------------------------------------+----------------------+---------------------------------------+------------------------------------+---------------------+--------------------------------------+---------------------------------------+------------------------+-----------------------------------------+-------------------------------------+----------------------+---------------------------------------+------------------------------------+---------------------+--------------------------------------+-----------------------------------+--------------------+-------------------------------------+-----------------------------------+--------------------+-------------------------------------+-------------------------------------+----------------------+---------------------------------------+---------------------------------------+------------------------+-----------------------------------------+-----------------------------------+--------------------+-------------------------------------+-----------------------------------------+--------------------------+-------------------------------------------+------------------------------------+---------------------+--------------------------------------+------------------------------------+---------------------+--------------------------------------+--------------------------------------+-----------------------+----------------------------------------+---------------------------------+------------------+-----------------------------------+------------------------------------------+---------------------------+--------------------------------------------+---------------------------------------+------------------------+-----------------------------------------+-----------------------------------+--------------------+-------------------------------------+------------------------------------+---------------------+--------------------------------------+-----------------------------------------+--------------------------+-------------------------------------------+---------------------------------+------------------+-----------------------------------+--------------------------------------------------+-----------------------------------+----------------------------------------------------+--------------------------------------------+-----------------------------+----------------------------------------------+-----------------------------------------+--------------------------+-------------------------------------------+\n",
      "|      date|Australia_sum(CAST(Quantity AS BIGINT))|Australia_sum(UnitPrice)|Australia_sum(CAST(CustomerID AS BIGINT))|Austria_sum(CAST(Quantity AS BIGINT))|Austria_sum(UnitPrice)|Austria_sum(CAST(CustomerID AS BIGINT))|Bahrain_sum(CAST(Quantity AS BIGINT))|Bahrain_sum(UnitPrice)|Bahrain_sum(CAST(CustomerID AS BIGINT))|Belgium_sum(CAST(Quantity AS BIGINT))|Belgium_sum(UnitPrice)|Belgium_sum(CAST(CustomerID AS BIGINT))|Brazil_sum(CAST(Quantity AS BIGINT))|Brazil_sum(UnitPrice)|Brazil_sum(CAST(CustomerID AS BIGINT))|Canada_sum(CAST(Quantity AS BIGINT))|Canada_sum(UnitPrice)|Canada_sum(CAST(CustomerID AS BIGINT))|Channel Islands_sum(CAST(Quantity AS BIGINT))|Channel Islands_sum(UnitPrice)|Channel Islands_sum(CAST(CustomerID AS BIGINT))|Cyprus_sum(CAST(Quantity AS BIGINT))|Cyprus_sum(UnitPrice)|Cyprus_sum(CAST(CustomerID AS BIGINT))|Czech Republic_sum(CAST(Quantity AS BIGINT))|Czech Republic_sum(UnitPrice)|Czech Republic_sum(CAST(CustomerID AS BIGINT))|Denmark_sum(CAST(Quantity AS BIGINT))|Denmark_sum(UnitPrice)|Denmark_sum(CAST(CustomerID AS BIGINT))|EIRE_sum(CAST(Quantity AS BIGINT))|EIRE_sum(UnitPrice)|EIRE_sum(CAST(CustomerID AS BIGINT))|European Community_sum(CAST(Quantity AS BIGINT))|European Community_sum(UnitPrice)|European Community_sum(CAST(CustomerID AS BIGINT))|Finland_sum(CAST(Quantity AS BIGINT))|Finland_sum(UnitPrice)|Finland_sum(CAST(CustomerID AS BIGINT))|France_sum(CAST(Quantity AS BIGINT))|France_sum(UnitPrice)|France_sum(CAST(CustomerID AS BIGINT))|Germany_sum(CAST(Quantity AS BIGINT))|Germany_sum(UnitPrice)|Germany_sum(CAST(CustomerID AS BIGINT))|Greece_sum(CAST(Quantity AS BIGINT))|Greece_sum(UnitPrice)|Greece_sum(CAST(CustomerID AS BIGINT))|Hong Kong_sum(CAST(Quantity AS BIGINT))|Hong Kong_sum(UnitPrice)|Hong Kong_sum(CAST(CustomerID AS BIGINT))|Iceland_sum(CAST(Quantity AS BIGINT))|Iceland_sum(UnitPrice)|Iceland_sum(CAST(CustomerID AS BIGINT))|Israel_sum(CAST(Quantity AS BIGINT))|Israel_sum(UnitPrice)|Israel_sum(CAST(CustomerID AS BIGINT))|Italy_sum(CAST(Quantity AS BIGINT))|Italy_sum(UnitPrice)|Italy_sum(CAST(CustomerID AS BIGINT))|Japan_sum(CAST(Quantity AS BIGINT))|Japan_sum(UnitPrice)|Japan_sum(CAST(CustomerID AS BIGINT))|Lebanon_sum(CAST(Quantity AS BIGINT))|Lebanon_sum(UnitPrice)|Lebanon_sum(CAST(CustomerID AS BIGINT))|Lithuania_sum(CAST(Quantity AS BIGINT))|Lithuania_sum(UnitPrice)|Lithuania_sum(CAST(CustomerID AS BIGINT))|Malta_sum(CAST(Quantity AS BIGINT))|Malta_sum(UnitPrice)|Malta_sum(CAST(CustomerID AS BIGINT))|Netherlands_sum(CAST(Quantity AS BIGINT))|Netherlands_sum(UnitPrice)|Netherlands_sum(CAST(CustomerID AS BIGINT))|Norway_sum(CAST(Quantity AS BIGINT))|Norway_sum(UnitPrice)|Norway_sum(CAST(CustomerID AS BIGINT))|Poland_sum(CAST(Quantity AS BIGINT))|Poland_sum(UnitPrice)|Poland_sum(CAST(CustomerID AS BIGINT))|Portugal_sum(CAST(Quantity AS BIGINT))|Portugal_sum(UnitPrice)|Portugal_sum(CAST(CustomerID AS BIGINT))|RSA_sum(CAST(Quantity AS BIGINT))|RSA_sum(UnitPrice)|RSA_sum(CAST(CustomerID AS BIGINT))|Saudi Arabia_sum(CAST(Quantity AS BIGINT))|Saudi Arabia_sum(UnitPrice)|Saudi Arabia_sum(CAST(CustomerID AS BIGINT))|Singapore_sum(CAST(Quantity AS BIGINT))|Singapore_sum(UnitPrice)|Singapore_sum(CAST(CustomerID AS BIGINT))|Spain_sum(CAST(Quantity AS BIGINT))|Spain_sum(UnitPrice)|Spain_sum(CAST(CustomerID AS BIGINT))|Sweden_sum(CAST(Quantity AS BIGINT))|Sweden_sum(UnitPrice)|Sweden_sum(CAST(CustomerID AS BIGINT))|Switzerland_sum(CAST(Quantity AS BIGINT))|Switzerland_sum(UnitPrice)|Switzerland_sum(CAST(CustomerID AS BIGINT))|USA_sum(CAST(Quantity AS BIGINT))|USA_sum(UnitPrice)|USA_sum(CAST(CustomerID AS BIGINT))|United Arab Emirates_sum(CAST(Quantity AS BIGINT))|United Arab Emirates_sum(UnitPrice)|United Arab Emirates_sum(CAST(CustomerID AS BIGINT))|United Kingdom_sum(CAST(Quantity AS BIGINT))|United Kingdom_sum(UnitPrice)|United Kingdom_sum(CAST(CustomerID AS BIGINT))|Unspecified_sum(CAST(Quantity AS BIGINT))|Unspecified_sum(UnitPrice)|Unspecified_sum(CAST(CustomerID AS BIGINT))|\n",
      "+----------+---------------------------------------+------------------------+-----------------------------------------+-------------------------------------+----------------------+---------------------------------------+-------------------------------------+----------------------+---------------------------------------+-------------------------------------+----------------------+---------------------------------------+------------------------------------+---------------------+--------------------------------------+------------------------------------+---------------------+--------------------------------------+---------------------------------------------+------------------------------+-----------------------------------------------+------------------------------------+---------------------+--------------------------------------+--------------------------------------------+-----------------------------+----------------------------------------------+-------------------------------------+----------------------+---------------------------------------+----------------------------------+-------------------+------------------------------------+------------------------------------------------+---------------------------------+--------------------------------------------------+-------------------------------------+----------------------+---------------------------------------+------------------------------------+---------------------+--------------------------------------+-------------------------------------+----------------------+---------------------------------------+------------------------------------+---------------------+--------------------------------------+---------------------------------------+------------------------+-----------------------------------------+-------------------------------------+----------------------+---------------------------------------+------------------------------------+---------------------+--------------------------------------+-----------------------------------+--------------------+-------------------------------------+-----------------------------------+--------------------+-------------------------------------+-------------------------------------+----------------------+---------------------------------------+---------------------------------------+------------------------+-----------------------------------------+-----------------------------------+--------------------+-------------------------------------+-----------------------------------------+--------------------------+-------------------------------------------+------------------------------------+---------------------+--------------------------------------+------------------------------------+---------------------+--------------------------------------+--------------------------------------+-----------------------+----------------------------------------+---------------------------------+------------------+-----------------------------------+------------------------------------------+---------------------------+--------------------------------------------+---------------------------------------+------------------------+-----------------------------------------+-----------------------------------+--------------------+-------------------------------------+------------------------------------+---------------------+--------------------------------------+-----------------------------------------+--------------------------+-------------------------------------------+---------------------------------+------------------+-----------------------------------+--------------------------------------------------+-----------------------------------+----------------------------------------------------+--------------------------------------------+-----------------------------+----------------------------------------------+-----------------------------------------+--------------------------+-------------------------------------------+\n",
      "|2011-10-07|                                   null|                    null|                                     null|                                 null|                  null|                                   null|                                 null|                  null|                                   null|                                 null|                  null|                                   null|                                null|                 null|                                  null|                                null|                 null|                                  null|                                         null|                          null|                                           null|                                 345|   136.51000000000002|                                360180|                                         325|                        49.38|                                        127810|                                  637|                 27.69|                                  74364|                               448| 225.09999999999997|                              760461|                                            null|                             null|                                              null|                                 null|                  null|                                   null|                                 527|    88.43999999999998|                                483504|                                 2053|    327.79999999999995|                                1150698|                                null|                 null|                                  null|                                   null|                    null|                                     null|                                 null|                  null|                                   null|                                null|                 null|                                  null|                               null|                null|                                 null|                               null|                null|                                 null|                                 null|                  null|                                   null|                                   null|                    null|                                     null|                               null|                null|                                 null|                                      212|                     25.35|                                     140558|                                null|                 null|                                  null|                                null|                 null|                                  null|                                  null|                   null|                                    null|                             null|              null|                               null|                                      null|                       null|                                        null|                                   null|                    null|                                     null|                                227|  123.08000000000001|                               275880|                                null|                 null|                                  null|                                     null|                      null|                                       null|                             null|              null|                               null|                                              null|                               null|                                                null|                                       25657|           12425.409999999976|                                      27566889|                                     null|                      null|                                       null|\n",
      "|2011-05-06|                                   null|                    null|                                     null|                                   42|                 58.95|                                  74484|                                 null|                  null|                                   null|                                  182|                 63.32|                                 260274|                                null|                 null|                                  null|                                null|                 null|                                  null|                                         null|                          null|                                           null|                                null|                 null|                                  null|                                        null|                         null|                                          null|                                 null|                  null|                                   null|                              1694|              75.37|                              283120|                                            null|                             null|                                              null|                                 null|                  null|                                   null|                                null|                 null|                                  null|                                  222|    12.639999999999999|                                 126857|                                null|                 null|                                  null|                                   null|                    null|                                     null|                                 null|                  null|                                   null|                                null|                 null|                                  null|                               null|                null|                                 null|                               null|                null|                                 null|                                 null|                  null|                                   null|                                   null|                    null|                                     null|                               null|                null|                                 null|                                     null|                      null|                                       null|                                null|                 null|                                  null|                                null|                 null|                                  null|                                  null|                   null|                                    null|                             null|              null|                               null|                                      null|                       null|                                        null|                                   null|                    null|                                     null|                                 88|               113.1|                               187530|                                null|                 null|                                  null|                                     null|                      null|                                       null|                             null|              null|                               null|                                              null|                               null|                                                null|                                       17404|            6952.629999999985|                                      18722445|                                     null|                      null|                                       null|\n",
      "|2011-01-30|                                   null|                    null|                                     null|                                 null|                  null|                                   null|                                 null|                  null|                                   null|                                 null|                  null|                                   null|                                null|                 null|                                  null|                                null|                 null|                                  null|                                         null|                          null|                                           null|                                null|                 null|                                  null|                                        null|                         null|                                          null|                                 null|                  null|                                   null|                              null|               null|                                null|                                            null|                             null|                                              null|                                 null|                  null|                                   null|                                null|                 null|                                  null|                                 null|                  null|                                   null|                                null|                 null|                                  null|                                   null|                    null|                                     null|                                 null|                  null|                                   null|                                null|                 null|                                  null|                               null|                null|                                 null|                               null|                null|                                 null|                                 null|                  null|                                   null|                                   null|                    null|                                     null|                               null|                null|                                 null|                                     null|                      null|                                       null|                                null|                 null|                                  null|                                null|                 null|                                  null|                                  null|                   null|                                    null|                             null|              null|                               null|                                      null|                       null|                                        null|                                   null|                    null|                                     null|                               null|                null|                                 null|                                null|                 null|                                  null|                                     null|                      null|                                       null|                             null|              null|                               null|                                              null|                               null|                                                null|                                        3367|            2321.720000000002|                                      11334037|                                     null|                      null|                                       null|\n",
      "|2011-11-18|                                   null|                    null|                                     null|                                 null|                  null|                                   null|                                 null|                  null|                                   null|                                  315|     87.74000000000001|                                 210460|                                null|                 null|                                  null|                                null|                 null|                                  null|                                         null|                          null|                                           null|                                 300|   245.99000000000004|                               1239100|                                         -40|           6.9399999999999995|                                         38343|                                 null|                  null|                                   null|                               263| 230.84999999999982|                              819350|                                            null|                             null|                                              null|                                 null|                  null|                                   null|                                 550|               167.77|                                593838|                                  491|    128.18000000000004|                                 274863|                                null|                 null|                                  null|                                   null|                    null|                                     null|                                 null|                  null|                                   null|                                null|                 null|                                  null|                                544|  232.31999999999996|                               692230|                               null|                null|                                 null|                                 null|                  null|                                   null|                                   null|                    null|                                     null|                               null|                null|                                 null|                                       34|                     19.25|                                      29292|                                 242|   186.04000000000002|                                435540|                                  -8|    8.190000000000001|                                 38337|                                  null|                   null|                                    null|                             null|              null|                               null|                                      null|                       null|                                        null|                                   null|                    null|                                     null|                               null|                null|                                 null|                                  -3|                 2.89|                                 12697|                                      669|         78.28999999999998|                                     547844|                             null|              null|                               null|                                              null|                               null|                                                null|                                       20178|           10676.199999999879|                                      29578557|                                     null|                      null|                                       null|\n",
      "|2011-07-18|                                   null|                    null|                                     null|                                 null|                  null|                                   null|                                 null|                  null|                                   null|                                 null|                  null|                                   null|                                null|                 null|                                  null|                                null|                 null|                                  null|                                         null|                          null|                                           null|                                null|                 null|                                  null|                                        null|                         null|                                          null|                                 null|                  null|                                   null|                              1377| 146.97999999999988|                              999037|                                            null|                             null|                                              null|                                 null|                  null|                                   null|                                 921|   132.25000000000003|                                533282|                                 null|                  null|                                   null|                                null|                 null|                                  null|                                   null|                    null|                                     null|                                 null|                  null|                                   null|                                null|                 null|                                  null|                               null|                null|                                 null|                               null|                null|                                 null|                                 null|                  null|                                   null|                                   null|                    null|                                     null|                               null|                null|                                 null|                                     null|                      null|                                       null|                                null|                 null|                                  null|                                null|                 null|                                  null|                                  null|                   null|                                    null|                             null|              null|                               null|                                      null|                       null|                                        null|                                   2160|      230.45999999999998|                                   955800|                               null|                null|                                 null|                                null|                 null|                                  null|                                     null|                      null|                                       null|                             null|              null|                               null|                                              null|                               null|                                                null|                                        9908|            26946.80000000045|                                      16266983|                                     null|                      null|                                       null|\n",
      "|2011-08-21|                                   null|                    null|                                     null|                                 null|                  null|                                   null|                                 null|                  null|                                   null|                                 null|                  null|                                   null|                                null|                 null|                                  null|                                null|                 null|                                  null|                                          800|                          7.16|                                          58264|                                null|                 null|                                  null|                                        null|                         null|                                          null|                                 null|                  null|                                   null|                               148| 115.71000000000001|                              238576|                                            null|                             null|                                              null|                                 null|                  null|                                   null|                                 270|   115.96000000000002|                                376350|                                  187|                 51.17|                                 225324|                                null|                 null|                                  null|                                   null|                    null|                                     null|                                 null|                  null|                                   null|                                null|                 null|                                  null|                               null|                null|                                 null|                               null|                null|                                 null|                                 null|                  null|                                   null|                                   null|                    null|                                     null|                               null|                null|                                 null|                                     null|                      null|                                       null|                                null|                 null|                                  null|                                null|                 null|                                  null|                                  null|                   null|                                    null|                             null|              null|                               null|                                      null|                       null|                                        null|                                   null|                    null|                                     null|                                  1|  25.599999999999998|                                68388|                                null|                 null|                                  null|                                     null|                      null|                                       null|                             null|              null|                               null|                                              null|                               null|                                                null|                                        6758|           3010.6999999999944|                                      15639107|                                     null|                      null|                                       null|\n",
      "|2011-01-23|                                   null|                    null|                                     null|                                 null|                  null|                                   null|                                 null|                  null|                                   null|                                 null|                  null|                                   null|                                null|                 null|                                  null|                                null|                 null|                                  null|                                         null|                          null|                                           null|                                null|                 null|                                  null|                                        null|                         null|                                          null|                                 null|                  null|                                   null|                              null|               null|                                null|                                            null|                             null|                                              null|                                 null|                  null|                                   null|                                 126|                 60.4|                                152724|                                 null|                  null|                                   null|                                null|                 null|                                  null|                                   null|                    null|                                     null|                                 null|                  null|                                   null|                                null|                 null|                                  null|                               null|                null|                                 null|                               null|                null|                                 null|                                 null|                  null|                                   null|                                   null|                    null|                                     null|                               null|                null|                                 null|                                     null|                      null|                                       null|                                null|                 null|                                  null|                                null|                 null|                                  null|                                  null|                   null|                                    null|                             null|              null|                               null|                                      null|                       null|                                        null|                                   null|                    null|                                     null|                               null|                null|                                 null|                                null|                 null|                                  null|                                     null|                      null|                                       null|                             null|              null|                               null|                                              null|                               null|                                                null|                                        5068|            2551.560000000002|                                      13409810|                                     null|                      null|                                       null|\n",
      "|2011-07-07|                                   null|                    null|                                     null|                                 null|                  null|                                   null|                                 null|                  null|                                   null|                                  143|     96.71000000000004|                                 247257|                                null|                 null|                                  null|                                null|                 null|                                  null|                                         null|                          null|                                           null|                                null|                 null|                                  null|                                        null|                         null|                                          null|                                 null|                  null|                                   null|                              null|               null|                                null|                                            null|                             null|                                              null|                                 null|                  null|                                   null|                                null|                 null|                                  null|                                  550|    175.46000000000006|                                 763866|                                null|                 null|                                  null|                                   null|                    null|                                     null|                                 null|                  null|                                   null|                                null|                 null|                                  null|                               null|                null|                                 null|                               null|                null|                                 null|                                 null|                  null|                                   null|                                   null|                    null|                                     null|                               null|                null|                                 null|                                     null|                      null|                                       null|                                null|                 null|                                  null|                                null|                 null|                                  null|                                  null|                   null|                                    null|                             null|              null|                               null|                                      null|                       null|                                        null|                                   null|                    null|                                     null|                                216|  139.00000000000003|                               338514|                                null|                 null|                                  null|                                     null|                      null|                                       null|                             null|              null|                               null|                                              null|                               null|                                                null|                                       18047|            6223.269999999994|                                      18629372|                                     null|                      null|                                       null|\n",
      "|2010-12-15|                                   null|                    null|                                     null|                                  -48|                  0.42|                                  12865|                                 null|                  null|                                   null|                                 null|                  null|                                   null|                                null|                 null|                                  null|                                null|                 null|                                  null|                                         null|                          null|                                           null|                                null|                 null|                                  null|                                        null|                         null|                                          null|                                 null|                  null|                                   null|                              null|               null|                                null|                                            null|                             null|                                              null|                                 null|                  null|                                   null|                                 134|   117.72000000000001|                                842659|                                  -12|    31.299999999999997|                                  75882|                                null|                 null|                                  null|                                   null|                    null|                                     null|                                 null|                  null|                                   null|                                 -56|                 8.06|                                 25332|                               null|                null|                                 null|                               null|                null|                                 null|                                 null|                  null|                                   null|                                   null|                    null|                                     null|                               null|                null|                                 null|                                     null|                      null|                                       null|                                null|                 null|                                  null|                                null|                 null|                                  null|                                  null|                   null|                                    null|                             null|              null|                               null|                                      null|                       null|                                        null|                                   null|                    null|                                     null|                               null|                null|                                 null|                                null|                 null|                                  null|                                     null|                      null|                                       null|                             null|              null|                               null|                                              null|                               null|                                                null|                                       18211|            4661.809999999966|                                      19690139|                                     null|                      null|                                       null|\n",
      "|2011-11-14|                                   null|                    null|                                     null|                                  342|                139.25|                                 408342|                                 null|                  null|                                   null|                                 null|                  null|                                   null|                                null|                 null|                                  null|                                null|                 null|                                  null|                                         null|                          null|                                           null|                                null|                 null|                                  null|                                        null|                         null|                                          null|                                 null|                  null|                                   null|                               206|             114.19|                              342953|                                            null|                             null|                                              null|                                  150|                 88.28|                                 186420|                                 894|               235.94|                               1008211|                                  212|                 119.3|                                 315232|                                null|                 null|                                  null|                                      0|                   652.2|                                     null|                                 null|                  null|                                   null|                                null|                 null|                                  null|                                -22|               51.75|                               113334|                               null|                null|                                 null|                                 null|                  null|                                   null|                                   null|                    null|                                     null|                               null|                null|                                 null|                                     null|                      null|                                       null|                                null|                 null|                                  null|                                null|                 null|                                  null|                                   225|      83.02000000000001|                                  280759|                             null|              null|                               null|                                      null|                       null|                                        null|                                   null|                    null|                                     null|                               null|                null|                                 null|                                1060|                18.67|                                191444|                                     null|                      null|                                       null|                             null|              null|                               null|                                              null|                               null|                                                null|                                       42892|           13759.939999999991|                                      42491897|                                     null|                      null|                                       null|\n",
      "|2010-12-01|                                    107|                    73.9|                                   174034|                                 null|                  null|                                   null|                                 null|                  null|                                   null|                                 null|                  null|                                   null|                                null|                 null|                                  null|                                null|                 null|                                  null|                                         null|                          null|                                           null|                                null|                 null|                                  null|                                        null|                         null|                                          null|                                 null|                  null|                                   null|                               243| 133.64000000000001|                              313131|                                            null|                             null|                                              null|                                 null|                  null|                                   null|                                 449|                55.29|                                251660|                                  117|     93.82000000000002|                                 364538|                                null|                 null|                                  null|                                   null|                    null|                                     null|                                 null|                  null|                                   null|                                null|                 null|                                  null|                               null|                null|                                 null|                               null|                null|                                 null|                                 null|                  null|                                   null|                                   null|                    null|                                     null|                               null|                null|                                 null|                                       97|                     16.85|                                      25582|                                1852|               102.67|                                907609|                                null|                 null|                                  null|                                  null|                   null|                                    null|                             null|              null|                               null|                                      null|                       null|                                        null|                                   null|                    null|                                     null|                               null|                null|                                 null|                                null|                 null|                                  null|                                     null|                      null|                                       null|                             null|              null|                               null|                                              null|                               null|                                                null|                                       23949|           12428.080000000024|                                      28785059|                                     null|                      null|                                       null|\n",
      "|2011-04-06|                                   null|                    null|                                     null|                                 null|                  null|                                   null|                                 null|                  null|                                   null|                                 null|                  null|                                   null|                                null|                 null|                                  null|                                null|                 null|                                  null|                                         null|                          null|                                           null|                                null|                 null|                                  null|                                        null|                         null|                                          null|                                 null|                  null|                                   null|                               655| 177.46999999999997|                              969215|                                            null|                             null|                                              null|                                 null|                  null|                                   null|                                null|                 null|                                  null|                                  -14|                  0.39|                                  12481|                                null|                 null|                                  null|                                   null|                    null|                                     null|                                 null|                  null|                                   null|                                null|                 null|                                  null|                               null|                null|                                 null|                               null|                null|                                 null|                                 null|                  null|                                   null|                                   null|                    null|                                     null|                               null|                null|                                 null|                                     null|                      null|                                       null|                                null|                 null|                                  null|                                null|                 null|                                  null|                                  null|                   null|                                    null|                             null|              null|                               null|                                      null|                       null|                                        null|                                   null|                    null|                                     null|                               null|                null|                                 null|                                null|                 null|                                  null|                                     null|                      null|                                       null|                             null|              null|                               null|                                              null|                               null|                                                null|                                        7935|           3592.3999999999996|                                      11586082|                                     null|                      null|                                       null|\n",
      "|2011-06-21|                                   null|                    null|                                     null|                                 null|                  null|                                   null|                                 null|                  null|                                   null|                                 null|                  null|                                   null|                                null|                 null|                                  null|                                null|                 null|                                  null|                                         null|                          null|                                           null|                                null|                 null|                                  null|                                        null|                         null|                                          null|                                 null|                  null|                                   null|                              -516| 178.92000000000004|                               44733|                                            null|                             null|                                              null|                                 null|                  null|                                   null|                                 351|                40.86|                                150996|                                  272|     58.00999999999999|                                 299376|                                null|                 null|                                  null|                                   null|                    null|                                     null|                                 null|                  null|                                   null|                                null|                 null|                                  null|                               null|                null|                                 null|                               null|                null|                                 null|                                 null|                  null|                                   null|                                   null|                    null|                                     null|                               null|                null|                                 null|                                      353|        125.21000000000001|                                     497601|                                 582|    473.3599999999997|                               1119960|                                null|                 null|                                  null|                                  null|                   null|                                    null|                             null|              null|                               null|                                      null|                       null|                                        null|                                   null|                    null|                                     null|                               null|                null|                                 null|                                null|                 null|                                  null|                                     null|                      null|                                       null|                             null|              null|                               null|                                              null|                               null|                                                null|                                        6804|             5835.83000000001|                                      13209132|                                     null|                      null|                                       null|\n",
      "|2011-02-21|                                   null|                    null|                                     null|                                 null|                  null|                                   null|                                 null|                  null|                                   null|                                  194|     35.28999999999999|                                 186345|                                null|                 null|                                  null|                                null|                 null|                                  null|                                         null|                          null|                                           null|                                 173|                698.0|                                284395|                                        null|                         null|                                          null|                                 null|                  null|                                   null|                               472| 159.76999999999998|                                null|                                            null|                             null|                                              null|                                 null|                  null|                                   null|                                 334|               151.43|                                519515|                                  789|                143.87|                                 440421|                                null|                 null|                                  null|                                   null|                    null|                                     null|                                 null|                  null|                                   null|                                null|                 null|                                  null|                               null|                null|                                 null|                               null|                null|                                 null|                                 null|                  null|                                   null|                                   null|                    null|                                     null|                               null|                null|                                 null|                                    12208|        273.65999999999997|                                    1742874|                                null|                 null|                                  null|                                null|                 null|                                  null|                                   454|                 160.83|                                  548938|                             null|              null|                               null|                                      null|                       null|                                        null|                                   null|                    null|                                     null|                               null|                null|                                 null|                                null|                 null|                                  null|                                     null|                      null|                                       null|                             null|              null|                               null|                                              null|                               null|                                                null|                                        6832|           15973.819999999972|                                      11020864|                                     null|                      null|                                       null|\n",
      "|2011-09-04|                                   null|                    null|                                     null|                                 null|                  null|                                   null|                                 null|                  null|                                   null|                                 null|                  null|                                   null|                                null|                 null|                                  null|                                null|                 null|                                  null|                                         null|                          null|                                           null|                                null|                 null|                                  null|                                        null|                         null|                                          null|                                 null|                  null|                                   null|                              1272|  7.510000000000001|                               84936|                                            null|                             null|                                              null|                                 null|                  null|                                   null|                                 509|   151.17000000000002|                                628350|                                 1608|     349.8099999999997|                                1754744|                                null|                 null|                                  null|                                   null|                    null|                                     null|                                 null|                  null|                                   null|                                null|                 null|                                  null|                               null|                null|                                 null|                               null|                null|                                 null|                                 null|                  null|                                   null|                                   null|                    null|                                     null|                               null|                null|                                 null|                                     null|                      null|                                       null|                                null|                 null|                                  null|                                null|                 null|                                  null|                                  null|                   null|                                    null|                             null|              null|                               null|                                      null|                       null|                                        null|                                   null|                    null|                                     null|                               null|                null|                                 null|                                null|                 null|                                  null|                                     null|                      null|                                       null|                             null|              null|                               null|                                              null|                               null|                                                null|                                        7552|            3179.959999999995|                                      17210734|                                     null|                      null|                                       null|\n",
      "|2011-08-30|                                   null|                    null|                                     null|                                 null|                  null|                                   null|                                 null|                  null|                                   null|                                 null|                  null|                                   null|                                null|                 null|                                  null|                                null|                 null|                                  null|                                         null|                          null|                                           null|                                null|                 null|                                  null|                                        null|                         null|                                          null|                                 null|                  null|                                   null|                               -87|              23.08|                              119288|                                            null|                             null|                                              null|                                 null|                  null|                                   null|                                null|                 null|                                  null|                                  133|    126.23000000000003|                                 266868|                                null|                 null|                                  null|                                   null|                    null|                                     null|                                 null|                  null|                                   null|                                null|                 null|                                  null|                               null|                null|                                 null|                               null|                null|                                 null|                                 null|                  null|                                   null|                                   null|                    null|                                     null|                                 -5|  11.399999999999999|                                35656|                                     null|                      null|                                       null|                                null|                 null|                                  null|                                  49|                41.79|                                 25628|                                  null|                   null|                                    null|                             null|              null|                               null|                                      null|                       null|                                        null|                                   null|                    null|                                     null|                               null|                null|                                 null|                                null|                 null|                                  null|                                     null|                      null|                                       null|                             null|              null|                               null|                                              null|                               null|                                                null|                                       10092|           15480.069999999736|                                       5753925|                                     null|                      null|                                       null|\n",
      "|2011-07-06|                                   null|                    null|                                     null|                                 null|                  null|                                   null|                                 null|                  null|                                   null|                                  522|                 90.93|                                 409431|                                null|                 null|                                  null|                                null|                 null|                                  null|                                         null|                          null|                                           null|                                null|                 null|                                  null|                                        null|                         null|                                          null|                                 null|                  null|                                   null|                              null|               null|                                null|                                            null|                             null|                                              null|                                 null|                  null|                                   null|                                 597|    153.8400000000001|                                762000|                                 null|                  null|                                   null|                                null|                 null|                                  null|                                   null|                    null|                                     null|                                 null|                  null|                                   null|                                null|                 null|                                  null|                               null|                null|                                 null|                               null|                null|                                 null|                                 null|                  null|                                   null|                                   null|                    null|                                     null|                               null|                null|                                 null|                                     null|                      null|                                       null|                                null|                 null|                                  null|                                null|                 null|                                  null|                                  null|                   null|                                    null|                             null|              null|                               null|                                      null|                       null|                                        null|                                   null|                    null|                                     null|                                167|                42.5|                               161905|                                3242|                38.09|                                348080|                                     null|                      null|                                       null|                             null|              null|                               null|                                              null|                               null|                                                null|                                       14747|            4832.230000000002|                                      17785773|                                     null|                      null|                                       null|\n",
      "|2011-04-27|                                   null|                    null|                                     null|                                 null|                  null|                                   null|                                 null|                  null|                                   null|                                 null|                  null|                                   null|                                null|                 null|                                  null|                                null|                 null|                                  null|                                         null|                          null|                                           null|                                null|                 null|                                  null|                                        null|                         null|                                          null|                                 null|                  null|                                   null|                               163|  58.50000000000001|                               74555|                                            null|                             null|                                              null|                                 null|                  null|                                   null|                                  -2|                 5.95|                                 12681|                                  468|     92.29999999999997|                                 429114|                                null|                 null|                                  null|                                   null|                    null|                                     null|                                 null|                  null|                                   null|                                null|                 null|                                  null|                               null|                null|                                 null|                               null|                null|                                 null|                                 null|                  null|                                   null|                                   null|                    null|                                     null|                               null|                null|                                 null|                                     null|                      null|                                       null|                                null|                 null|                                  null|                                null|                 null|                                  null|                                  null|                   null|                                    null|                             null|              null|                               null|                                      null|                       null|                                        null|                                   null|                    null|                                     null|                               null|                null|                                 null|                                 109|                71.35|                                149796|                                     null|                      null|                                       null|                             null|              null|                               null|                                              null|                               null|                                                null|                                       17098|           4042.9700000000003|                                      15835029|                                     null|                      null|                                       null|\n",
      "|2011-10-23|                                   null|                    null|                                     null|                                 null|                  null|                                   null|                                 null|                  null|                                   null|                                 null|                  null|                                   null|                                null|                 null|                                  null|                                null|                 null|                                  null|                                         null|                          null|                                           null|                                null|                 null|                                  null|                                        null|                         null|                                          null|                                 null|                  null|                                   null|                              null|               null|                                null|                                            null|                             null|                                              null|                                 null|                  null|                                   null|                                null|                 null|                                  null|                                   -2|                  15.7|                                  25144|                                null|                 null|                                  null|                                   null|                    null|                                     null|                                 null|                  null|                                   null|                                null|                 null|                                  null|                               null|                null|                                 null|                               null|                null|                                 null|                                 null|                  null|                                   null|                                   null|                    null|                                     null|                               null|                null|                                 null|                                     null|                      null|                                       null|                                null|                 null|                                  null|                                null|                 null|                                  null|                                  null|                   null|                                    null|                             null|              null|                               null|                                      null|                       null|                                        null|                                   null|                    null|                                     null|                               null|                null|                                 null|                                null|                 null|                                  null|                                     null|                      null|                                       null|                             null|              null|                               null|                                              null|                               null|                                                null|                                        7070|            4737.489999999972|                                      27129910|                                     null|                      null|                                       null|\n",
      "|2011-08-05|                                   null|                    null|                                     null|                                 null|                  null|                                   null|                                 null|                  null|                                   null|                                 null|                  null|                                   null|                                null|                 null|                                  null|                                null|                 null|                                  null|                                         null|                          null|                                           null|                                null|                 null|                                  null|                                        null|                         null|                                          null|                                 null|                  null|                                   null|                               744| 511.63999999999953|                             2080932|                                            null|                             null|                                              null|                                 null|                  null|                                   null|                                 486|               101.24|                                439892|                                  553|                159.13|                                 704064|                                null|                 null|                                  null|                                   null|                    null|                                     null|                                 null|                  null|                                   null|                                null|                 null|                                  null|                                457|  263.57999999999987|                               680940|                               null|                null|                                 null|                                 null|                  null|                                   null|                                   null|                    null|                                     null|                               null|                null|                                 null|                                     null|                      null|                                       null|                                null|                 null|                                  null|                                null|                 null|                                  null|                                  null|                   null|                                    null|                             null|              null|                               null|                                      null|                       null|                                        null|                                   null|                    null|                                     null|                               null|                null|                                 null|                                null|                 null|                                  null|                                     null|                      null|                                       null|                             null|              null|                               null|                                              null|                               null|                                                null|                                        9960|            3631.150000000011|                                      15518900|                                     null|                      null|                                       null|\n",
      "+----------+---------------------------------------+------------------------+-----------------------------------------+-------------------------------------+----------------------+---------------------------------------+-------------------------------------+----------------------+---------------------------------------+-------------------------------------+----------------------+---------------------------------------+------------------------------------+---------------------+--------------------------------------+------------------------------------+---------------------+--------------------------------------+---------------------------------------------+------------------------------+-----------------------------------------------+------------------------------------+---------------------+--------------------------------------+--------------------------------------------+-----------------------------+----------------------------------------------+-------------------------------------+----------------------+---------------------------------------+----------------------------------+-------------------+------------------------------------+------------------------------------------------+---------------------------------+--------------------------------------------------+-------------------------------------+----------------------+---------------------------------------+------------------------------------+---------------------+--------------------------------------+-------------------------------------+----------------------+---------------------------------------+------------------------------------+---------------------+--------------------------------------+---------------------------------------+------------------------+-----------------------------------------+-------------------------------------+----------------------+---------------------------------------+------------------------------------+---------------------+--------------------------------------+-----------------------------------+--------------------+-------------------------------------+-----------------------------------+--------------------+-------------------------------------+-------------------------------------+----------------------+---------------------------------------+---------------------------------------+------------------------+-----------------------------------------+-----------------------------------+--------------------+-------------------------------------+-----------------------------------------+--------------------------+-------------------------------------------+------------------------------------+---------------------+--------------------------------------+------------------------------------+---------------------+--------------------------------------+--------------------------------------+-----------------------+----------------------------------------+---------------------------------+------------------+-----------------------------------+------------------------------------------+---------------------------+--------------------------------------------+---------------------------------------+------------------------+-----------------------------------------+-----------------------------------+--------------------+-------------------------------------+------------------------------------+---------------------+--------------------------------------+-----------------------------------------+--------------------------+-------------------------------------------+---------------------------------+------------------+-----------------------------------+--------------------------------------------------+-----------------------------------+----------------------------------------------------+--------------------------------------------+-----------------------------+----------------------------------------------+-----------------------------------------+--------------------------+-------------------------------------------+\n",
      "only showing top 20 rows\n",
      "\n"
     ]
    }
   ],
   "source": [
    "pivoted.show()"
   ]
  },
  {
   "cell_type": "markdown",
   "metadata": {},
   "source": [
    "### Joins"
   ]
  },
  {
   "cell_type": "code",
   "execution_count": 2,
   "metadata": {},
   "outputs": [],
   "source": [
    "person = spark.createDataFrame([(0, 'Bill Chambers', 0 , [100]),\n",
    "                                (1, 'Matei Zaharia', 1, [500, 250, 100]),\n",
    "                                (2, 'Michael Armbrust', 1, [250, 100])]).toDF('id', 'name', 'graduate_program', 'spark_status')\n",
    "\n",
    "graduateProgram = spark.createDataFrame([(0, 'Masters', 'School of Information' , 'UC Berkley'),\n",
    "                                         (2, 'Masters', 'EECS' , 'UC Berkley'),\n",
    "                                         (1, 'Ph.D.', 'EECS' , 'UC Berkley')\n",
    "                                         ]).toDF('id', 'degree', 'department', 'school')\n",
    "\n",
    "sparkStatus = spark.createDataFrame([(500, 'Vice President'),\n",
    "                                         (250, 'PMC Member'),\n",
    "                                         (100, 'Contributor')\n",
    "                                         ]).toDF('id', 'status')\n"
   ]
  },
  {
   "cell_type": "code",
   "execution_count": 3,
   "metadata": {},
   "outputs": [],
   "source": [
    "join_expression = person['graduate_program'] == graduateProgram['id']"
   ]
  },
  {
   "cell_type": "code",
   "execution_count": 4,
   "metadata": {},
   "outputs": [],
   "source": [
    "wrong_join_expression = person['graduate_program'] == graduateProgram['degree']"
   ]
  },
  {
   "cell_type": "code",
   "execution_count": 5,
   "metadata": {},
   "outputs": [
    {
     "name": "stdout",
     "output_type": "stream",
     "text": [
      "+---+----------------+----------------+---------------+---+-------+--------------------+----------+\n",
      "| id|            name|graduate_program|   spark_status| id| degree|          department|    school|\n",
      "+---+----------------+----------------+---------------+---+-------+--------------------+----------+\n",
      "|  0|   Bill Chambers|               0|          [100]|  0|Masters|School of Informa...|UC Berkley|\n",
      "|  1|   Matei Zaharia|               1|[500, 250, 100]|  1|  Ph.D.|                EECS|UC Berkley|\n",
      "|  2|Michael Armbrust|               1|     [250, 100]|  1|  Ph.D.|                EECS|UC Berkley|\n",
      "+---+----------------+----------------+---------------+---+-------+--------------------+----------+\n",
      "\n"
     ]
    }
   ],
   "source": [
    "person.join(graduateProgram, join_expression).show()  # default is inner type"
   ]
  },
  {
   "cell_type": "code",
   "execution_count": 6,
   "metadata": {},
   "outputs": [
    {
     "name": "stdout",
     "output_type": "stream",
     "text": [
      "+---+----------------+----------------+---------------+---+-------+--------------------+----------+\n",
      "| id|            name|graduate_program|   spark_status| id| degree|          department|    school|\n",
      "+---+----------------+----------------+---------------+---+-------+--------------------+----------+\n",
      "|  0|   Bill Chambers|               0|          [100]|  0|Masters|School of Informa...|UC Berkley|\n",
      "|  1|   Matei Zaharia|               1|[500, 250, 100]|  1|  Ph.D.|                EECS|UC Berkley|\n",
      "|  2|Michael Armbrust|               1|     [250, 100]|  1|  Ph.D.|                EECS|UC Berkley|\n",
      "+---+----------------+----------------+---------------+---+-------+--------------------+----------+\n",
      "\n"
     ]
    }
   ],
   "source": [
    "person.join(graduateProgram, join_expression, 'inner').show() # common in between left & right"
   ]
  },
  {
   "cell_type": "code",
   "execution_count": 7,
   "metadata": {},
   "outputs": [
    {
     "name": "stdout",
     "output_type": "stream",
     "text": [
      "+----+----------------+----------------+---------------+---+-------+--------------------+----------+\n",
      "|  id|            name|graduate_program|   spark_status| id| degree|          department|    school|\n",
      "+----+----------------+----------------+---------------+---+-------+--------------------+----------+\n",
      "|   0|   Bill Chambers|               0|          [100]|  0|Masters|School of Informa...|UC Berkley|\n",
      "|   1|   Matei Zaharia|               1|[500, 250, 100]|  1|  Ph.D.|                EECS|UC Berkley|\n",
      "|   2|Michael Armbrust|               1|     [250, 100]|  1|  Ph.D.|                EECS|UC Berkley|\n",
      "|null|            null|            null|           null|  2|Masters|                EECS|UC Berkley|\n",
      "+----+----------------+----------------+---------------+---+-------+--------------------+----------+\n",
      "\n"
     ]
    }
   ],
   "source": [
    "person.join(graduateProgram, join_expression, 'outer').show()  # all left + right, if no left or right matches then add null values"
   ]
  },
  {
   "cell_type": "code",
   "execution_count": 8,
   "metadata": {},
   "outputs": [
    {
     "name": "stdout",
     "output_type": "stream",
     "text": [
      "+---+----------------+----------------+---------------+---+-------+--------------------+----------+\n",
      "| id|            name|graduate_program|   spark_status| id| degree|          department|    school|\n",
      "+---+----------------+----------------+---------------+---+-------+--------------------+----------+\n",
      "|  0|   Bill Chambers|               0|          [100]|  0|Masters|School of Informa...|UC Berkley|\n",
      "|  1|   Matei Zaharia|               1|[500, 250, 100]|  1|  Ph.D.|                EECS|UC Berkley|\n",
      "|  2|Michael Armbrust|               1|     [250, 100]|  1|  Ph.D.|                EECS|UC Berkley|\n",
      "+---+----------------+----------------+---------------+---+-------+--------------------+----------+\n",
      "\n"
     ]
    }
   ],
   "source": [
    "person.join(graduateProgram, join_expression, 'left_outer').show()  # all left, if no right matches then add null values"
   ]
  },
  {
   "cell_type": "code",
   "execution_count": 9,
   "metadata": {},
   "outputs": [
    {
     "name": "stdout",
     "output_type": "stream",
     "text": [
      "+----+----------------+----------------+---------------+---+-------+--------------------+----------+\n",
      "|  id|            name|graduate_program|   spark_status| id| degree|          department|    school|\n",
      "+----+----------------+----------------+---------------+---+-------+--------------------+----------+\n",
      "|   0|   Bill Chambers|               0|          [100]|  0|Masters|School of Informa...|UC Berkley|\n",
      "|   1|   Matei Zaharia|               1|[500, 250, 100]|  1|  Ph.D.|                EECS|UC Berkley|\n",
      "|   2|Michael Armbrust|               1|     [250, 100]|  1|  Ph.D.|                EECS|UC Berkley|\n",
      "|null|            null|            null|           null|  2|Masters|                EECS|UC Berkley|\n",
      "+----+----------------+----------------+---------------+---+-------+--------------------+----------+\n",
      "\n"
     ]
    }
   ],
   "source": [
    "person.join(graduateProgram, join_expression, 'right_outer').show()  # all right, if no left matches then add null values"
   ]
  },
  {
   "cell_type": "code",
   "execution_count": 10,
   "metadata": {},
   "outputs": [
    {
     "name": "stdout",
     "output_type": "stream",
     "text": [
      "+---+----------------+----------------+---------------+\n",
      "| id|            name|graduate_program|   spark_status|\n",
      "+---+----------------+----------------+---------------+\n",
      "|  0|   Bill Chambers|               0|          [100]|\n",
      "|  1|   Matei Zaharia|               1|[500, 250, 100]|\n",
      "|  2|Michael Armbrust|               1|     [250, 100]|\n",
      "+---+----------------+----------------+---------------+\n",
      "\n"
     ]
    }
   ],
   "source": [
    "person.join(graduateProgram, join_expression, 'left_semi').show()  # look like a filter, if keys matches on right then add rows of left dataframe only"
   ]
  },
  {
   "cell_type": "code",
   "execution_count": 11,
   "metadata": {},
   "outputs": [
    {
     "name": "stdout",
     "output_type": "stream",
     "text": [
      "+---+----+----------------+------------+\n",
      "| id|name|graduate_program|spark_status|\n",
      "+---+----+----------------+------------+\n",
      "+---+----+----------------+------------+\n",
      "\n"
     ]
    }
   ],
   "source": [
    "person.join(graduateProgram, join_expression, 'left_anti').show()  # all left, if no right matches found then add only left rows."
   ]
  },
  {
   "cell_type": "code",
   "execution_count": 12,
   "metadata": {},
   "outputs": [],
   "source": [
    "# natural joins (left, right, outer) keep the data which matches on both the side. "
   ]
  },
  {
   "cell_type": "code",
   "execution_count": 13,
   "metadata": {},
   "outputs": [
    {
     "name": "stdout",
     "output_type": "stream",
     "text": [
      "+---+----------------+----------------+---------------+---+-------+--------------------+----------+\n",
      "| id|            name|graduate_program|   spark_status| id| degree|          department|    school|\n",
      "+---+----------------+----------------+---------------+---+-------+--------------------+----------+\n",
      "|  0|   Bill Chambers|               0|          [100]|  0|Masters|School of Informa...|UC Berkley|\n",
      "|  1|   Matei Zaharia|               1|[500, 250, 100]|  1|  Ph.D.|                EECS|UC Berkley|\n",
      "|  2|Michael Armbrust|               1|     [250, 100]|  1|  Ph.D.|                EECS|UC Berkley|\n",
      "+---+----------------+----------------+---------------+---+-------+--------------------+----------+\n",
      "\n",
      "+---+----------------+----------------+---------------+---+-------+--------------------+----------+\n",
      "| id|            name|graduate_program|   spark_status| id| degree|          department|    school|\n",
      "+---+----------------+----------------+---------------+---+-------+--------------------+----------+\n",
      "|  0|   Bill Chambers|               0|          [100]|  0|Masters|School of Informa...|UC Berkley|\n",
      "|  0|   Bill Chambers|               0|          [100]|  2|Masters|                EECS|UC Berkley|\n",
      "|  0|   Bill Chambers|               0|          [100]|  1|  Ph.D.|                EECS|UC Berkley|\n",
      "|  1|   Matei Zaharia|               1|[500, 250, 100]|  0|Masters|School of Informa...|UC Berkley|\n",
      "|  1|   Matei Zaharia|               1|[500, 250, 100]|  2|Masters|                EECS|UC Berkley|\n",
      "|  1|   Matei Zaharia|               1|[500, 250, 100]|  1|  Ph.D.|                EECS|UC Berkley|\n",
      "|  2|Michael Armbrust|               1|     [250, 100]|  0|Masters|School of Informa...|UC Berkley|\n",
      "|  2|Michael Armbrust|               1|     [250, 100]|  2|Masters|                EECS|UC Berkley|\n",
      "|  2|Michael Armbrust|               1|     [250, 100]|  1|  Ph.D.|                EECS|UC Berkley|\n",
      "+---+----------------+----------------+---------------+---+-------+--------------------+----------+\n",
      "\n"
     ]
    }
   ],
   "source": [
    "person.join(graduateProgram, join_expression, 'cross').show()  # every single row of left joined with every single row of right\n",
    "person.crossJoin(graduateProgram).show()"
   ]
  },
  {
   "cell_type": "code",
   "execution_count": null,
   "metadata": {},
   "outputs": [],
   "source": []
  },
  {
   "cell_type": "code",
   "execution_count": null,
   "metadata": {},
   "outputs": [],
   "source": []
  },
  {
   "cell_type": "code",
   "execution_count": null,
   "metadata": {},
   "outputs": [],
   "source": []
  },
  {
   "cell_type": "code",
   "execution_count": null,
   "metadata": {},
   "outputs": [],
   "source": []
  },
  {
   "cell_type": "code",
   "execution_count": null,
   "metadata": {},
   "outputs": [],
   "source": []
  },
  {
   "cell_type": "code",
   "execution_count": null,
   "metadata": {},
   "outputs": [],
   "source": []
  },
  {
   "cell_type": "code",
   "execution_count": null,
   "metadata": {},
   "outputs": [],
   "source": []
  },
  {
   "cell_type": "code",
   "execution_count": null,
   "metadata": {},
   "outputs": [],
   "source": []
  },
  {
   "cell_type": "code",
   "execution_count": null,
   "metadata": {},
   "outputs": [],
   "source": []
  },
  {
   "cell_type": "code",
   "execution_count": null,
   "metadata": {},
   "outputs": [],
   "source": []
  },
  {
   "cell_type": "code",
   "execution_count": null,
   "metadata": {},
   "outputs": [],
   "source": []
  },
  {
   "cell_type": "code",
   "execution_count": null,
   "metadata": {},
   "outputs": [],
   "source": []
  },
  {
   "cell_type": "code",
   "execution_count": null,
   "metadata": {},
   "outputs": [],
   "source": []
  },
  {
   "cell_type": "code",
   "execution_count": null,
   "metadata": {},
   "outputs": [],
   "source": []
  },
  {
   "cell_type": "code",
   "execution_count": null,
   "metadata": {},
   "outputs": [],
   "source": []
  },
  {
   "cell_type": "code",
   "execution_count": null,
   "metadata": {},
   "outputs": [],
   "source": []
  },
  {
   "cell_type": "code",
   "execution_count": null,
   "metadata": {},
   "outputs": [],
   "source": []
  },
  {
   "cell_type": "code",
   "execution_count": null,
   "metadata": {},
   "outputs": [],
   "source": []
  },
  {
   "cell_type": "code",
   "execution_count": null,
   "metadata": {},
   "outputs": [],
   "source": []
  },
  {
   "cell_type": "code",
   "execution_count": null,
   "metadata": {},
   "outputs": [],
   "source": []
  },
  {
   "cell_type": "code",
   "execution_count": null,
   "metadata": {},
   "outputs": [],
   "source": []
  },
  {
   "cell_type": "code",
   "execution_count": null,
   "metadata": {},
   "outputs": [],
   "source": []
  },
  {
   "cell_type": "code",
   "execution_count": null,
   "metadata": {},
   "outputs": [],
   "source": []
  },
  {
   "cell_type": "code",
   "execution_count": null,
   "metadata": {},
   "outputs": [],
   "source": []
  },
  {
   "cell_type": "code",
   "execution_count": null,
   "metadata": {},
   "outputs": [],
   "source": []
  },
  {
   "cell_type": "code",
   "execution_count": null,
   "metadata": {},
   "outputs": [],
   "source": []
  },
  {
   "cell_type": "code",
   "execution_count": null,
   "metadata": {},
   "outputs": [],
   "source": []
  },
  {
   "cell_type": "code",
   "execution_count": null,
   "metadata": {},
   "outputs": [],
   "source": []
  },
  {
   "cell_type": "code",
   "execution_count": null,
   "metadata": {},
   "outputs": [],
   "source": []
  },
  {
   "cell_type": "code",
   "execution_count": null,
   "metadata": {},
   "outputs": [],
   "source": []
  },
  {
   "cell_type": "code",
   "execution_count": null,
   "metadata": {},
   "outputs": [],
   "source": []
  },
  {
   "cell_type": "code",
   "execution_count": null,
   "metadata": {},
   "outputs": [],
   "source": []
  },
  {
   "cell_type": "code",
   "execution_count": null,
   "metadata": {},
   "outputs": [],
   "source": []
  },
  {
   "cell_type": "code",
   "execution_count": null,
   "metadata": {},
   "outputs": [],
   "source": []
  },
  {
   "cell_type": "code",
   "execution_count": null,
   "metadata": {},
   "outputs": [],
   "source": []
  },
  {
   "cell_type": "code",
   "execution_count": null,
   "metadata": {},
   "outputs": [],
   "source": []
  },
  {
   "cell_type": "code",
   "execution_count": null,
   "metadata": {},
   "outputs": [],
   "source": []
  },
  {
   "cell_type": "code",
   "execution_count": null,
   "metadata": {},
   "outputs": [],
   "source": []
  },
  {
   "cell_type": "code",
   "execution_count": null,
   "metadata": {},
   "outputs": [],
   "source": []
  },
  {
   "cell_type": "code",
   "execution_count": null,
   "metadata": {},
   "outputs": [],
   "source": []
  },
  {
   "cell_type": "code",
   "execution_count": null,
   "metadata": {},
   "outputs": [],
   "source": []
  },
  {
   "cell_type": "code",
   "execution_count": null,
   "metadata": {},
   "outputs": [],
   "source": []
  },
  {
   "cell_type": "code",
   "execution_count": null,
   "metadata": {},
   "outputs": [],
   "source": []
  },
  {
   "cell_type": "code",
   "execution_count": null,
   "metadata": {},
   "outputs": [],
   "source": []
  },
  {
   "cell_type": "code",
   "execution_count": null,
   "metadata": {},
   "outputs": [],
   "source": []
  },
  {
   "cell_type": "code",
   "execution_count": null,
   "metadata": {},
   "outputs": [],
   "source": []
  },
  {
   "cell_type": "code",
   "execution_count": null,
   "metadata": {},
   "outputs": [],
   "source": []
  },
  {
   "cell_type": "code",
   "execution_count": null,
   "metadata": {},
   "outputs": [],
   "source": []
  },
  {
   "cell_type": "code",
   "execution_count": null,
   "metadata": {},
   "outputs": [],
   "source": []
  },
  {
   "cell_type": "code",
   "execution_count": null,
   "metadata": {},
   "outputs": [],
   "source": []
  },
  {
   "cell_type": "code",
   "execution_count": null,
   "metadata": {},
   "outputs": [],
   "source": []
  },
  {
   "cell_type": "code",
   "execution_count": null,
   "metadata": {},
   "outputs": [],
   "source": []
  },
  {
   "cell_type": "code",
   "execution_count": null,
   "metadata": {},
   "outputs": [],
   "source": []
  },
  {
   "cell_type": "code",
   "execution_count": null,
   "metadata": {},
   "outputs": [],
   "source": []
  },
  {
   "cell_type": "code",
   "execution_count": null,
   "metadata": {},
   "outputs": [],
   "source": []
  },
  {
   "cell_type": "code",
   "execution_count": null,
   "metadata": {},
   "outputs": [],
   "source": []
  },
  {
   "cell_type": "code",
   "execution_count": null,
   "metadata": {},
   "outputs": [],
   "source": []
  },
  {
   "cell_type": "code",
   "execution_count": null,
   "metadata": {},
   "outputs": [],
   "source": []
  },
  {
   "cell_type": "code",
   "execution_count": null,
   "metadata": {},
   "outputs": [],
   "source": []
  },
  {
   "cell_type": "code",
   "execution_count": null,
   "metadata": {},
   "outputs": [],
   "source": []
  },
  {
   "cell_type": "code",
   "execution_count": null,
   "metadata": {},
   "outputs": [],
   "source": []
  },
  {
   "cell_type": "code",
   "execution_count": null,
   "metadata": {},
   "outputs": [],
   "source": []
  },
  {
   "cell_type": "code",
   "execution_count": null,
   "metadata": {},
   "outputs": [],
   "source": []
  },
  {
   "cell_type": "code",
   "execution_count": null,
   "metadata": {},
   "outputs": [],
   "source": []
  },
  {
   "cell_type": "code",
   "execution_count": null,
   "metadata": {},
   "outputs": [],
   "source": []
  },
  {
   "cell_type": "code",
   "execution_count": null,
   "metadata": {},
   "outputs": [],
   "source": []
  },
  {
   "cell_type": "code",
   "execution_count": null,
   "metadata": {},
   "outputs": [],
   "source": []
  },
  {
   "cell_type": "code",
   "execution_count": null,
   "metadata": {},
   "outputs": [],
   "source": []
  },
  {
   "cell_type": "code",
   "execution_count": null,
   "metadata": {},
   "outputs": [],
   "source": []
  },
  {
   "cell_type": "code",
   "execution_count": null,
   "metadata": {},
   "outputs": [],
   "source": []
  },
  {
   "cell_type": "code",
   "execution_count": null,
   "metadata": {},
   "outputs": [],
   "source": []
  },
  {
   "cell_type": "code",
   "execution_count": null,
   "metadata": {},
   "outputs": [],
   "source": []
  },
  {
   "cell_type": "code",
   "execution_count": null,
   "metadata": {},
   "outputs": [],
   "source": []
  },
  {
   "cell_type": "code",
   "execution_count": null,
   "metadata": {},
   "outputs": [],
   "source": []
  },
  {
   "cell_type": "code",
   "execution_count": null,
   "metadata": {},
   "outputs": [],
   "source": []
  },
  {
   "cell_type": "code",
   "execution_count": null,
   "metadata": {},
   "outputs": [],
   "source": []
  },
  {
   "cell_type": "code",
   "execution_count": null,
   "metadata": {},
   "outputs": [],
   "source": []
  },
  {
   "cell_type": "code",
   "execution_count": null,
   "metadata": {},
   "outputs": [],
   "source": []
  },
  {
   "cell_type": "code",
   "execution_count": null,
   "metadata": {},
   "outputs": [],
   "source": []
  },
  {
   "cell_type": "code",
   "execution_count": null,
   "metadata": {},
   "outputs": [],
   "source": []
  },
  {
   "cell_type": "code",
   "execution_count": null,
   "metadata": {},
   "outputs": [],
   "source": []
  },
  {
   "cell_type": "code",
   "execution_count": null,
   "metadata": {},
   "outputs": [],
   "source": []
  },
  {
   "cell_type": "code",
   "execution_count": null,
   "metadata": {},
   "outputs": [],
   "source": []
  },
  {
   "cell_type": "code",
   "execution_count": null,
   "metadata": {},
   "outputs": [],
   "source": []
  },
  {
   "cell_type": "code",
   "execution_count": null,
   "metadata": {},
   "outputs": [],
   "source": []
  },
  {
   "cell_type": "code",
   "execution_count": null,
   "metadata": {},
   "outputs": [],
   "source": []
  },
  {
   "cell_type": "code",
   "execution_count": null,
   "metadata": {},
   "outputs": [],
   "source": []
  },
  {
   "cell_type": "code",
   "execution_count": null,
   "metadata": {},
   "outputs": [],
   "source": []
  },
  {
   "cell_type": "code",
   "execution_count": null,
   "metadata": {},
   "outputs": [],
   "source": []
  },
  {
   "cell_type": "code",
   "execution_count": null,
   "metadata": {},
   "outputs": [],
   "source": []
  },
  {
   "cell_type": "code",
   "execution_count": null,
   "metadata": {},
   "outputs": [],
   "source": []
  },
  {
   "cell_type": "code",
   "execution_count": null,
   "metadata": {},
   "outputs": [],
   "source": []
  },
  {
   "cell_type": "code",
   "execution_count": null,
   "metadata": {},
   "outputs": [],
   "source": []
  },
  {
   "cell_type": "code",
   "execution_count": null,
   "metadata": {},
   "outputs": [],
   "source": []
  },
  {
   "cell_type": "code",
   "execution_count": null,
   "metadata": {},
   "outputs": [],
   "source": []
  }
 ],
 "metadata": {
  "kernelspec": {
   "display_name": "py_37",
   "language": "python",
   "name": "python3"
  },
  "language_info": {
   "codemirror_mode": {
    "name": "ipython",
    "version": 3
   },
   "file_extension": ".py",
   "mimetype": "text/x-python",
   "name": "python",
   "nbconvert_exporter": "python",
   "pygments_lexer": "ipython3",
   "version": "3.6.10"
  }
 },
 "nbformat": 4,
 "nbformat_minor": 2
}
